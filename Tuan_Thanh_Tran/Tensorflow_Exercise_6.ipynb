{
 "cells": [
  {
   "cell_type": "markdown",
   "metadata": {},
   "source": [
    "**5. (Optional) Cài lại bài Linear regression và Logistic regression dùng Gradient tape trong tensorflow.**"
   ]
  },
  {
   "cell_type": "markdown",
   "metadata": {},
   "source": [
    "**- Linear Regression** "
   ]
  },
  {
   "cell_type": "code",
   "execution_count": 1,
   "metadata": {},
   "outputs": [],
   "source": [
    "# import necessary libraries\n",
    "import pandas as pd\n",
    "import numpy as np\n",
    "import matplotlib.pyplot as plt\n",
    "import tensorflow as tf\n",
    "%matplotlib inline"
   ]
  },
  {
   "cell_type": "code",
   "execution_count": 2,
   "metadata": {},
   "outputs": [
    {
     "data": {
      "text/html": [
       "<div>\n",
       "<style scoped>\n",
       "    .dataframe tbody tr th:only-of-type {\n",
       "        vertical-align: middle;\n",
       "    }\n",
       "\n",
       "    .dataframe tbody tr th {\n",
       "        vertical-align: top;\n",
       "    }\n",
       "\n",
       "    .dataframe thead th {\n",
       "        text-align: right;\n",
       "    }\n",
       "</style>\n",
       "<table border=\"1\" class=\"dataframe\">\n",
       "  <thead>\n",
       "    <tr style=\"text-align: right;\">\n",
       "      <th></th>\n",
       "      <th>TV</th>\n",
       "      <th>Radio</th>\n",
       "      <th>Newspaper</th>\n",
       "      <th>Sales</th>\n",
       "    </tr>\n",
       "  </thead>\n",
       "  <tbody>\n",
       "    <tr>\n",
       "      <th>0</th>\n",
       "      <td>230.1</td>\n",
       "      <td>37.8</td>\n",
       "      <td>69.2</td>\n",
       "      <td>22.1</td>\n",
       "    </tr>\n",
       "    <tr>\n",
       "      <th>1</th>\n",
       "      <td>44.5</td>\n",
       "      <td>39.3</td>\n",
       "      <td>45.1</td>\n",
       "      <td>10.4</td>\n",
       "    </tr>\n",
       "    <tr>\n",
       "      <th>2</th>\n",
       "      <td>17.2</td>\n",
       "      <td>45.9</td>\n",
       "      <td>69.3</td>\n",
       "      <td>12.0</td>\n",
       "    </tr>\n",
       "    <tr>\n",
       "      <th>3</th>\n",
       "      <td>151.5</td>\n",
       "      <td>41.3</td>\n",
       "      <td>58.5</td>\n",
       "      <td>16.5</td>\n",
       "    </tr>\n",
       "    <tr>\n",
       "      <th>4</th>\n",
       "      <td>180.8</td>\n",
       "      <td>10.8</td>\n",
       "      <td>58.4</td>\n",
       "      <td>17.9</td>\n",
       "    </tr>\n",
       "  </tbody>\n",
       "</table>\n",
       "</div>"
      ],
      "text/plain": [
       "      TV  Radio  Newspaper  Sales\n",
       "0  230.1   37.8       69.2   22.1\n",
       "1   44.5   39.3       45.1   10.4\n",
       "2   17.2   45.9       69.3   12.0\n",
       "3  151.5   41.3       58.5   16.5\n",
       "4  180.8   10.8       58.4   17.9"
      ]
     },
     "execution_count": 2,
     "metadata": {},
     "output_type": "execute_result"
    }
   ],
   "source": [
    "# read data\n",
    "df = pd.read_csv('advertising.csv')\n",
    "df.head()"
   ]
  },
  {
   "cell_type": "code",
   "execution_count": 3,
   "metadata": {},
   "outputs": [
    {
     "data": {
      "text/html": [
       "<div>\n",
       "<style scoped>\n",
       "    .dataframe tbody tr th:only-of-type {\n",
       "        vertical-align: middle;\n",
       "    }\n",
       "\n",
       "    .dataframe tbody tr th {\n",
       "        vertical-align: top;\n",
       "    }\n",
       "\n",
       "    .dataframe thead th {\n",
       "        text-align: right;\n",
       "    }\n",
       "</style>\n",
       "<table border=\"1\" class=\"dataframe\">\n",
       "  <thead>\n",
       "    <tr style=\"text-align: right;\">\n",
       "      <th></th>\n",
       "      <th>TV</th>\n",
       "      <th>Radio</th>\n",
       "      <th>Newspaper</th>\n",
       "      <th>Sales</th>\n",
       "    </tr>\n",
       "  </thead>\n",
       "  <tbody>\n",
       "    <tr>\n",
       "      <th>0</th>\n",
       "      <td>0.775786</td>\n",
       "      <td>0.762097</td>\n",
       "      <td>0.605981</td>\n",
       "      <td>0.807087</td>\n",
       "    </tr>\n",
       "    <tr>\n",
       "      <th>1</th>\n",
       "      <td>0.148123</td>\n",
       "      <td>0.792339</td>\n",
       "      <td>0.394019</td>\n",
       "      <td>0.346457</td>\n",
       "    </tr>\n",
       "    <tr>\n",
       "      <th>2</th>\n",
       "      <td>0.055800</td>\n",
       "      <td>0.925403</td>\n",
       "      <td>0.606860</td>\n",
       "      <td>0.409449</td>\n",
       "    </tr>\n",
       "    <tr>\n",
       "      <th>3</th>\n",
       "      <td>0.509976</td>\n",
       "      <td>0.832661</td>\n",
       "      <td>0.511873</td>\n",
       "      <td>0.586614</td>\n",
       "    </tr>\n",
       "    <tr>\n",
       "      <th>4</th>\n",
       "      <td>0.609063</td>\n",
       "      <td>0.217742</td>\n",
       "      <td>0.510994</td>\n",
       "      <td>0.641732</td>\n",
       "    </tr>\n",
       "  </tbody>\n",
       "</table>\n",
       "</div>"
      ],
      "text/plain": [
       "         TV     Radio  Newspaper     Sales\n",
       "0  0.775786  0.762097   0.605981  0.807087\n",
       "1  0.148123  0.792339   0.394019  0.346457\n",
       "2  0.055800  0.925403   0.606860  0.409449\n",
       "3  0.509976  0.832661   0.511873  0.586614\n",
       "4  0.609063  0.217742   0.510994  0.641732"
      ]
     },
     "execution_count": 3,
     "metadata": {},
     "output_type": "execute_result"
    }
   ],
   "source": [
    "# min-max normalization\n",
    "normalized_df = (df - df.min()) / (df.max() - df.min())\n",
    "normalized_df.head()"
   ]
  },
  {
   "cell_type": "code",
   "execution_count": 4,
   "metadata": {},
   "outputs": [],
   "source": [
    "# convert to numpy\n",
    "X = normalized_df.iloc[:, :-1].to_numpy()\n",
    "y = normalized_df.iloc[:, -1].to_numpy()\n",
    "y = y.reshape((-1, 1))"
   ]
  },
  {
   "cell_type": "code",
   "execution_count": 5,
   "metadata": {},
   "outputs": [],
   "source": [
    "# concatenation [1 X]\n",
    "intercept = np.ones((X.shape[0], 1))\n",
    "X = np.concatenate((intercept, X), axis=1)"
   ]
  },
  {
   "cell_type": "code",
   "execution_count": 6,
   "metadata": {},
   "outputs": [],
   "source": [
    "# shuffle\n",
    "inds = np.arange(X.shape[0])\n",
    "np.random.shuffle(inds)\n",
    "X = X[inds]\n",
    "y = y[inds]"
   ]
  },
  {
   "cell_type": "code",
   "execution_count": 7,
   "metadata": {},
   "outputs": [],
   "source": [
    "# split into train, valuation and test set\n",
    "X_train, X_val, X_test, y_train, y_val, y_test = X[:140, :], X[140:170, :], X[170:, :], \\\n",
    "                                                 y[:140], y[140:170], y[170:]\n",
    "X_train_size = X_train.shape[0]\n",
    "inds = np.arange(X_train_size)"
   ]
  },
  {
   "cell_type": "code",
   "execution_count": 8,
   "metadata": {},
   "outputs": [],
   "source": [
    "# predict    \n",
    "def predict(x, W):\n",
    "    return x @ W"
   ]
  },
  {
   "cell_type": "code",
   "execution_count": 9,
   "metadata": {},
   "outputs": [],
   "source": [
    "# training\n",
    "learning_rate = 0.1\n",
    "num_epochs = 500"
   ]
  },
  {
   "cell_type": "code",
   "execution_count": 10,
   "metadata": {},
   "outputs": [],
   "source": [
    "# loss function\n",
    "loss = tf.keras.losses.MeanSquaredError()"
   ]
  },
  {
   "cell_type": "code",
   "execution_count": 11,
   "metadata": {},
   "outputs": [
    {
     "name": "stdout",
     "output_type": "stream",
     "text": [
      "W:  [[ 0.11603106]\n",
      " [ 0.65327311]\n",
      " [ 0.22811489]\n",
      " [-0.06451544]]\n",
      "Test loss:  0.007184356916695833\n"
     ]
    },
    {
     "data": {
      "image/png": "[encoded data removed]",
      "text/plain": [
       "<Figure size 432x288 with 1 Axes>"
      ]
     },
     "metadata": {
      "needs_background": "light"
     },
     "output_type": "display_data"
    }
   ],
   "source": [
    "# initialize weight\n",
    "W = tf.Variable(tf.random.normal((4, 1), dtype=tf.float64))\n",
    "\n",
    "# for debug\n",
    "train_losses = []\n",
    "val_losses = []\n",
    "\n",
    "for epoch in range(num_epochs):\n",
    "    np.random.shuffle(inds)\n",
    "    X_train = X_train[inds]\n",
    "    y_train = y_train[inds]\n",
    "    with tf.GradientTape() as t:\n",
    "        # output\n",
    "        output = predict(X_train, W)\n",
    "        \n",
    "        # loss\n",
    "        loss_v = loss(y_train, output)\n",
    "        train_losses.append(loss_v.numpy())\n",
    "        \n",
    "        # gradient\n",
    "        dW = t.gradient(loss_v, W)\n",
    "        \n",
    "        # update\n",
    "        W.assign_sub(learning_rate * dW)\n",
    "\n",
    "    # evaluation\n",
    "    val_losses.append(loss(y_val, predict(X_val, W)).numpy())\n",
    "\n",
    "print('W: ', W.numpy())\n",
    "print('Test loss: ', loss(y_test, predict(X_test, W)).numpy())\n",
    "    \n",
    "# plotting\n",
    "plt.plot(train_losses, color='b', label='training')\n",
    "plt.plot(val_losses, color='r', label='evaluation')\n",
    "plt.xlabel('iteration')\n",
    "plt.ylabel('Loss')\n",
    "plt.legend()\n",
    "plt.show()"
   ]
  },
  {
   "cell_type": "code",
   "execution_count": null,
   "metadata": {},
   "outputs": [],
   "source": []
  },
  {
   "cell_type": "markdown",
   "metadata": {},
   "source": [
    "**- Logistics Regression** "
   ]
  },
  {
   "cell_type": "code",
   "execution_count": 12,
   "metadata": {},
   "outputs": [],
   "source": [
    "# import necessary libraries\n",
    "import pandas as pd\n",
    "import numpy as np\n",
    "import matplotlib.pyplot as plot\n",
    "import tensorflow as tf\n",
    "%matplotlib inline"
   ]
  },
  {
   "cell_type": "code",
   "execution_count": 13,
   "metadata": {},
   "outputs": [],
   "source": [
    "iris = np.genfromtxt('iris_full_2class.csv', dtype=None, delimiter=',', skip_header=1) \n",
    "X = iris[:, 0:4]\n",
    "y = iris[:, 4]\n",
    "y = y.reshape((-1, 1))"
   ]
  },
  {
   "cell_type": "code",
   "execution_count": 14,
   "metadata": {},
   "outputs": [],
   "source": [
    "# normalization\n",
    "maxi = np.max(X, axis=0)\n",
    "mini = np.min(X, axis=0)\n",
    "X = (X-mini) / (maxi-mini)"
   ]
  },
  {
   "cell_type": "code",
   "execution_count": 15,
   "metadata": {},
   "outputs": [],
   "source": [
    "# concatenation [1 X]\n",
    "intercept = np.ones((X.shape[0], 1))\n",
    "X = np.concatenate((intercept, X), axis=1)"
   ]
  },
  {
   "cell_type": "code",
   "execution_count": 16,
   "metadata": {},
   "outputs": [],
   "source": [
    "# shuffle\n",
    "inds = np.arange(X.shape[0])\n",
    "np.random.shuffle(inds)\n",
    "X = X[inds]\n",
    "y = y[inds]"
   ]
  },
  {
   "cell_type": "code",
   "execution_count": 17,
   "metadata": {},
   "outputs": [],
   "source": [
    "# split into train, valuation and test set\n",
    "X_train, X_val, X_test, y_train, y_val, y_test = X[:70, :], X[70:80, :], X[80:, :], \\\n",
    "                                                 y[:70], y[70:80], y[80:]\n",
    "X_train_size = X_train.shape[0]\n",
    "inds = np.arange(X_train_size)"
   ]
  },
  {
   "cell_type": "code",
   "execution_count": 18,
   "metadata": {},
   "outputs": [],
   "source": [
    "# predict    \n",
    "def predict(x, W):\n",
    "    return tf.math.sigmoid(x @ W)"
   ]
  },
  {
   "cell_type": "code",
   "execution_count": 19,
   "metadata": {},
   "outputs": [],
   "source": [
    "# training\n",
    "learning_rate = 0.1\n",
    "num_epochs = 500"
   ]
  },
  {
   "cell_type": "code",
   "execution_count": 20,
   "metadata": {},
   "outputs": [],
   "source": [
    "# loss function\n",
    "loss = tf.keras.losses.BinaryCrossentropy()"
   ]
  },
  {
   "cell_type": "code",
   "execution_count": 21,
   "metadata": {},
   "outputs": [
    {
     "name": "stdout",
     "output_type": "stream",
     "text": [
      "W:  [[-1.53369994]\n",
      " [ 0.83653931]\n",
      " [-1.85574494]\n",
      " [ 2.90129062]\n",
      " [ 2.39244463]]\n",
      "Testing loss:  0.12267597019672394\n",
      "Testing accuracy:  1.0\n"
     ]
    },
    {
     "data": {
      "text/plain": [
       "<matplotlib.legend.Legend at 0x7fbb0009ea60>"
      ]
     },
     "execution_count": 21,
     "metadata": {},
     "output_type": "execute_result"
    },
    {
     "data": {
      "image/png": "[encoded data removed]",
      "text/plain": [
       "<Figure size 1296x360 with 2 Axes>"
      ]
     },
     "metadata": {
      "needs_background": "light"
     },
     "output_type": "display_data"
    }
   ],
   "source": [
    "# initialize weight\n",
    "W = tf.Variable(tf.random.normal((5, 1), dtype=tf.float64))\n",
    "\n",
    "# for debug\n",
    "train_losses = []\n",
    "val_losses = []\n",
    "train_acc = []\n",
    "val_acc = []\n",
    "\n",
    "for epoch in range(num_epochs):\n",
    "    np.random.shuffle(inds)\n",
    "    X_train = X_train[inds]\n",
    "    y_train = y_train[inds]\n",
    "    with tf.GradientTape() as t:\n",
    "        # output\n",
    "        output = predict(X_train, W)\n",
    "        \n",
    "        # loss\n",
    "        loss_v = loss(y_train, output)\n",
    "        train_losses.append(loss_v.numpy())\n",
    "        \n",
    "        # gradient\n",
    "        dW = t.gradient(loss_v, W)\n",
    "        \n",
    "        # update\n",
    "        W.assign_sub(learning_rate * dW)\n",
    "    \n",
    "    # accuracy\n",
    "    output = predict(X_train, W)\n",
    "    preds = output.numpy().round()\n",
    "    acc = (preds == y_train).mean()\n",
    "    train_acc.append(acc)\n",
    "        \n",
    "    # evaluation\n",
    "    output = predict(X_val, W)\n",
    "    loss_v = loss(y_val, output)\n",
    "    val_losses.append(loss_v.numpy())\n",
    "    preds = output.numpy().round()\n",
    "    acc = (preds == y_val).mean()\n",
    "    val_acc.append(acc)\n",
    "\n",
    "print(\"W: \", W.numpy())\n",
    "print('Testing loss: ', loss(y_test, predict(X_test, W)).numpy())\n",
    "print('Testing accuracy: ',(predict(X_test, W).numpy().round() == y_test).mean()) \n",
    "\n",
    "# plotting\n",
    "fig, axs = plt.subplots(1, 2, figsize=(18,5))\n",
    "axs[0].plot(train_losses, color='b', label='training')\n",
    "axs[0].plot(val_losses, color='r', label='evaluation')\n",
    "axs[0].set(xlabel='iteration', ylabel='losses')\n",
    "axs[1].plot(train_acc, color='b', label='training')\n",
    "axs[1].plot(val_acc, color='r', label='evaluation')\n",
    "axs[1].set(xlabel='iteration', ylabel='accuracy')\n",
    "axs[0].legend()\n",
    "axs[1].legend()"
   ]
  },
  {
   "cell_type": "code",
   "execution_count": null,
   "metadata": {},
   "outputs": [],
   "source": []
  }
 ],
 "metadata": {
  "kernelspec": {
   "display_name": "Python 3",
   "language": "python",
   "name": "python3"
  },
  "language_info": {
   "codemirror_mode": {
    "name": "ipython",
    "version": 3
   },
   "file_extension": ".py",
   "mimetype": "text/x-python",
   "name": "python",
   "nbconvert_exporter": "python",
   "pygments_lexer": "ipython3",
   "version": "3.8.3"
  }
 },
 "nbformat": 4,
 "nbformat_minor": 4
}
