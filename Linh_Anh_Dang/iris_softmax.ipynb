{
  "nbformat": 4,
  "nbformat_minor": 0,
  "metadata": {
    "colab": {
      "name": "iris_softmax.ipynb",
      "provenance": [],
      "collapsed_sections": []
    },
    "kernelspec": {
      "name": "python3",
      "display_name": "Python 3"
    },
    "accelerator": "GPU"
  },
  "cells": [
    {
      "cell_type": "code",
      "metadata": {
        "colab": {
          "base_uri": "https://localhost:8080/"
        },
        "id": "U0ljKS7PNfI5",
        "outputId": "26ba269d-9b09-43cf-e912-473d1bf5d85f"
      },
      "source": [
        "from google.colab import drive\r\n",
        "drive.mount('./gdrive')\r\n",
        "%cd './gdrive/MyDrive/AI INSIGHT 2020/W3'"
      ],
      "execution_count": null,
      "outputs": [
        {
          "output_type": "stream",
          "text": [
            "Mounted at ./gdrive\n",
            "/content/gdrive/MyDrive/AI INSIGHT 2020/W3\n"
          ],
          "name": "stdout"
        }
      ]
    },
    {
      "cell_type": "code",
      "metadata": {
        "id": "TC_2XyAJTzMo"
      },
      "source": [
        "import numpy as np\r\n",
        "import matplotlib.pyplot as plt"
      ],
      "execution_count": null,
      "outputs": []
    },
    {
      "cell_type": "markdown",
      "metadata": {
        "id": "vU3z9vxUOYlF"
      },
      "source": [
        "# **Load data**"
      ]
    },
    {
      "cell_type": "code",
      "metadata": {
        "id": "7eV1oYbaN70b"
      },
      "source": [
        "data = np.genfromtxt('iris_full.csv', skip_header=1, delimiter=',')\r\n",
        "data_size = data.shape[0]\r\n",
        "inds = np.arange(data_size)\r\n",
        "np.random.shuffle(inds)\r\n",
        "data = data[inds]\r\n",
        "\r\n",
        "X = data[:, :4]\r\n",
        "intercept = np.ones((data_size, 1))\r\n",
        "X = np.concatenate((X, intercept), axis=1)\r\n",
        "Y = data[:, 4]\r\n",
        "\r\n",
        "train_size = round(data_size*0.8)\r\n",
        "X_train = X[0:train_size]\r\n",
        "Y_train = Y[0:train_size]\r\n",
        "\r\n",
        "X_test = X[train_size:]\r\n",
        "Y_test = Y[train_size:]"
      ],
      "execution_count": null,
      "outputs": []
    },
    {
      "cell_type": "markdown",
      "metadata": {
        "id": "BrnkS0f3kfMQ"
      },
      "source": [
        "# **Stochastic**"
      ]
    },
    {
      "cell_type": "code",
      "metadata": {
        "id": "ptRwJgK-iZIQ"
      },
      "source": [
        "def predict(x, theta):\r\n",
        "    z = np.dot(theta.T, x)\r\n",
        "    return np.exp(z-np.max(z))/np.sum(np.exp(z-np.max(z)))\r\n",
        "\r\n",
        "def compute_loss(y_hat, delta):\r\n",
        "    return -np.sum(delta*np.log(y_hat))\r\n",
        "\r\n",
        "def compute_grad(x, y_hat, delta):\r\n",
        "    return np.multiply(x, (y_hat-delta).T)"
      ],
      "execution_count": null,
      "outputs": []
    },
    {
      "cell_type": "code",
      "metadata": {
        "id": "dyYGKZBMX_FN"
      },
      "source": [
        "n_classes = len(set(Y.tolist()))\r\n",
        "n_features = 4\r\n",
        "\r\n",
        "theta = np.random.randn(n_features+1, n_classes)\r\n",
        "\r\n",
        "eta = 0.01\r\n",
        "losses = []\r\n",
        "accuracy_train = []\r\n",
        "accuracy_test = []\r\n",
        "n_epochs = 50\r\n",
        "m = 1\r\n",
        "for epoch in range(n_epochs):\r\n",
        "    for i in range(train_size):\r\n",
        "        x = X_train[i:i+m].T\r\n",
        "        y = Y_train[i:i+m]\r\n",
        "\r\n",
        "        delta = np.arange(n_classes).reshape(n_classes, m) == y\r\n",
        "        print('Delta: ', delta)\r\n",
        "        \r\n",
        "        y_hat = predict(x, theta)\r\n",
        "\r\n",
        "        loss = compute_loss(y_hat, delta)\r\n",
        "        losses.append(loss)\r\n",
        "        print('Loss: ', loss)\r\n",
        "\r\n",
        "        grad = compute_grad(x, y_hat, delta)\r\n",
        "\r\n",
        "        theta = theta - eta*grad\r\n",
        "        print('Theta: ', theta)\r\n",
        "\r\n",
        "        # Evaluate\r\n",
        "        pred_train = predict(X_train.T, theta)\r\n",
        "        acc_train = (np.argmax(pred_train, axis=0) == Y_train).mean()\r\n",
        "        accuracy_train.append(acc_train)\r\n",
        "\r\n",
        "        pred_test = predict(X_test.T, theta)\r\n",
        "        acc_test = (np.argmax(pred_test, axis=0) == Y_test).mean()\r\n",
        "        accuracy_test.append(acc_test)\r\n",
        "        print('Accuracy: [train set]: {}, [test set]: {}'.format(acc_train, acc_test))"
      ],
      "execution_count": null,
      "outputs": []
    },
    {
      "cell_type": "code",
      "metadata": {
        "colab": {
          "base_uri": "https://localhost:8080/",
          "height": 312
        },
        "id": "LY2dOQ5H09Ql",
        "outputId": "0eb3f4dc-fc25-4fec-a14f-b376a00043e0"
      },
      "source": [
        "fig, (ax1, ax2) = plt.subplots(2)\r\n",
        "fig.suptitle('Loss and Accuracy (Stochastic')\r\n",
        "ax1.plot(losses, 'tab:blue')\r\n",
        "ax2.plot(accuracy_train, 'tab:orange')"
      ],
      "execution_count": null,
      "outputs": [
        {
          "output_type": "execute_result",
          "data": {
            "text/plain": [
              "[<matplotlib.lines.Line2D at 0x7f0bc9b83a90>]"
            ]
          },
          "metadata": {
            "tags": []
          },
          "execution_count": 6
        },
        {
          "output_type": "display_data",
          "data": {
            "image/png": "[encoded data removed]",
            "text/plain": [
              "<Figure size 432x288 with 2 Axes>"
            ]
          },
          "metadata": {
            "tags": [],
            "needs_background": "light"
          }
        }
      ]
    },
    {
      "cell_type": "code",
      "metadata": {
        "colab": {
          "base_uri": "https://localhost:8080/"
        },
        "id": "2A1t0pyIBEB4",
        "outputId": "303eb960-95ff-41ce-c8bb-8ed52b53ece3"
      },
      "source": [
        "delta*np.log(y_hat)"
      ],
      "execution_count": null,
      "outputs": [
        {
          "output_type": "execute_result",
          "data": {
            "text/plain": [
              "array([[-0.        ],\n",
              "       [-0.31044088],\n",
              "       [-0.        ]])"
            ]
          },
          "metadata": {
            "tags": []
          },
          "execution_count": 8
        }
      ]
    },
    {
      "cell_type": "markdown",
      "metadata": {
        "id": "v1OZHCq56dgO"
      },
      "source": [
        "# **Mini-batches**"
      ]
    },
    {
      "cell_type": "code",
      "metadata": {
        "id": "xfzaYqSty4cI"
      },
      "source": [
        "def predict_batch(x, theta):\r\n",
        "    z = np.dot(theta.T, x)\r\n",
        "    return np.exp(z-np.max(z))/np.sum(np.exp(z-np.max(z)), axis=0)\r\n",
        "\r\n",
        "def compute_loss_batch(y_hat, delta, batch_size):\r\n",
        "    a = -np.sum(delta*np.log(y_hat), axis=0).reshape(1, batch_size)\r\n",
        "    print('a: ', a)\r\n",
        "    return a.mean(axis=1)\r\n",
        "\r\n",
        "def compute_grad_batch(x, y_hat, delta, batch_size):\r\n",
        "    return np.dot(x, (y_hat-delta).T)/batch_size"
      ],
      "execution_count": null,
      "outputs": []
    },
    {
      "cell_type": "code",
      "metadata": {
        "id": "Spj4ccme2BPn"
      },
      "source": [
        "n_classes = len(set(Y.tolist()))\r\n",
        "n_features = 4\r\n",
        "\r\n",
        "theta = np.random.randn(n_features+1, n_classes)\r\n",
        "\r\n",
        "eta = 0.01\r\n",
        "losses = []\r\n",
        "accuracy_train = []\r\n",
        "accuracy_test = []\r\n",
        "n_epochs = 80\r\n",
        "m = 32\r\n",
        "for epoch in range(n_epochs):\r\n",
        "    for i in range(0, train_size, m):\r\n",
        "        if i+m > train_size:\r\n",
        "            batch_size = train_size - i\r\n",
        "        else:\r\n",
        "            batch_size = m\r\n",
        "\r\n",
        "        x = X_train[i:i+batch_size].T\r\n",
        "        y = Y_train[i:i+batch_size].reshape(1, batch_size)\r\n",
        "\r\n",
        "        delta = np.tile(np.arange(n_classes).reshape(n_classes, 1), (1, batch_size)) == y\r\n",
        "\r\n",
        "        y_hat = predict_batch(x, theta)\r\n",
        "\r\n",
        "        loss = compute_loss_batch(y_hat, delta, batch_size)\r\n",
        "        losses.append(loss)\r\n",
        "        print('Loss: ', loss)\r\n",
        "\r\n",
        "        grad = compute_grad_batch(x, y_hat, delta, batch_size)\r\n",
        "\r\n",
        "        theta = theta - eta*grad\r\n",
        "        print('Theta: ', theta)\r\n",
        "\r\n",
        "        # Evaluate\r\n",
        "        pred_train = predict_batch(X_train.T, theta)\r\n",
        "        acc_train = (np.argmax(pred_train, axis=0) == Y_train).mean()\r\n",
        "        accuracy_train.append(acc_train)\r\n",
        "\r\n",
        "        pred_test = predict_batch(X_test.T, theta)\r\n",
        "        acc_test = (np.argmax(pred_test, axis=0) == Y_test).mean()\r\n",
        "        accuracy_test.append(acc_test)\r\n",
        "        print('Accuracy: [train set]: {}, [test set]: {}'.format(acc_train, acc_test))"
      ],
      "execution_count": null,
      "outputs": []
    },
    {
      "cell_type": "code",
      "metadata": {
        "colab": {
          "base_uri": "https://localhost:8080/",
          "height": 312
        },
        "id": "iISYIHrl3oFa",
        "outputId": "e80e9c34-5ffa-45c3-9bfa-ac89fbb9e049"
      },
      "source": [
        "fig, (ax1, ax2) = plt.subplots(2)\r\n",
        "fig.suptitle('Loss and Accuracy (Stochastic')\r\n",
        "ax1.plot(losses, 'tab:blue')\r\n",
        "ax2.plot(accuracy_train, 'tab:orange')"
      ],
      "execution_count": null,
      "outputs": [
        {
          "output_type": "execute_result",
          "data": {
            "text/plain": [
              "[<matplotlib.lines.Line2D at 0x7f0bbf942be0>]"
            ]
          },
          "metadata": {
            "tags": []
          },
          "execution_count": 58
        },
        {
          "output_type": "display_data",
          "data": {
            "image/png": "[encoded data removed]",
            "text/plain": [
              "<Figure size 432x288 with 2 Axes>"
            ]
          },
          "metadata": {
            "tags": [],
            "needs_background": "light"
          }
        }
      ]
    },
    {
      "cell_type": "code",
      "metadata": {
        "id": "wrk0wc66Gkzo"
      },
      "source": [
        ""
      ],
      "execution_count": null,
      "outputs": []
    }
  ]
}