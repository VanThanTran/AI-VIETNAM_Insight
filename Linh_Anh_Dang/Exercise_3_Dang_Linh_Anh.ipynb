{
  "nbformat": 4,
  "nbformat_minor": 0,
  "metadata": {
    "colab": {
      "name": "Exercise 3 - Dang Linh Anh.ipynb",
      "provenance": [],
      "collapsed_sections": [],
      "toc_visible": true
    },
    "kernelspec": {
      "name": "python3",
      "display_name": "Python 3"
    }
  },
  "cells": [
    {
      "cell_type": "code",
      "metadata": {
        "colab": {
          "base_uri": "https://localhost:8080/"
        },
        "id": "seFd2JXrYpFs",
        "outputId": "f7872063-7254-4446-d6c7-3bd6e867a2a3"
      },
      "source": [
        "from google.colab import drive\r\n",
        "drive.mount('./gdrive')\r\n",
        "\r\n",
        "%cd './gdrive/MyDrive/AI INSIGHT 2020/W2'"
      ],
      "execution_count": null,
      "outputs": [
        {
          "output_type": "stream",
          "text": [
            "Mounted at ./gdrive\n",
            "/content/gdrive/MyDrive/AI INSIGHT 2020/W2\n"
          ],
          "name": "stdout"
        }
      ]
    },
    {
      "cell_type": "code",
      "metadata": {
        "id": "anegvplme4jJ"
      },
      "source": [
        "import numpy as np\r\n",
        "import math\r\n",
        "import matplotlib.pyplot as plt\r\n",
        "from tqdm import tqdm"
      ],
      "execution_count": null,
      "outputs": []
    },
    {
      "cell_type": "markdown",
      "metadata": {
        "id": "sZBKgt9PH5tG"
      },
      "source": [
        "## **1.** Đọc hiểu code (file ‘Logistic regression-petal-batch-sigmoid.ipynb’) về cách train bài toán logistic regression theo batch gradient descent."
      ]
    },
    {
      "cell_type": "markdown",
      "metadata": {
        "id": "We7sm1cDeSWX"
      },
      "source": [
        "**Getting data from iris_Petal_Logistic.csv**"
      ]
    },
    {
      "cell_type": "code",
      "metadata": {
        "id": "yjET0cdgeO40"
      },
      "source": [
        "data = np.genfromtxt('./iris_Petal_Logistic.csv', skip_header=1, delimiter=',')\r\n",
        "X = data[:,:2]\r\n",
        "X = np.concatenate((X, np.ones((X.shape[0], 1))), axis=1)\r\n",
        "Y = data[:,2]\r\n",
        "\r\n",
        "# Training set\r\n",
        "train_size = round(X.shape[0]*0.8)\r\n",
        "X_train = X[0:train_size]\r\n",
        "Y_train = Y[0:train_size]\r\n",
        "\r\n",
        "# Test set\r\n",
        "X_test = X[train_size:]\r\n",
        "Y_test = Y[train_size:]"
      ],
      "execution_count": null,
      "outputs": []
    },
    {
      "cell_type": "markdown",
      "metadata": {
        "id": "OP3Pv5NuiiPR"
      },
      "source": [
        "**Visualizing data**"
      ]
    },
    {
      "cell_type": "code",
      "metadata": {
        "colab": {
          "base_uri": "https://localhost:8080/",
          "height": 392
        },
        "id": "fLlbcfm_inUN",
        "outputId": "513a79b4-ecc2-43e5-948d-5b47a356f839"
      },
      "source": [
        "plt.figure(figsize=(10,6))\r\n",
        "plt.scatter(X[Y==0][:,0], X[Y==0][:,1], marker='^', label='0')\r\n",
        "plt.scatter(X[Y==1][:,0], X[Y==1][:,1], marker='o', label='1')\r\n",
        "plt.legend()"
      ],
      "execution_count": null,
      "outputs": [
        {
          "output_type": "execute_result",
          "data": {
            "text/plain": [
              "<matplotlib.legend.Legend at 0x7f4d9c8e00f0>"
            ]
          },
          "metadata": {
            "tags": []
          },
          "execution_count": 4
        },
        {
          "output_type": "display_data",
          "data": {
            "image/png": "[encoded data removed]",
            "text/plain": [
              "<Figure size 720x432 with 1 Axes>"
            ]
          },
          "metadata": {
            "tags": [],
            "needs_background": "light"
          }
        }
      ]
    },
    {
      "cell_type": "markdown",
      "metadata": {
        "id": "weFdbCNPIlVH"
      },
      "source": [
        "## **2.** Dựa vào file ‘**Logistic regression-petal-batch-sigmoid.ipynb**’, cài đặt lại theo 1-sample và m-sample.\r\n"
      ]
    },
    {
      "cell_type": "markdown",
      "metadata": {
        "id": "ZgbwpdMZO8Y-"
      },
      "source": [
        "> **$-$1-Sample**\r\n",
        "\r\n"
      ]
    },
    {
      "cell_type": "code",
      "metadata": {
        "id": "6eEViec_ApE_"
      },
      "source": [
        "def sigmoid(z):\r\n",
        "    return 1/(1+np.exp(-z))\r\n",
        "\r\n",
        "def forward(x, theta):\r\n",
        "    return sigmoid(np.dot(theta.T, x))\r\n",
        "\r\n",
        "def compute_loss(y_hat, y):\r\n",
        "    return (-y*math.log(y_hat) - (1-y)*math.log(1-y_hat))\r\n",
        "\r\n",
        "def compute_gradient(x, y_hat, y):\r\n",
        "    return x*(y_hat - y)\r\n",
        "\r\n",
        "def update_params(theta, grad, eta):\r\n",
        "    return theta - eta*grad"
      ],
      "execution_count": null,
      "outputs": []
    },
    {
      "cell_type": "code",
      "metadata": {
        "id": "wPK2m9MeSpIl"
      },
      "source": [
        "eta = 0.005\r\n",
        "n_epochs = 50\r\n",
        "losses = []\r\n",
        "accuracy = []\r\n",
        "\r\n",
        "theta = np.random.randn(X.shape[1], 1)\r\n",
        "\r\n",
        "for epoch in range(n_epochs):\r\n",
        "    inds = np.arange(X_train.shape[0])\r\n",
        "    np.random.shuffle(inds)\r\n",
        "    X_train = X_train[inds]\r\n",
        "    Y_train = Y_train[inds]\r\n",
        "    \r\n",
        "    for i in tqdm(range(train_size), desc='Samples'):\r\n",
        "        x = X_train[i].T.reshape(X.shape[1], 1)\r\n",
        "        y = Y_train[i]\r\n",
        "        \r\n",
        "        y_hat = forward(x, theta)\r\n",
        "        print('y_hat: {}'.format(y_hat))\r\n",
        "\r\n",
        "        loss = compute_loss(y_hat, y)\r\n",
        "        print('loss: {}'.format(loss))\r\n",
        "        losses.append(loss)\r\n",
        "\r\n",
        "        grad = compute_gradient(x, y_hat, y)\r\n",
        "\r\n",
        "        theta = update_params(theta, grad, eta)\r\n",
        "        \r\n",
        "        predict = np.where(forward(X_train.T, theta)>=0.5, 1, 0)\r\n",
        "        acc = np.where(predict==Y_train.T, 1, 0)\r\n",
        "        print(acc)\r\n",
        "        acc = np.sum(acc, axis=1)/train_size\r\n",
        "        print('Accuracy: {}'.format(acc))\r\n",
        "        accuracy.append(acc)"
      ],
      "execution_count": null,
      "outputs": []
    },
    {
      "cell_type": "code",
      "metadata": {
        "colab": {
          "base_uri": "https://localhost:8080/",
          "height": 312
        },
        "id": "4-JClZlCV5ME",
        "outputId": "0e58a478-3b19-4454-f2d0-17352c83ed98"
      },
      "source": [
        "fig, (ax1, ax2) = plt.subplots(2)\r\n",
        "fig.suptitle('Loss and Accuracy in 1-sample method')\r\n",
        "ax1.plot(losses, 'tab:blue')\r\n",
        "ax2.plot(accuracy, 'tab:orange')"
      ],
      "execution_count": null,
      "outputs": [
        {
          "output_type": "execute_result",
          "data": {
            "text/plain": [
              "[<matplotlib.lines.Line2D at 0x7fcce13c8828>]"
            ]
          },
          "metadata": {
            "tags": []
          },
          "execution_count": 7
        },
        {
          "output_type": "display_data",
          "data": {
            "image/png": "[encoded data removed]",
            "text/plain": [
              "<Figure size 432x288 with 2 Axes>"
            ]
          },
          "metadata": {
            "tags": [],
            "needs_background": "light"
          }
        }
      ]
    },
    {
      "cell_type": "markdown",
      "metadata": {
        "id": "fCUCdbgspNsy"
      },
      "source": [
        "> **$-$m-Sample**\r\n",
        "\r\n"
      ]
    },
    {
      "cell_type": "code",
      "metadata": {
        "id": "Zkw-Sn6Optsj"
      },
      "source": [
        "def sigmoid(z):\r\n",
        "    return 1/(1+np.exp(-z))\r\n",
        "\r\n",
        "def forward(x, theta):\r\n",
        "    return sigmoid(np.dot(theta.T, x))\r\n",
        "\r\n",
        "def compute_loss(y_hat, y, batch_size):\r\n",
        "    print('Loss shape b4 sum', (-np.multiply(y, np.log(y_hat)) - np.multiply(1-y, np.log(1-y_hat)).shape)\r\n",
        "    return np.sum(-np.multiply(y, np.log(y_hat)) - np.multiply(1-y, np.log(1-y_hat)), axis=1)/batch_size\r\n",
        "\r\n",
        "def compute_gradient(x, y_hat, y, batch_size):\r\n",
        "    return np.dot(x, (y_hat - y).T)\r\n",
        "\r\n",
        "def update_params(theta, grad, eta):\r\n",
        "    return theta - eta*grad"
      ],
      "execution_count": null,
      "outputs": []
    },
    {
      "cell_type": "code",
      "metadata": {
        "id": "5RqCFR1peI8-"
      },
      "source": [
        ""
      ],
      "execution_count": null,
      "outputs": []
    },
    {
      "cell_type": "code",
      "metadata": {
        "id": "q8Yw61SCrMhz"
      },
      "source": [
        "eta = 0.005\r\n",
        "n_epochs = 50\r\n",
        "m = 32\r\n",
        "losses = []\r\n",
        "accuracy = []\r\n",
        "theta = np.random.randn(X.shape[1], 1)\r\n",
        "for epoch in range(n_epochs):\r\n",
        "    inds = np.arange(X_train.shape[0])\r\n",
        "    np.random.shuffle(inds)\r\n",
        "    X_train = X_train[inds]\r\n",
        "    Y_train = Y_train[inds]\r\n",
        "    for i in tqdm(range(0, train_size, m), desc='Mini-batches'):\r\n",
        "        if i+m > X_train.shape[0]:\r\n",
        "            batch_size = X_train.shape[0]-i\r\n",
        "        else:\r\n",
        "            batch_size = m\r\n",
        "\r\n",
        "        x = X_train[i:i+batch_size].T.reshape(X.shape[1], batch_size)\r\n",
        "        y = Y_train[i:i+batch_size].T.reshape(1, batch_size)\r\n",
        "\r\n",
        "        y_hat = forward(x, theta)\r\n",
        "\r\n",
        "        loss = compute_loss(y_hat, y, batch_size)\r\n",
        "        print('Loss: ', loss)\r\n",
        "        losses.append(loss)\r\n",
        "\r\n",
        "        grad = compute_gradient(x, y_hat, y, batch_size)\r\n",
        "\r\n",
        "        theta = update_params(theta, grad, eta)\r\n",
        "\r\n",
        "        # Accuracy\r\n",
        "        predict = np.where(forward(X_train.T, theta)>=0.5, 1, 0)\r\n",
        "        acc = np.where(predict==Y_train.T, 1, 0)\r\n",
        "        acc = np.sum(acc, axis=1)/train_size\r\n",
        "        print('Accuracy: {}'.format(acc))\r\n",
        "        accuracy.append(acc)"
      ],
      "execution_count": null,
      "outputs": []
    },
    {
      "cell_type": "code",
      "metadata": {
        "colab": {
          "base_uri": "https://localhost:8080/",
          "height": 312
        },
        "id": "0lL4js6ptFHZ",
        "outputId": "c3fb4e6c-489c-499b-f3e9-da8a6b1d6481"
      },
      "source": [
        "fig, (ax1, ax2) = plt.subplots(2)\r\n",
        "fig.suptitle('Loss and Accuracy in m-sample method')\r\n",
        "ax1.plot(losses, 'tab:blue')\r\n",
        "ax2.plot(accuracy, 'tab:orange')"
      ],
      "execution_count": null,
      "outputs": [
        {
          "output_type": "execute_result",
          "data": {
            "text/plain": [
              "[<matplotlib.lines.Line2D at 0x7fcce12e1470>]"
            ]
          },
          "metadata": {
            "tags": []
          },
          "execution_count": 10
        },
        {
          "output_type": "display_data",
          "data": {
            "image/png": "[encoded data removed]",
            "text/plain": [
              "<Figure size 432x288 with 2 Axes>"
            ]
          },
          "metadata": {
            "tags": [],
            "needs_background": "light"
          }
        }
      ]
    },
    {
      "cell_type": "code",
      "metadata": {
        "colab": {
          "base_uri": "https://localhost:8080/"
        },
        "id": "O6mVuTe56ACJ",
        "outputId": "4638e24b-e688-4196-edcf-413f8b0d769b"
      },
      "source": [
        "predict_test = np.where(forward(X_test.T, theta) >= 0.5, 1, 0)\r\n",
        "acc_test = np.where(predict_test == Y_test.T, 1, 0)\r\n",
        "acc_test = np.sum(acc_test, axis=1)/X_test.shape[0]\r\n",
        "print('Accuracy in test set: {}'.format(acc_test))"
      ],
      "execution_count": null,
      "outputs": [
        {
          "output_type": "stream",
          "text": [
            "Accuracy in test set: [1.]\n"
          ],
          "name": "stdout"
        }
      ]
    },
    {
      "cell_type": "markdown",
      "metadata": {
        "id": "EEKu1DPRvW-8"
      },
      "source": [
        "# **3.** Dựa vào file ‘**Logistic regression-petal-batch-sigmoid.ipynb**’, cài đặt lại bài toán phân loại nhị phân dùng hàm tanh."
      ]
    },
    {
      "cell_type": "code",
      "metadata": {
        "id": "zhYgxmFvviXf"
      },
      "source": [
        "def tanh(z):\r\n",
        "    return 1 - 2/(np.exp(2*z)+1)\r\n",
        "\r\n",
        "def forward_tanh(x, theta):\r\n",
        "    return tanh(np.dot(theta.T, x))\r\n",
        "\r\n",
        "def compute_tanh_loss(y_hat, y, batch_size):\r\n",
        "    return np.sum(-np.multiply(y, np.log(y_hat)) - np.multiply(1-y, np.log(1-y_hat)), axis=1)/batch_size\r\n",
        "\r\n",
        "def compute_tanh_grad(x, y_hat, y, batch_size):\r\n",
        "    y_func = np.multiply(y_hat-y, 1+y)/y_hat\r\n",
        "    return 1/batch_size * np.dot(x, y_func.T)\r\n",
        "\r\n",
        "def update_params(theta, grad, eta):\r\n",
        "    return theta - eta*grad"
      ],
      "execution_count": null,
      "outputs": []
    },
    {
      "cell_type": "code",
      "metadata": {
        "id": "ps67Du1t2-BU",
        "colab": {
          "base_uri": "https://localhost:8080/"
        },
        "outputId": "e7a03eda-1fd0-46b4-dc8d-dd7dd17208da"
      },
      "source": [
        "eta = 0.001\r\n",
        "n_epochs = 100\r\n",
        "m = 32\r\n",
        "theta = np.random.randn(X.shape[1], 1)\r\n",
        "\r\n",
        "losses = []\r\n",
        "accuracy = []\r\n",
        "\r\n",
        "for epoch in range(n_epochs):\r\n",
        "    inds = np.arange(X_train.shape[0])\r\n",
        "    np.random.shuffle(inds)\r\n",
        "    X_train = X_train[inds]\r\n",
        "    Y_train = Y_train[inds]\r\n",
        "    \r\n",
        "    for i in tqdm(range(0, train_size, m), desc='Mini-batches'):\r\n",
        "        if i+m > X_train.shape[0]:\r\n",
        "            batch_size = X_train.shape[0]-i\r\n",
        "        else:\r\n",
        "            batch_size = m\r\n",
        "\r\n",
        "        x = X_train[i:i+batch_size].T.reshape(X.shape[1], batch_size)\r\n",
        "        y = Y_train[i:i+batch_size].T.reshape(1, batch_size)\r\n",
        "\r\n",
        "        y_hat = forward_tanh(x, theta)\r\n",
        "        y_hat = (y_hat + 1)/2 # processing y_hat\r\n",
        "        \r\n",
        "        loss = compute_tanh_loss(y_hat, y, batch_size)\r\n",
        "        print('Loss: ', loss)\r\n",
        "        losses.append(loss)\r\n",
        "\r\n",
        "        grad = compute_tanh_grad(x, y_hat, y, batch_size)\r\n",
        "\r\n",
        "        theta = update_params(theta, grad, eta)\r\n",
        "\r\n",
        "        # Accuracy\r\n",
        "        predict = (forward_tanh(X_train.T, theta) + 1)/2\r\n",
        "        predict = np.where(predict >= 0.5, 1, 0)\r\n",
        "        acc = np.where(predict==Y_train.T, 1, 0)\r\n",
        "        acc = np.sum(acc, axis=1)/train_size\r\n",
        "        print('Accuracy: {}'.format(acc))\r\n",
        "        accuracy.append(acc)"
      ],
      "execution_count": null,
      "outputs": [
        {
          "output_type": "stream",
          "text": [
            "Mini-batches: 100%|██████████| 3/3 [00:00<00:00, 647.37it/s]\n",
            "Mini-batches: 100%|██████████| 3/3 [00:00<00:00, 680.86it/s]\n",
            "Mini-batches: 100%|██████████| 3/3 [00:00<00:00, 748.94it/s]\n",
            "Mini-batches: 100%|██████████| 3/3 [00:00<00:00, 766.78it/s]\n",
            "Mini-batches: 100%|██████████| 3/3 [00:00<00:00, 734.00it/s]\n",
            "Mini-batches: 100%|██████████| 3/3 [00:00<00:00, 865.34it/s]\n",
            "Mini-batches: 100%|██████████| 3/3 [00:00<00:00, 798.71it/s]\n",
            "Mini-batches: 100%|██████████| 3/3 [00:00<00:00, 792.72it/s]\n",
            "Mini-batches: 100%|██████████| 3/3 [00:00<00:00, 859.55it/s]\n",
            "Mini-batches: 100%|██████████| 3/3 [00:00<00:00, 850.77it/s]\n",
            "Mini-batches: 100%|██████████| 3/3 [00:00<00:00, 817.39it/s]\n",
            "Mini-batches: 100%|██████████| 3/3 [00:00<00:00, 835.35it/s]\n",
            "Mini-batches: 100%|██████████| 3/3 [00:00<00:00, 872.48it/s]\n",
            "Mini-batches: 100%|██████████| 3/3 [00:00<00:00, 619.45it/s]\n",
            "Mini-batches: 100%|██████████| 3/3 [00:00<00:00, 748.27it/s]\n",
            "Mini-batches: 100%|██████████| 3/3 [00:00<00:00, 765.57it/s]\n",
            "Mini-batches: 100%|██████████| 3/3 [00:00<00:00, 139.57it/s]\n",
            "Mini-batches: 100%|██████████| 3/3 [00:00<00:00, 1285.94it/s]\n",
            "Mini-batches: 100%|██████████| 3/3 [00:00<00:00, 479.26it/s]\n",
            "Mini-batches: 100%|██████████| 3/3 [00:00<00:00, 683.97it/s]\n",
            "Mini-batches: 100%|██████████| 3/3 [00:00<00:00, 683.11it/s]\n",
            "Mini-batches: 100%|██████████| 3/3 [00:00<00:00, 686.35it/s]\n",
            "Mini-batches: 100%|██████████| 3/3 [00:00<00:00, 708.74it/s]\n",
            "Mini-batches:   0%|          | 0/3 [00:00<?, ?it/s]"
          ],
          "name": "stderr"
        },
        {
          "output_type": "stream",
          "text": [
            "Loss:  [0.7911242]\n",
            "Accuracy: [0.625]\n",
            "Loss:  [0.60709731]\n",
            "Accuracy: [0.625]\n",
            "Loss:  [0.63595692]\n",
            "Accuracy: [0.625]\n",
            "Loss:  [0.5544671]\n",
            "Accuracy: [0.625]\n",
            "Loss:  [0.58768976]\n",
            "Accuracy: [0.625]\n",
            "Loss:  [0.64178905]\n",
            "Accuracy: [0.625]\n",
            "Loss:  [0.46306936]\n",
            "Accuracy: [0.625]\n",
            "Loss:  [0.62196777]\n",
            "Accuracy: [0.625]\n",
            "Loss:  [0.42181716]\n",
            "Accuracy: [0.625]\n",
            "Loss:  [0.54391373]\n",
            "Accuracy: [0.625]\n",
            "Loss:  [0.42184493]\n",
            "Accuracy: [0.6375]\n",
            "Loss:  [0.4374182]\n",
            "Accuracy: [0.6375]\n",
            "Loss:  [0.53197764]\n",
            "Accuracy: [0.65]\n",
            "Loss:  [0.26297022]\n",
            "Accuracy: [0.65]\n",
            "Loss:  [0.60471643]\n",
            "Accuracy: [0.65]\n",
            "Loss:  [0.34433163]\n",
            "Accuracy: [0.6625]\n",
            "Loss:  [0.50927895]\n",
            "Accuracy: [0.6625]\n",
            "Loss:  [0.33636499]\n",
            "Accuracy: [0.6625]\n",
            "Loss:  [0.28056958]\n",
            "Accuracy: [0.6625]\n",
            "Loss:  [0.42136951]\n",
            "Accuracy: [0.6875]\n",
            "Loss:  [0.53605786]\n",
            "Accuracy: [0.7625]\n",
            "Loss:  [0.32609981]\n",
            "Accuracy: [0.7625]\n",
            "Loss:  [0.38569724]\n",
            "Accuracy: [0.7625]\n",
            "Loss:  [0.41218623]\n",
            "Accuracy: [0.8]\n",
            "Loss:  [0.324617]\n",
            "Accuracy: [0.825]\n",
            "Loss:  [0.38655009]\n",
            "Accuracy: [0.825]\n",
            "Loss:  [0.33604974]\n",
            "Accuracy: [0.825]\n",
            "Loss:  [0.2428284]\n",
            "Accuracy: [0.825]\n",
            "Loss:  [0.41695075]\n",
            "Accuracy: [0.8375]\n",
            "Loss:  [0.37927408]\n",
            "Accuracy: [0.8625]\n",
            "Loss:  [0.30002361]\n",
            "Accuracy: [0.8625]\n",
            "Loss:  [0.39571681]\n",
            "Accuracy: [0.875]\n",
            "Loss:  [0.24989881]\n",
            "Accuracy: [0.875]\n",
            "Loss:  [0.3487436]\n",
            "Accuracy: [0.9]\n",
            "Loss:  [0.29131321]\n",
            "Accuracy: [0.9]\n",
            "Loss:  [0.31560421]\n",
            "Accuracy: [0.9125]\n",
            "Loss:  [0.33420815]\n",
            "Accuracy: [0.9125]\n",
            "Loss:  [0.2698093]\n",
            "Accuracy: [0.9125]\n",
            "Loss:  [0.34644651]\n",
            "Accuracy: [0.925]\n",
            "Loss:  [0.35543635]\n",
            "Accuracy: [0.925]\n",
            "Loss:  [0.30010294]\n",
            "Accuracy: [0.925]\n",
            "Loss:  [0.20511139]\n",
            "Accuracy: [0.925]\n",
            "Loss:  [0.27415316]\n",
            "Accuracy: [0.925]\n",
            "Loss:  [0.24893736]\n",
            "Accuracy: [0.925]\n",
            "Loss:  [0.44289392]\n",
            "Accuracy: [0.925]\n",
            "Loss:  [0.2837552]\n",
            "Accuracy: [0.925]\n",
            "Loss:  [0.27739625]\n",
            "Accuracy: [0.925]\n",
            "Loss:  [0.3272759]\n",
            "Accuracy: [0.925]\n",
            "Loss:  [0.32717617]\n",
            "Accuracy: [0.925]\n",
            "Loss:  [0.30109688]\n",
            "Accuracy: [0.925]\n",
            "Loss:  [0.16441185]\n",
            "Accuracy: [0.925]\n",
            "Loss:  [0.2304175]\n",
            "Accuracy: [0.925]\n",
            "Loss:  [0.33791818]\n",
            "Accuracy: [0.925]\n",
            "Loss:  [0.26694201]\n",
            "Accuracy: [0.925]\n",
            "Loss:  [0.28674508]\n",
            "Accuracy: [0.925]\n",
            "Loss:  [0.27460376]\n",
            "Accuracy: [0.925]\n",
            "Loss:  [0.25695691]\n",
            "Accuracy: [0.925]\n",
            "Loss:  [0.23571923]\n",
            "Accuracy: [0.925]\n",
            "Loss:  [0.25157213]\n",
            "Accuracy: [0.925]\n",
            "Loss:  [0.38624883]\n",
            "Accuracy: [0.9375]\n",
            "Loss:  [0.27843945]\n",
            "Accuracy: [0.9375]\n",
            "Loss:  [0.27135384]\n",
            "Accuracy: [0.9375]\n",
            "Loss:  [0.23587299]\n",
            "Accuracy: [0.9375]\n",
            "Loss:  [0.23756595]\n",
            "Accuracy: [0.9375]\n",
            "Loss:  [0.22819388]\n",
            "Accuracy: [0.9375]\n",
            "Loss:  [0.39047295]\n",
            "Accuracy: [0.9375]\n",
            "Loss:  [0.25076744]\n",
            "Accuracy: [0.9375]\n",
            "Loss:  [0.23540376]\n",
            "Accuracy: [0.9375]\n",
            "Loss:  [0.32578435]\n",
            "Accuracy: [0.95]\n",
            "Loss:  [0.22197045]\n",
            "Accuracy: [0.95]\n",
            "Loss:  [0.30096149]\n",
            "Accuracy: [0.9625]\n",
            "Loss:  [0.23695195]\n",
            "Accuracy: [0.9625]\n"
          ],
          "name": "stdout"
        },
        {
          "output_type": "stream",
          "text": [
            "Mini-batches: 100%|██████████| 3/3 [00:00<00:00, 656.18it/s]\n",
            "Mini-batches: 100%|██████████| 3/3 [00:00<00:00, 628.27it/s]\n",
            "Mini-batches: 100%|██████████| 3/3 [00:00<00:00, 531.78it/s]\n",
            "Mini-batches: 100%|██████████| 3/3 [00:00<00:00, 646.21it/s]\n",
            "Mini-batches: 100%|██████████| 3/3 [00:00<00:00, 691.79it/s]\n",
            "Mini-batches: 100%|██████████| 3/3 [00:00<00:00, 583.19it/s]\n",
            "Mini-batches: 100%|██████████| 3/3 [00:00<00:00, 578.10it/s]\n",
            "Mini-batches: 100%|██████████| 3/3 [00:00<00:00, 526.09it/s]\n",
            "Mini-batches: 100%|██████████| 3/3 [00:00<00:00, 603.18it/s]\n",
            "Mini-batches: 100%|██████████| 3/3 [00:00<00:00, 792.47it/s]\n",
            "Mini-batches: 100%|██████████| 3/3 [00:00<00:00, 493.02it/s]\n",
            "Mini-batches: 100%|██████████| 3/3 [00:00<00:00, 552.51it/s]\n",
            "Mini-batches: 100%|██████████| 3/3 [00:00<00:00, 593.59it/s]\n",
            "Mini-batches: 100%|██████████| 3/3 [00:00<00:00, 654.81it/s]\n",
            "Mini-batches: 100%|██████████| 3/3 [00:00<00:00, 581.95it/s]\n",
            "Mini-batches: 100%|██████████| 3/3 [00:00<00:00, 1316.07it/s]\n",
            "Mini-batches: 100%|██████████| 3/3 [00:00<00:00, 731.86it/s]\n",
            "Mini-batches: 100%|██████████| 3/3 [00:00<00:00, 756.41it/s]\n",
            "Mini-batches: 100%|██████████| 3/3 [00:00<00:00, 744.77it/s]\n",
            "Mini-batches: 100%|██████████| 3/3 [00:00<00:00, 1741.10it/s]\n",
            "Mini-batches: 100%|██████████| 3/3 [00:00<00:00, 702.96it/s]\n",
            "Mini-batches: 100%|██████████| 3/3 [00:00<00:00, 489.25it/s]\n",
            "Mini-batches: 100%|██████████| 3/3 [00:00<00:00, 692.89it/s]"
          ],
          "name": "stderr"
        },
        {
          "output_type": "stream",
          "text": [
            "Loss:  [0.26756414]\n",
            "Accuracy: [0.9625]\n",
            "Loss:  [0.27141788]\n",
            "Accuracy: [0.9625]\n",
            "Loss:  [0.1911707]\n",
            "Accuracy: [0.9625]\n",
            "Loss:  [0.27374456]\n",
            "Accuracy: [0.9625]\n",
            "Loss:  [0.23046933]\n",
            "Accuracy: [0.9625]\n",
            "Loss:  [0.2510009]\n",
            "Accuracy: [0.9625]\n",
            "Loss:  [0.23301584]\n",
            "Accuracy: [0.9625]\n",
            "Loss:  [0.239831]\n",
            "Accuracy: [0.9625]\n",
            "Loss:  [0.3026417]\n",
            "Accuracy: [0.9625]\n",
            "Loss:  [0.25583118]\n",
            "Accuracy: [0.9625]\n",
            "Loss:  [0.22683838]\n",
            "Accuracy: [0.9625]\n",
            "Loss:  [0.27090939]\n",
            "Accuracy: [0.9625]\n",
            "Loss:  [0.27337894]\n",
            "Accuracy: [0.9625]\n",
            "Loss:  [0.23581075]\n",
            "Accuracy: [0.9625]\n",
            "Loss:  [0.20627255]\n",
            "Accuracy: [0.9625]\n",
            "Loss:  [0.24433942]\n",
            "Accuracy: [0.9625]\n",
            "Loss:  [0.26292896]\n",
            "Accuracy: [0.9625]\n",
            "Loss:  [0.20179325]\n",
            "Accuracy: [0.9625]\n",
            "Loss:  [0.25784932]\n",
            "Accuracy: [0.9625]\n",
            "Loss:  [0.23400351]\n",
            "Accuracy: [0.9625]\n",
            "Loss:  [0.22500842]\n",
            "Accuracy: [0.9625]\n",
            "Loss:  [0.25363814]\n",
            "Accuracy: [0.9625]\n",
            "Loss:  [0.19807983]\n",
            "Accuracy: [0.9625]\n",
            "Loss:  [0.29870206]\n",
            "Accuracy: [0.9625]\n",
            "Loss:  [0.21446523]\n",
            "Accuracy: [0.9625]\n",
            "Loss:  [0.26401977]\n",
            "Accuracy: [0.9875]\n",
            "Loss:  [0.23490107]\n",
            "Accuracy: [0.9875]\n",
            "Loss:  [0.22303429]\n",
            "Accuracy: [0.9875]\n",
            "Loss:  [0.22821804]\n",
            "Accuracy: [0.9875]\n",
            "Loss:  [0.28225505]\n",
            "Accuracy: [0.9875]\n",
            "Loss:  [0.19923853]\n",
            "Accuracy: [0.9875]\n",
            "Loss:  [0.26976624]\n",
            "Accuracy: [0.9875]\n",
            "Loss:  [0.23808579]\n",
            "Accuracy: [0.9875]\n",
            "Loss:  [0.20872736]\n",
            "Accuracy: [0.9875]\n",
            "Loss:  [0.24025411]\n",
            "Accuracy: [0.9875]\n",
            "Loss:  [0.2720559]\n",
            "Accuracy: [0.9875]\n",
            "Loss:  [0.2350687]\n",
            "Accuracy: [0.9875]\n",
            "Loss:  [0.22971868]\n",
            "Accuracy: [0.9875]\n",
            "Loss:  [0.23333756]\n",
            "Accuracy: [0.9875]\n",
            "Loss:  [0.27170311]\n",
            "Accuracy: [0.9875]\n",
            "Loss:  [0.21847827]\n",
            "Accuracy: [0.9875]\n",
            "Loss:  [0.17619596]\n",
            "Accuracy: [0.9875]\n",
            "Loss:  [0.2447266]\n",
            "Accuracy: [0.9875]\n",
            "Loss:  [0.19525337]\n",
            "Accuracy: [0.9875]\n",
            "Loss:  [0.27308394]\n",
            "Accuracy: [1.]\n",
            "Loss:  [0.25333836]\n",
            "Accuracy: [1.]\n",
            "Loss:  [0.19114272]\n",
            "Accuracy: [1.]\n",
            "Loss:  [0.25781224]\n",
            "Accuracy: [1.]\n",
            "Loss:  [0.22857224]\n",
            "Accuracy: [1.]\n",
            "Loss:  [0.20934862]\n",
            "Accuracy: [1.]\n",
            "Loss:  [0.26402728]\n",
            "Accuracy: [1.]\n",
            "Loss:  [0.22376996]\n",
            "Accuracy: [1.]\n",
            "Loss:  [0.24853572]\n",
            "Accuracy: [1.]\n",
            "Loss:  [0.18863938]\n",
            "Accuracy: [1.]\n",
            "Loss:  [0.21905149]\n",
            "Accuracy: [1.]\n",
            "Loss:  [0.21660952]\n",
            "Accuracy: [1.]\n",
            "Loss:  [0.25796392]\n",
            "Accuracy: [1.]\n",
            "Loss:  [0.22960252]\n",
            "Accuracy: [1.]\n",
            "Loss:  [0.20899593]\n",
            "Accuracy: [1.]\n",
            "Loss:  [0.2474329]\n",
            "Accuracy: [1.]\n",
            "Loss:  [0.23065108]\n",
            "Accuracy: [1.]\n",
            "Loss:  [0.22240965]\n",
            "Accuracy: [1.]\n",
            "Loss:  [0.21411653]\n",
            "Accuracy: [1.]\n",
            "Loss:  [0.23353621]\n",
            "Accuracy: [1.]\n",
            "Loss:  [0.20792158]\n",
            "Accuracy: [1.]\n",
            "Loss:  [0.23336505]\n",
            "Accuracy: [1.]\n"
          ],
          "name": "stdout"
        },
        {
          "output_type": "stream",
          "text": [
            "\n",
            "Mini-batches: 100%|██████████| 3/3 [00:00<00:00, 717.18it/s]\n",
            "Mini-batches: 100%|██████████| 3/3 [00:00<00:00, 560.71it/s]\n",
            "Mini-batches: 100%|██████████| 3/3 [00:00<00:00, 1222.59it/s]\n",
            "Mini-batches: 100%|██████████| 3/3 [00:00<00:00, 695.03it/s]\n",
            "Mini-batches: 100%|██████████| 3/3 [00:00<00:00, 696.27it/s]\n",
            "Mini-batches: 100%|██████████| 3/3 [00:00<00:00, 648.64it/s]\n",
            "Mini-batches: 100%|██████████| 3/3 [00:00<00:00, 651.32it/s]\n",
            "Mini-batches: 100%|██████████| 3/3 [00:00<00:00, 657.90it/s]\n",
            "Mini-batches: 100%|██████████| 3/3 [00:00<00:00, 641.17it/s]\n",
            "Mini-batches: 100%|██████████| 3/3 [00:00<00:00, 387.33it/s]\n",
            "Mini-batches: 100%|██████████| 3/3 [00:00<00:00, 595.02it/s]\n",
            "Mini-batches: 100%|██████████| 3/3 [00:00<00:00, 467.94it/s]\n",
            "Mini-batches: 100%|██████████| 3/3 [00:00<00:00, 711.70it/s]\n",
            "Mini-batches: 100%|██████████| 3/3 [00:00<00:00, 707.38it/s]\n",
            "Mini-batches: 100%|██████████| 3/3 [00:00<00:00, 732.89it/s]\n",
            "Mini-batches: 100%|██████████| 3/3 [00:00<00:00, 715.71it/s]\n",
            "Mini-batches: 100%|██████████| 3/3 [00:00<00:00, 694.57it/s]\n",
            "Mini-batches: 100%|██████████| 3/3 [00:00<00:00, 655.67it/s]\n",
            "Mini-batches: 100%|██████████| 3/3 [00:00<00:00, 653.08it/s]\n",
            "Mini-batches: 100%|██████████| 3/3 [00:00<00:00, 647.34it/s]\n",
            "Mini-batches: 100%|██████████| 3/3 [00:00<00:00, 608.43it/s]\n",
            "Mini-batches: 100%|██████████| 3/3 [00:00<00:00, 621.65it/s]\n",
            "Mini-batches:   0%|          | 0/3 [00:00<?, ?it/s]"
          ],
          "name": "stderr"
        },
        {
          "output_type": "stream",
          "text": [
            "Loss:  [0.2333525]\n",
            "Accuracy: [1.]\n",
            "Loss:  [0.22286451]\n",
            "Accuracy: [1.]\n",
            "Loss:  [0.1986552]\n",
            "Accuracy: [1.]\n",
            "Loss:  [0.22964692]\n",
            "Accuracy: [1.]\n",
            "Loss:  [0.21030077]\n",
            "Accuracy: [1.]\n",
            "Loss:  [0.2281455]\n",
            "Accuracy: [1.]\n",
            "Loss:  [0.23445487]\n",
            "Accuracy: [1.]\n",
            "Loss:  [0.21102289]\n",
            "Accuracy: [1.]\n",
            "Loss:  [0.21303539]\n",
            "Accuracy: [1.]\n",
            "Loss:  [0.20845819]\n",
            "Accuracy: [1.]\n",
            "Loss:  [0.22907274]\n",
            "Accuracy: [1.]\n",
            "Loss:  [0.22563482]\n",
            "Accuracy: [1.]\n",
            "Loss:  [0.20629525]\n",
            "Accuracy: [1.]\n",
            "Loss:  [0.2337193]\n",
            "Accuracy: [1.]\n",
            "Loss:  [0.21654191]\n",
            "Accuracy: [1.]\n",
            "Loss:  [0.24072712]\n",
            "Accuracy: [1.]\n",
            "Loss:  [0.19843454]\n",
            "Accuracy: [1.]\n",
            "Loss:  [0.21448381]\n",
            "Accuracy: [1.]\n",
            "Loss:  [0.24344499]\n",
            "Accuracy: [1.]\n",
            "Loss:  [0.18041524]\n",
            "Accuracy: [1.]\n",
            "Loss:  [0.24252116]\n",
            "Accuracy: [1.]\n",
            "Loss:  [0.20850644]\n",
            "Accuracy: [1.]\n",
            "Loss:  [0.22317737]\n",
            "Accuracy: [1.]\n",
            "Loss:  [0.22271793]\n",
            "Accuracy: [1.]\n",
            "Loss:  [0.24333394]\n",
            "Accuracy: [1.]\n",
            "Loss:  [0.19660225]\n",
            "Accuracy: [1.]\n",
            "Loss:  [0.20301706]\n",
            "Accuracy: [1.]\n",
            "Loss:  [0.21450496]\n",
            "Accuracy: [1.]\n",
            "Loss:  [0.22034859]\n",
            "Accuracy: [1.]\n",
            "Loss:  [0.21164253]\n",
            "Accuracy: [1.]\n",
            "Loss:  [0.21012369]\n",
            "Accuracy: [1.]\n",
            "Loss:  [0.23849708]\n",
            "Accuracy: [1.]\n",
            "Loss:  [0.18090869]\n",
            "Accuracy: [1.]\n",
            "Loss:  [0.21983291]\n",
            "Accuracy: [1.]\n",
            "Loss:  [0.20456224]\n",
            "Accuracy: [1.]\n",
            "Loss:  [0.22800982]\n",
            "Accuracy: [1.]\n",
            "Loss:  [0.21564045]\n",
            "Accuracy: [1.]\n",
            "Loss:  [0.19949204]\n",
            "Accuracy: [1.]\n",
            "Loss:  [0.24370484]\n",
            "Accuracy: [1.]\n",
            "Loss:  [0.20925011]\n",
            "Accuracy: [1.]\n",
            "Loss:  [0.21569783]\n",
            "Accuracy: [1.]\n",
            "Loss:  [0.22080628]\n",
            "Accuracy: [1.]\n",
            "Loss:  [0.22395361]\n",
            "Accuracy: [1.]\n",
            "Loss:  [0.2186902]\n",
            "Accuracy: [1.]\n",
            "Loss:  [0.18215567]\n",
            "Accuracy: [1.]\n",
            "Loss:  [0.21558955]\n",
            "Accuracy: [1.]\n",
            "Loss:  [0.22063401]\n",
            "Accuracy: [1.]\n",
            "Loss:  [0.19220984]\n",
            "Accuracy: [1.]\n",
            "Loss:  [0.21758726]\n",
            "Accuracy: [1.]\n",
            "Loss:  [0.21808335]\n",
            "Accuracy: [1.]\n",
            "Loss:  [0.19160855]\n",
            "Accuracy: [1.]\n",
            "Loss:  [0.19342945]\n",
            "Accuracy: [1.]\n",
            "Loss:  [0.22346872]\n",
            "Accuracy: [1.]\n",
            "Loss:  [0.22779009]\n",
            "Accuracy: [1.]\n",
            "Loss:  [0.18674284]\n",
            "Accuracy: [1.]\n",
            "Loss:  [0.24094762]\n",
            "Accuracy: [1.]\n",
            "Loss:  [0.20396762]\n",
            "Accuracy: [1.]\n",
            "Loss:  [0.21724213]\n",
            "Accuracy: [1.]\n",
            "Loss:  [0.19711134]\n",
            "Accuracy: [1.]\n",
            "Loss:  [0.22799401]\n",
            "Accuracy: [1.]\n",
            "Loss:  [0.1973024]\n",
            "Accuracy: [1.]\n",
            "Loss:  [0.23776818]\n",
            "Accuracy: [1.]\n",
            "Loss:  [0.18336732]\n",
            "Accuracy: [1.]\n",
            "Loss:  [0.20389014]\n",
            "Accuracy: [1.]\n",
            "Loss:  [0.24066073]\n",
            "Accuracy: [1.]\n",
            "Loss:  [0.16250009]\n",
            "Accuracy: [1.]\n",
            "Loss:  [0.20354875]\n",
            "Accuracy: [1.]\n",
            "Loss:  [0.22431857]\n",
            "Accuracy: [1.]\n",
            "Loss:  [0.1943045]\n",
            "Accuracy: [1.]\n"
          ],
          "name": "stdout"
        },
        {
          "output_type": "stream",
          "text": [
            "Mini-batches: 100%|██████████| 3/3 [00:00<00:00, 483.01it/s]\n",
            "Mini-batches: 100%|██████████| 3/3 [00:00<00:00, 421.76it/s]\n",
            "Mini-batches: 100%|██████████| 3/3 [00:00<00:00, 940.78it/s]\n",
            "Mini-batches: 100%|██████████| 3/3 [00:00<00:00, 568.51it/s]\n",
            "Mini-batches: 100%|██████████| 3/3 [00:00<00:00, 322.11it/s]\n",
            "Mini-batches: 100%|██████████| 3/3 [00:00<00:00, 631.20it/s]\n",
            "Mini-batches: 100%|██████████| 3/3 [00:00<00:00, 659.34it/s]\n",
            "Mini-batches: 100%|██████████| 3/3 [00:00<00:00, 622.70it/s]\n",
            "Mini-batches: 100%|██████████| 3/3 [00:00<00:00, 633.68it/s]\n",
            "Mini-batches: 100%|██████████| 3/3 [00:00<00:00, 445.35it/s]\n",
            "Mini-batches: 100%|██████████| 3/3 [00:00<00:00, 427.39it/s]\n",
            "Mini-batches: 100%|██████████| 3/3 [00:00<00:00, 524.42it/s]\n",
            "Mini-batches: 100%|██████████| 3/3 [00:00<00:00, 744.60it/s]\n",
            "Mini-batches: 100%|██████████| 3/3 [00:00<00:00, 529.43it/s]\n",
            "Mini-batches: 100%|██████████| 3/3 [00:00<00:00, 770.59it/s]\n",
            "Mini-batches: 100%|██████████| 3/3 [00:00<00:00, 849.74it/s]\n",
            "Mini-batches: 100%|██████████| 3/3 [00:00<00:00, 497.09it/s]\n",
            "Mini-batches: 100%|██████████| 3/3 [00:00<00:00, 446.01it/s]\n",
            "Mini-batches: 100%|██████████| 3/3 [00:00<00:00, 455.41it/s]\n",
            "Mini-batches:   0%|          | 0/3 [00:00<?, ?it/s]"
          ],
          "name": "stderr"
        },
        {
          "output_type": "stream",
          "text": [
            "Loss:  [0.21568635]\n",
            "Accuracy: [1.]\n",
            "Loss:  [0.22697117]\n",
            "Accuracy: [1.]\n",
            "Loss:  [0.16360593]\n",
            "Accuracy: [1.]\n",
            "Loss:  [0.21439361]\n",
            "Accuracy: [1.]\n",
            "Loss:  [0.20896993]\n",
            "Accuracy: [1.]\n",
            "Loss:  [0.2014849]\n",
            "Accuracy: [1.]\n",
            "Loss:  [0.20982389]\n",
            "Accuracy: [1.]\n",
            "Loss:  [0.20517985]\n",
            "Accuracy: [1.]\n",
            "Loss:  [0.21666144]\n",
            "Accuracy: [1.]\n",
            "Loss:  [0.22426053]\n",
            "Accuracy: [1.]\n",
            "Loss:  [0.19766752]\n",
            "Accuracy: [1.]\n",
            "Loss:  [0.20062492]\n",
            "Accuracy: [1.]\n",
            "Loss:  [0.22667112]\n",
            "Accuracy: [1.]\n",
            "Loss:  [0.19367451]\n",
            "Accuracy: [1.]\n",
            "Loss:  [0.20236208]\n",
            "Accuracy: [1.]\n",
            "Loss:  [0.19856899]\n",
            "Accuracy: [1.]\n",
            "Loss:  [0.22879644]\n",
            "Accuracy: [1.]\n",
            "Loss:  [0.18699124]\n",
            "Accuracy: [1.]\n",
            "Loss:  [0.18783351]\n",
            "Accuracy: [1.]\n",
            "Loss:  [0.22058703]\n",
            "Accuracy: [1.]\n",
            "Loss:  [0.22394261]\n",
            "Accuracy: [1.]\n",
            "Loss:  [0.19508188]\n",
            "Accuracy: [1.]\n",
            "Loss:  [0.23750389]\n",
            "Accuracy: [1.]\n",
            "Loss:  [0.1736823]\n",
            "Accuracy: [1.]\n",
            "Loss:  [0.21632979]\n",
            "Accuracy: [1.]\n",
            "Loss:  [0.22613811]\n",
            "Accuracy: [1.]\n",
            "Loss:  [0.15212165]\n",
            "Accuracy: [1.]\n",
            "Loss:  [0.20449862]\n",
            "Accuracy: [1.]\n",
            "Loss:  [0.21050354]\n",
            "Accuracy: [1.]\n",
            "Loss:  [0.20748044]\n",
            "Accuracy: [1.]\n",
            "Loss:  [0.20266313]\n",
            "Accuracy: [1.]\n",
            "Loss:  [0.22897771]\n",
            "Accuracy: [1.]\n",
            "Loss:  [0.17197032]\n",
            "Accuracy: [1.]\n",
            "Loss:  [0.1949447]\n",
            "Accuracy: [1.]\n",
            "Loss:  [0.21932308]\n",
            "Accuracy: [1.]\n",
            "Loss:  [0.20676866]\n",
            "Accuracy: [1.]\n",
            "Loss:  [0.18869067]\n",
            "Accuracy: [1.]\n",
            "Loss:  [0.23228373]\n",
            "Accuracy: [1.]\n",
            "Loss:  [0.19130301]\n",
            "Accuracy: [1.]\n",
            "Loss:  [0.22322805]\n",
            "Accuracy: [1.]\n",
            "Loss:  [0.20940446]\n",
            "Accuracy: [1.]\n",
            "Loss:  [0.1664329]\n",
            "Accuracy: [1.]\n",
            "Loss:  [0.2196283]\n",
            "Accuracy: [1.]\n",
            "Loss:  [0.20643316]\n",
            "Accuracy: [1.]\n",
            "Loss:  [0.17971773]\n",
            "Accuracy: [1.]\n",
            "Loss:  [0.20815058]\n",
            "Accuracy: [1.]\n",
            "Loss:  [0.19889082]\n",
            "Accuracy: [1.]\n",
            "Loss:  [0.21707641]\n",
            "Accuracy: [1.]\n",
            "Loss:  [0.18321141]\n",
            "Accuracy: [1.]\n",
            "Loss:  [0.23341419]\n",
            "Accuracy: [1.]\n",
            "Loss:  [0.19584679]\n",
            "Accuracy: [1.]\n",
            "Loss:  [0.19307251]\n",
            "Accuracy: [1.]\n",
            "Loss:  [0.21236644]\n",
            "Accuracy: [1.]\n",
            "Loss:  [0.21634903]\n",
            "Accuracy: [1.]\n"
          ],
          "name": "stdout"
        },
        {
          "output_type": "stream",
          "text": [
            "Mini-batches: 100%|██████████| 3/3 [00:00<00:00, 622.15it/s]\n",
            "Mini-batches: 100%|██████████| 3/3 [00:00<00:00, 665.06it/s]\n",
            "Mini-batches: 100%|██████████| 3/3 [00:00<00:00, 803.35it/s]\n",
            "Mini-batches: 100%|██████████| 3/3 [00:00<00:00, 871.57it/s]\n",
            "Mini-batches: 100%|██████████| 3/3 [00:00<00:00, 876.55it/s]\n",
            "Mini-batches: 100%|██████████| 3/3 [00:00<00:00, 1182.05it/s]\n",
            "Mini-batches: 100%|██████████| 3/3 [00:00<00:00, 669.73it/s]\n",
            "Mini-batches: 100%|██████████| 3/3 [00:00<00:00, 712.83it/s]\n",
            "Mini-batches: 100%|██████████| 3/3 [00:00<00:00, 710.06it/s]\n",
            "Mini-batches: 100%|██████████| 3/3 [00:00<00:00, 700.92it/s]\n",
            "Mini-batches: 100%|██████████| 3/3 [00:00<00:00, 727.71it/s]\n",
            "Mini-batches: 100%|██████████| 3/3 [00:00<00:00, 722.28it/s]\n",
            "Mini-batches: 100%|██████████| 3/3 [00:00<00:00, 753.69it/s]"
          ],
          "name": "stderr"
        },
        {
          "output_type": "stream",
          "text": [
            "Loss:  [0.18383979]\n",
            "Accuracy: [1.]\n",
            "Loss:  [0.21196532]\n",
            "Accuracy: [1.]\n",
            "Loss:  [0.23341023]\n",
            "Accuracy: [1.]\n",
            "Loss:  [0.20870913]\n",
            "Accuracy: [1.]\n",
            "Loss:  [0.1924691]\n",
            "Accuracy: [1.]\n",
            "Loss:  [0.21914969]\n",
            "Accuracy: [1.]\n",
            "Loss:  [0.2145829]\n",
            "Accuracy: [1.]\n",
            "Loss:  [0.20801187]\n",
            "Accuracy: [1.]\n",
            "Loss:  [0.1747804]\n",
            "Accuracy: [1.]\n",
            "Loss:  [0.2137318]\n",
            "Accuracy: [1.]\n",
            "Loss:  [0.19797844]\n",
            "Accuracy: [1.]\n",
            "Loss:  [0.19545827]\n",
            "Accuracy: [1.]\n",
            "Loss:  [0.19767387]\n",
            "Accuracy: [1.]\n",
            "Loss:  [0.1998822]\n",
            "Accuracy: [1.]\n",
            "Loss:  [0.22275594]\n",
            "Accuracy: [1.]\n",
            "Loss:  [0.21815678]\n",
            "Accuracy: [1.]\n",
            "Loss:  [0.19739439]\n",
            "Accuracy: [1.]\n",
            "Loss:  [0.18537762]\n",
            "Accuracy: [1.]\n",
            "Loss:  [0.20301296]\n",
            "Accuracy: [1.]\n",
            "Loss:  [0.18482258]\n",
            "Accuracy: [1.]\n",
            "Loss:  [0.24045969]\n",
            "Accuracy: [1.]\n",
            "Loss:  [0.20539034]\n",
            "Accuracy: [1.]\n",
            "Loss:  [0.20448411]\n",
            "Accuracy: [1.]\n",
            "Loss:  [0.19389398]\n",
            "Accuracy: [1.]\n",
            "Loss:  [0.22662475]\n",
            "Accuracy: [1.]\n",
            "Loss:  [0.18950655]\n",
            "Accuracy: [1.]\n",
            "Loss:  [0.18021157]\n",
            "Accuracy: [1.]\n",
            "Loss:  [0.1826969]\n",
            "Accuracy: [1.]\n",
            "Loss:  [0.24520735]\n",
            "Accuracy: [1.]\n",
            "Loss:  [0.15711638]\n",
            "Accuracy: [1.]\n",
            "Loss:  [0.20623225]\n",
            "Accuracy: [1.]\n",
            "Loss:  [0.18391989]\n",
            "Accuracy: [1.]\n",
            "Loss:  [0.2314769]\n",
            "Accuracy: [1.]\n",
            "Loss:  [0.20332626]\n",
            "Accuracy: [1.]\n",
            "Loss:  [0.21733317]\n",
            "Accuracy: [1.]\n",
            "Loss:  [0.16814214]\n",
            "Accuracy: [1.]\n",
            "Loss:  [0.22185356]\n",
            "Accuracy: [1.]\n",
            "Loss:  [0.18653788]\n",
            "Accuracy: [1.]\n",
            "Loss:  [0.19203303]\n",
            "Accuracy: [1.]\n"
          ],
          "name": "stdout"
        },
        {
          "output_type": "stream",
          "text": [
            "\n"
          ],
          "name": "stderr"
        }
      ]
    },
    {
      "cell_type": "code",
      "metadata": {
        "colab": {
          "base_uri": "https://localhost:8080/",
          "height": 312
        },
        "id": "eLjdjYjSoU2g",
        "outputId": "4c9e65d0-fc5c-4cf0-a337-0eb4da9d850d"
      },
      "source": [
        "fig, (ax1, ax2) = plt.subplots(2)\r\n",
        "fig.suptitle('Loss and Accuracy with tanh loss')\r\n",
        "ax1.plot(losses, 'tab:blue')\r\n",
        "ax2.plot(accuracy, 'tab:orange')"
      ],
      "execution_count": null,
      "outputs": [
        {
          "output_type": "execute_result",
          "data": {
            "text/plain": [
              "[<matplotlib.lines.Line2D at 0x7fccdff29da0>]"
            ]
          },
          "metadata": {
            "tags": []
          },
          "execution_count": 48
        },
        {
          "output_type": "display_data",
          "data": {
            "image/png": "[encoded data removed]",
            "text/plain": [
              "<Figure size 432x288 with 2 Axes>"
            ]
          },
          "metadata": {
            "tags": [],
            "needs_background": "light"
          }
        }
      ]
    },
    {
      "cell_type": "code",
      "metadata": {
        "colab": {
          "base_uri": "https://localhost:8080/"
        },
        "id": "aqyEin5-BYtk",
        "outputId": "6e0881fa-fda2-4a6c-938a-471b233a6d8d"
      },
      "source": [
        "predict_test = (forward_tanh(X_test.T, theta) + 1)/2\r\n",
        "predict_test = np.where(predict_test >= 0.5, 1, 0)\r\n",
        "acc_test = np.where(predict_test == Y_test.T, 1, 0)\r\n",
        "acc_test = np.sum(acc_test, axis=1)/X_test.shape[0]\r\n",
        "print('Accuracy in test set: {}'.format(acc_test))"
      ],
      "execution_count": null,
      "outputs": [
        {
          "output_type": "stream",
          "text": [
            "Accuracy in test set: [1.]\n"
          ],
          "name": "stdout"
        }
      ]
    },
    {
      "cell_type": "markdown",
      "metadata": {
        "id": "d4rrtalPrE2R"
      },
      "source": [
        "# **4.** Dựa vào file ‘**Logistic regression-petal-batch-sigmoid.ipynb**’, cài đặt lại bài toán phân loại nhị phân dùng MSE (L2 loss)."
      ]
    },
    {
      "cell_type": "code",
      "metadata": {
        "id": "7wUfCOmtpNY-"
      },
      "source": [
        "def forward(x, theta):\r\n",
        "    return np.dot(theta.T, x)\r\n",
        "\r\n",
        "def compute_MSE_loss(y_hat, y, batch_size):\r\n",
        "    return np.sum(np.multiply(y_hat-y, y_hat-y), axis=1)/batch_size\r\n",
        "\r\n",
        "def compute_MSE_grad(x, y_hat, y, batch_size):\r\n",
        "    y_func = (y_hat-y)*(1-y_hat)*y_hat\r\n",
        "    return 2*np.dot(x, y_func.T)/batch_size\r\n",
        "\r\n",
        "def update_params(theta, grad, eta):\r\n",
        "    return theta - eta*grad"
      ],
      "execution_count": null,
      "outputs": []
    },
    {
      "cell_type": "code",
      "metadata": {
        "id": "iq2CzXiycDJW"
      },
      "source": [
        "# Normalize data\r\n",
        "data_norm = data\r\n",
        "data_norm[:, :2] = (data_norm[:, :2] - np.mean(data_norm[:, :2]))/np.std(data_norm[:, :2])\r\n",
        "\r\n",
        "X_norm = data_norm[:,:2]\r\n",
        "X_norm = np.concatenate((X_norm, np.ones((X_norm.shape[0], 1))), axis=1)\r\n",
        "Y_norm = data_norm[:,2]\r\n"
      ],
      "execution_count": null,
      "outputs": []
    },
    {
      "cell_type": "code",
      "metadata": {
        "colab": {
          "base_uri": "https://localhost:8080/"
        },
        "id": "9HA05dtYtT6w",
        "outputId": "459a6ec2-602a-4d73-e884-0921b0ae27ac"
      },
      "source": [
        "eta = 0.0001\r\n",
        "n_epochs = 50\r\n",
        "m = 16\r\n",
        "theta = np.random.randn(X_norm.shape[1], 1)\r\n",
        "\r\n",
        "losses = []\r\n",
        "accuracy = []\r\n",
        "\r\n",
        "for epoch in range(n_epochs):\r\n",
        "    inds = np.arange(X_norm.shape[0])\r\n",
        "    np.random.shuffle(inds)\r\n",
        "    X_norm = X_norm[inds]\r\n",
        "    Y_norm = Y_norm[inds]\r\n",
        "    \r\n",
        "    for i in tqdm(range(0, X_norm.shape[1], m), desc='Mini-batches'):\r\n",
        "        if i+m > X_norm.shape[0]:\r\n",
        "            batch_size = X_norm.shape[0]-i\r\n",
        "        else:\r\n",
        "            batch_size = m\r\n",
        "\r\n",
        "        x = X_norm[i:i+batch_size].T.reshape(X_norm.shape[1], batch_size)\r\n",
        "        y = Y_norm[i:i+batch_size].T.reshape(1, batch_size)\r\n",
        "\r\n",
        "        y_hat = forward(x, theta)\r\n",
        "        \r\n",
        "        loss = compute_MSE_loss(y_hat, y, batch_size)\r\n",
        "        print('Loss: ', loss)\r\n",
        "        losses.append(loss)\r\n",
        "\r\n",
        "        grad = compute_MSE_grad(x, y_hat, y, batch_size)\r\n",
        "\r\n",
        "        theta = update_params(theta, grad, eta)\r\n",
        "\r\n",
        "        # Accuracy\r\n",
        "        predict = np.where(forward(X_norm.T, theta)>=0, 1, 0)\r\n",
        "        acc = np.where(predict==Y_norm.T, 1, 0)\r\n",
        "        acc = np.sum(acc, axis=1)/X_norm.shape[0]\r\n",
        "        print('Accuracy: {}'.format(acc))\r\n",
        "        accuracy.append(acc)"
      ],
      "execution_count": null,
      "outputs": [
        {
          "output_type": "stream",
          "text": [
            "Mini-batches: 100%|██████████| 1/1 [00:00<00:00, 267.66it/s]\n",
            "Mini-batches: 100%|██████████| 1/1 [00:00<00:00, 611.68it/s]\n",
            "Mini-batches: 100%|██████████| 1/1 [00:00<00:00, 630.25it/s]\n",
            "Mini-batches: 100%|██████████| 1/1 [00:00<00:00, 674.33it/s]\n",
            "Mini-batches: 100%|██████████| 1/1 [00:00<00:00, 514.01it/s]\n",
            "Mini-batches: 100%|██████████| 1/1 [00:00<00:00, 624.25it/s]\n",
            "Mini-batches: 100%|██████████| 1/1 [00:00<00:00, 564.05it/s]\n",
            "Mini-batches: 100%|██████████| 1/1 [00:00<00:00, 580.53it/s]\n",
            "Mini-batches: 100%|██████████| 1/1 [00:00<00:00, 531.53it/s]\n",
            "Mini-batches: 100%|██████████| 1/1 [00:00<00:00, 488.22it/s]\n",
            "Mini-batches: 100%|██████████| 1/1 [00:00<00:00, 543.66it/s]\n",
            "Mini-batches: 100%|██████████| 1/1 [00:00<00:00, 545.28it/s]\n",
            "Mini-batches: 100%|██████████| 1/1 [00:00<00:00, 545.07it/s]\n",
            "Mini-batches: 100%|██████████| 1/1 [00:00<00:00, 442.25it/s]\n",
            "Mini-batches: 100%|██████████| 1/1 [00:00<00:00, 527.65it/s]\n",
            "Mini-batches: 100%|██████████| 1/1 [00:00<00:00, 367.08it/s]\n",
            "Mini-batches: 100%|██████████| 1/1 [00:00<00:00, 402.76it/s]\n",
            "Mini-batches: 100%|██████████| 1/1 [00:00<00:00, 533.90it/s]\n",
            "Mini-batches: 100%|██████████| 1/1 [00:00<00:00, 519.80it/s]\n",
            "Mini-batches: 100%|██████████| 1/1 [00:00<00:00, 365.52it/s]\n",
            "Mini-batches: 100%|██████████| 1/1 [00:00<00:00, 449.79it/s]\n",
            "Mini-batches: 100%|██████████| 1/1 [00:00<00:00, 327.27it/s]\n",
            "Mini-batches: 100%|██████████| 1/1 [00:00<00:00, 407.17it/s]\n",
            "Mini-batches: 100%|██████████| 1/1 [00:00<00:00, 420.44it/s]\n",
            "Mini-batches: 100%|██████████| 1/1 [00:00<00:00, 625.74it/s]\n",
            "Mini-batches: 100%|██████████| 1/1 [00:00<00:00, 323.88it/s]\n",
            "Mini-batches: 100%|██████████| 1/1 [00:00<00:00, 278.65it/s]\n",
            "Mini-batches: 100%|██████████| 1/1 [00:00<00:00, 656.69it/s]\n",
            "Mini-batches: 100%|██████████| 1/1 [00:00<00:00, 353.47it/s]\n",
            "Mini-batches: 100%|██████████| 1/1 [00:00<00:00, 1356.06it/s]\n"
          ],
          "name": "stderr"
        },
        {
          "output_type": "stream",
          "text": [
            "Loss:  [7.0695376]\n",
            "Accuracy: [0.1]\n",
            "Loss:  [6.04378434]\n",
            "Accuracy: [0.1]\n",
            "Loss:  [7.21102166]\n",
            "Accuracy: [0.1]\n",
            "Loss:  [8.04877405]\n",
            "Accuracy: [0.1]\n",
            "Loss:  [7.31667815]\n",
            "Accuracy: [0.1]\n",
            "Loss:  [9.86393629]\n",
            "Accuracy: [0.1]\n",
            "Loss:  [9.27981254]\n",
            "Accuracy: [0.11]\n",
            "Loss:  [9.87348325]\n",
            "Accuracy: [0.11]\n",
            "Loss:  [4.36427931]\n",
            "Accuracy: [0.11]\n",
            "Loss:  [8.25603335]\n",
            "Accuracy: [0.11]\n",
            "Loss:  [7.05633476]\n",
            "Accuracy: [0.11]\n",
            "Loss:  [9.01871113]\n",
            "Accuracy: [0.11]\n",
            "Loss:  [6.14333249]\n",
            "Accuracy: [0.11]\n",
            "Loss:  [10.93607206]\n",
            "Accuracy: [0.11]\n",
            "Loss:  [10.60827755]\n",
            "Accuracy: [0.11]\n",
            "Loss:  [7.15114431]\n",
            "Accuracy: [0.11]\n",
            "Loss:  [7.83576041]\n",
            "Accuracy: [0.12]\n",
            "Loss:  [12.42198252]\n",
            "Accuracy: [0.12]\n",
            "Loss:  [9.97876191]\n",
            "Accuracy: [0.12]\n",
            "Loss:  [9.1130516]\n",
            "Accuracy: [0.17]\n",
            "Loss:  [11.79357651]\n",
            "Accuracy: [0.17]\n",
            "Loss:  [9.16639134]\n",
            "Accuracy: [0.17]\n",
            "Loss:  [7.44792148]\n",
            "Accuracy: [0.17]\n",
            "Loss:  [8.88016297]\n",
            "Accuracy: [0.17]\n",
            "Loss:  [4.55349587]\n",
            "Accuracy: [0.17]\n",
            "Loss:  [7.87088723]\n",
            "Accuracy: [0.17]\n",
            "Loss:  [9.24944808]\n",
            "Accuracy: [0.17]\n",
            "Loss:  [8.57416359]\n",
            "Accuracy: [0.17]\n",
            "Loss:  [6.91303167]\n",
            "Accuracy: [0.17]\n",
            "Loss:  [12.2451709]\n",
            "Accuracy: [0.17]\n"
          ],
          "name": "stdout"
        },
        {
          "output_type": "stream",
          "text": [
            "Mini-batches: 100%|██████████| 1/1 [00:00<00:00, 757.09it/s]\n",
            "Mini-batches: 100%|██████████| 1/1 [00:00<00:00, 429.30it/s]\n",
            "Mini-batches: 100%|██████████| 1/1 [00:00<00:00, 456.05it/s]\n",
            "Mini-batches: 100%|██████████| 1/1 [00:00<00:00, 399.61it/s]\n",
            "Mini-batches: 100%|██████████| 1/1 [00:00<00:00, 430.49it/s]\n",
            "Mini-batches: 100%|██████████| 1/1 [00:00<00:00, 440.76it/s]\n",
            "Mini-batches: 100%|██████████| 1/1 [00:00<00:00, 428.30it/s]\n",
            "Mini-batches: 100%|██████████| 1/1 [00:00<00:00, 493.33it/s]\n",
            "Mini-batches: 100%|██████████| 1/1 [00:00<00:00, 502.31it/s]\n",
            "Mini-batches: 100%|██████████| 1/1 [00:00<00:00, 446.58it/s]\n",
            "Mini-batches: 100%|██████████| 1/1 [00:00<00:00, 428.30it/s]\n",
            "Mini-batches: 100%|██████████| 1/1 [00:00<00:00, 367.92it/s]\n",
            "Mini-batches: 100%|██████████| 1/1 [00:00<00:00, 439.52it/s]\n",
            "Mini-batches: 100%|██████████| 1/1 [00:00<00:00, 476.46it/s]\n",
            "Mini-batches: 100%|██████████| 1/1 [00:00<00:00, 353.15it/s]\n",
            "Mini-batches: 100%|██████████| 1/1 [00:00<00:00, 422.98it/s]\n",
            "Mini-batches: 100%|██████████| 1/1 [00:00<00:00, 514.07it/s]\n",
            "Mini-batches: 100%|██████████| 1/1 [00:00<00:00, 430.72it/s]\n",
            "Mini-batches: 100%|██████████| 1/1 [00:00<00:00, 491.89it/s]\n",
            "Mini-batches: 100%|██████████| 1/1 [00:00<00:00, 704.33it/s]"
          ],
          "name": "stderr"
        },
        {
          "output_type": "stream",
          "text": [
            "Loss:  [9.59761382]\n",
            "Accuracy: [0.17]\n",
            "Loss:  [9.25485237]\n",
            "Accuracy: [0.18]\n",
            "Loss:  [11.15303234]\n",
            "Accuracy: [0.27]\n",
            "Loss:  [10.48337157]\n",
            "Accuracy: [0.27]\n",
            "Loss:  [14.00202442]\n",
            "Accuracy: [0.27]\n",
            "Loss:  [10.3649808]\n",
            "Accuracy: [0.27]\n",
            "Loss:  [9.09978523]\n",
            "Accuracy: [0.27]\n",
            "Loss:  [8.74400893]\n",
            "Accuracy: [0.27]\n",
            "Loss:  [13.4225826]\n",
            "Accuracy: [0.27]\n",
            "Loss:  [12.7970236]\n",
            "Accuracy: [0.27]\n",
            "Loss:  [7.34347858]\n",
            "Accuracy: [0.27]\n",
            "Loss:  [12.08694362]\n",
            "Accuracy: [0.27]\n",
            "Loss:  [15.36806561]\n",
            "Accuracy: [0.27]\n",
            "Loss:  [13.34364852]\n",
            "Accuracy: [0.31]\n",
            "Loss:  [10.96672384]\n",
            "Accuracy: [0.31]\n",
            "Loss:  [11.25869641]\n",
            "Accuracy: [0.39]\n",
            "Loss:  [9.04793411]\n",
            "Accuracy: [0.41]\n",
            "Loss:  [7.16209856]\n",
            "Accuracy: [0.41]\n",
            "Loss:  [14.76657256]\n",
            "Accuracy: [0.41]\n",
            "Loss:  [17.7607506]\n",
            "Accuracy: [0.41]\n"
          ],
          "name": "stdout"
        },
        {
          "output_type": "stream",
          "text": [
            "\n"
          ],
          "name": "stderr"
        }
      ]
    },
    {
      "cell_type": "code",
      "metadata": {
        "colab": {
          "base_uri": "https://localhost:8080/",
          "height": 312
        },
        "id": "E_WR-Qv7uqe0",
        "outputId": "1873704d-78d3-4fad-98d9-f7f2de8c6546"
      },
      "source": [
        "fig, (ax1, ax2) = plt.subplots(2)\r\n",
        "fig.suptitle('Loss and Accuracy with MSE loss')\r\n",
        "ax1.plot(losses, 'tab:blue')\r\n",
        "ax2.plot(accuracy, 'tab:orange')"
      ],
      "execution_count": null,
      "outputs": [
        {
          "output_type": "execute_result",
          "data": {
            "text/plain": [
              "[<matplotlib.lines.Line2D at 0x7f4d92435160>]"
            ]
          },
          "metadata": {
            "tags": []
          },
          "execution_count": 61
        },
        {
          "output_type": "display_data",
          "data": {
            "image/png": "[encoded data removed]",
            "text/plain": [
              "<Figure size 432x288 with 2 Axes>"
            ]
          },
          "metadata": {
            "tags": [],
            "needs_background": "light"
          }
        }
      ]
    },
    {
      "cell_type": "markdown",
      "metadata": {
        "id": "TmBRQbLfzEMt"
      },
      "source": [
        "# **5.** Cài đặt bài toán phân loại nhị phân cho data iris (**iris_full.csv**) có 4 feature."
      ]
    },
    {
      "cell_type": "markdown",
      "metadata": {
        "id": "tEdw0qRy1JMu"
      },
      "source": [
        "\r\n",
        "\r\n",
        "> **Getting data**\r\n",
        "\r\n",
        "\r\n",
        "\r\n"
      ]
    },
    {
      "cell_type": "code",
      "metadata": {
        "id": "458wG0aguyw5"
      },
      "source": [
        "data_path = './iris_full.csv'\r\n",
        "data = np.genfromtxt(data_path, delimiter=',', skip_header=1)\r\n",
        "X = data[:, 0:data.shape[1]-1]\r\n",
        "X = np.concatenate((X, np.ones((data.shape[0], 1))), axis=1)\r\n",
        "Y = data[:, data.shape[1]-1].reshape(data.shape[0], 1)\r\n",
        "\r\n",
        "n_features = data.shape[1] - 1      # Exclude bias\r\n",
        "\r\n",
        "train_size = round(data.shape[0]*0.8)\r\n",
        "\r\n",
        "X_train = X[0:train_size]\r\n",
        "Y_train = Y[0:train_size]\r\n",
        "\r\n",
        "X_test = X[train_size:]\r\n",
        "Y_test = Y[train_size:]"
      ],
      "execution_count": null,
      "outputs": []
    },
    {
      "cell_type": "code",
      "metadata": {
        "id": "kmrGMubm39uQ"
      },
      "source": [
        "def sigmoid(z):\r\n",
        "    return 1/(1+np.exp(-z))\r\n",
        "\r\n",
        "def forward(x, theta):\r\n",
        "    return sigmoid(np.dot(theta.T, x))\r\n",
        "\r\n",
        "def compute_loss(y_hat, y, batch_size):\r\n",
        "    return np.sum(-np.multiply(y, np.log(y_hat)) - np.multiply(1-y, np.log(1-y_hat)), axis=1)/batch_size\r\n",
        "\r\n",
        "def compute_gradient(x, y_hat, y, batch_size):\r\n",
        "    return np.dot(x, (y_hat - y).T)\r\n",
        "\r\n",
        "def update_params(theta, grad, eta):\r\n",
        "    return theta - eta*grad"
      ],
      "execution_count": null,
      "outputs": []
    },
    {
      "cell_type": "code",
      "metadata": {
        "colab": {
          "base_uri": "https://localhost:8080/"
        },
        "id": "V44sl1Cj5mDl",
        "outputId": "eef1def3-c99e-4d28-a4ba-25066ffd5582"
      },
      "source": [
        "eta = 0.005\r\n",
        "n_epochs = 50\r\n",
        "m = 32\r\n",
        "losses = []\r\n",
        "accuracy = []\r\n",
        "theta = np.random.randn(X.shape[1], 1)\r\n",
        "for epoch in range(n_epochs):\r\n",
        "    inds = np.arange(X_train.shape[0])\r\n",
        "    np.random.shuffle(inds)\r\n",
        "    X_train = X_train[inds]\r\n",
        "    Y_train = Y_train[inds]\r\n",
        "    \r\n",
        "    for i in tqdm(range(0, train_size, m), desc='Mini-batches'):\r\n",
        "        if i+m > X_train.shape[0]:\r\n",
        "            batch_size = X_train.shape[0]-i\r\n",
        "        else:\r\n",
        "            batch_size = m\r\n",
        "\r\n",
        "        x = X_train[i:i+batch_size].T.reshape(X.shape[1], batch_size)\r\n",
        "        y = Y_train[i:i+batch_size].T.reshape(1, batch_size)\r\n",
        "\r\n",
        "        y_hat = forward(x, theta)\r\n",
        "\r\n",
        "        loss = compute_loss(y_hat, y, batch_size)\r\n",
        "        print('Loss: ', loss)\r\n",
        "        losses.append(loss)\r\n",
        "\r\n",
        "        grad = compute_gradient(x, y_hat, y, batch_size)\r\n",
        "\r\n",
        "        theta = update_params(theta, grad, eta)\r\n",
        "\r\n",
        "        # Accuracy\r\n",
        "        predict = np.where(forward(X_train.T, theta)>=0.5, 1, 0)\r\n",
        "        acc = np.where(predict==Y_train.T, 1, 0)\r\n",
        "        acc = np.sum(acc, axis=1)/train_size\r\n",
        "        print('Accuracy: {}'.format(acc))\r\n",
        "        accuracy.append(acc)"
      ],
      "execution_count": null,
      "outputs": [
        {
          "output_type": "stream",
          "text": [
            "Mini-batches: 100%|██████████| 3/3 [00:00<00:00, 502.27it/s]\n",
            "Mini-batches: 100%|██████████| 3/3 [00:00<00:00, 562.21it/s]\n",
            "Mini-batches: 100%|██████████| 3/3 [00:00<00:00, 562.36it/s]\n",
            "Mini-batches: 100%|██████████| 3/3 [00:00<00:00, 707.38it/s]\n",
            "Mini-batches: 100%|██████████| 3/3 [00:00<00:00, 639.80it/s]\n",
            "Mini-batches: 100%|██████████| 3/3 [00:00<00:00, 609.55it/s]\n",
            "Mini-batches: 100%|██████████| 3/3 [00:00<00:00, 668.84it/s]\n",
            "Mini-batches: 100%|██████████| 3/3 [00:00<00:00, 591.25it/s]\n",
            "Mini-batches: 100%|██████████| 3/3 [00:00<00:00, 712.79it/s]\n",
            "Mini-batches: 100%|██████████| 3/3 [00:00<00:00, 1299.89it/s]\n",
            "Mini-batches: 100%|██████████| 3/3 [00:00<00:00, 1231.93it/s]\n",
            "Mini-batches: 100%|██████████| 3/3 [00:00<00:00, 617.41it/s]\n",
            "Mini-batches: 100%|██████████| 3/3 [00:00<00:00, 1354.60it/s]\n",
            "Mini-batches: 100%|██████████| 3/3 [00:00<00:00, 2125.49it/s]\n",
            "Mini-batches: 100%|██████████| 3/3 [00:00<00:00, 985.74it/s]\n",
            "Mini-batches: 100%|██████████| 3/3 [00:00<00:00, 1556.71it/s]\n",
            "Mini-batches: 100%|██████████| 3/3 [00:00<00:00, 1811.79it/s]\n",
            "Mini-batches: 100%|██████████| 3/3 [00:00<00:00, 1272.80it/s]\n",
            "Mini-batches: 100%|██████████| 3/3 [00:00<00:00, 1219.39it/s]\n",
            "Mini-batches: 100%|██████████| 3/3 [00:00<00:00, 1362.23it/s]\n",
            "Mini-batches: 100%|██████████| 3/3 [00:00<00:00, 542.32it/s]\n",
            "Mini-batches: 100%|██████████| 3/3 [00:00<00:00, 737.61it/s]"
          ],
          "name": "stderr"
        },
        {
          "output_type": "stream",
          "text": [
            "Loss:  [2.19959229]\n",
            "Accuracy: [0.0125]\n",
            "Loss:  [1.61941923]\n",
            "Accuracy: [0.1375]\n",
            "Loss:  [1.80693487]\n",
            "Accuracy: [0.]\n",
            "Loss:  [1.3490916]\n",
            "Accuracy: [0.625]\n",
            "Loss:  [1.4842441]\n",
            "Accuracy: [0.]\n",
            "Loss:  [1.12725834]\n",
            "Accuracy: [0.0125]\n",
            "Loss:  [1.14646877]\n",
            "Accuracy: [0.625]\n",
            "Loss:  [1.47330771]\n",
            "Accuracy: [0.375]\n",
            "Loss:  [1.06682135]\n",
            "Accuracy: [0.1375]\n",
            "Loss:  [0.80038393]\n",
            "Accuracy: [0.625]\n",
            "Loss:  [0.9009807]\n",
            "Accuracy: [0.375]\n",
            "Loss:  [0.92470156]\n",
            "Accuracy: [0.75]\n",
            "Loss:  [0.59482744]\n",
            "Accuracy: [1.]\n",
            "Loss:  [0.53313642]\n",
            "Accuracy: [0.9625]\n",
            "Loss:  [0.46646833]\n",
            "Accuracy: [0.7]\n",
            "Loss:  [0.52844329]\n",
            "Accuracy: [0.75]\n",
            "Loss:  [0.5535476]\n",
            "Accuracy: [0.625]\n",
            "Loss:  [0.49242557]\n",
            "Accuracy: [0.9625]\n",
            "Loss:  [0.32705206]\n",
            "Accuracy: [0.9125]\n",
            "Loss:  [0.43636244]\n",
            "Accuracy: [0.975]\n",
            "Loss:  [0.38888169]\n",
            "Accuracy: [1.]\n",
            "Loss:  [0.32216388]\n",
            "Accuracy: [0.975]\n",
            "Loss:  [0.30022846]\n",
            "Accuracy: [1.]\n",
            "Loss:  [0.28371866]\n",
            "Accuracy: [1.]\n",
            "Loss:  [0.26367908]\n",
            "Accuracy: [1.]\n",
            "Loss:  [0.24510854]\n",
            "Accuracy: [1.]\n",
            "Loss:  [0.23753547]\n",
            "Accuracy: [1.]\n",
            "Loss:  [0.238792]\n",
            "Accuracy: [1.]\n",
            "Loss:  [0.18991792]\n",
            "Accuracy: [1.]\n",
            "Loss:  [0.27045503]\n",
            "Accuracy: [1.]\n",
            "Loss:  [0.20389264]\n",
            "Accuracy: [1.]\n",
            "Loss:  [0.19798162]\n",
            "Accuracy: [1.]\n",
            "Loss:  [0.18953742]\n",
            "Accuracy: [1.]\n",
            "Loss:  [0.1828882]\n",
            "Accuracy: [1.]\n",
            "Loss:  [0.16756122]\n",
            "Accuracy: [1.]\n",
            "Loss:  [0.17651743]\n",
            "Accuracy: [1.]\n",
            "Loss:  [0.1590072]\n",
            "Accuracy: [1.]\n",
            "Loss:  [0.14958614]\n",
            "Accuracy: [1.]\n",
            "Loss:  [0.17751777]\n",
            "Accuracy: [1.]\n",
            "Loss:  [0.14664097]\n",
            "Accuracy: [1.]\n",
            "Loss:  [0.15087191]\n",
            "Accuracy: [1.]\n",
            "Loss:  [0.14234851]\n",
            "Accuracy: [1.]\n",
            "Loss:  [0.14063325]\n",
            "Accuracy: [1.]\n",
            "Loss:  [0.13689968]\n",
            "Accuracy: [1.]\n",
            "Loss:  [0.12649054]\n",
            "Accuracy: [1.]\n",
            "Loss:  [0.11412788]\n",
            "Accuracy: [1.]\n",
            "Loss:  [0.13555422]\n",
            "Accuracy: [1.]\n",
            "Loss:  [0.12161399]\n",
            "Accuracy: [1.]\n",
            "Loss:  [0.11726682]\n",
            "Accuracy: [1.]\n",
            "Loss:  [0.12686975]\n",
            "Accuracy: [1.]\n",
            "Loss:  [0.09341919]\n",
            "Accuracy: [1.]\n",
            "Loss:  [0.12256415]\n",
            "Accuracy: [1.]\n",
            "Loss:  [0.10046094]\n",
            "Accuracy: [1.]\n",
            "Loss:  [0.10244824]\n",
            "Accuracy: [1.]\n",
            "Loss:  [0.10300938]\n",
            "Accuracy: [1.]\n",
            "Loss:  [0.10875724]\n",
            "Accuracy: [1.]\n",
            "Loss:  [0.08927928]\n",
            "Accuracy: [1.]\n",
            "Loss:  [0.09565239]\n",
            "Accuracy: [1.]\n",
            "Loss:  [0.10234417]\n",
            "Accuracy: [1.]\n",
            "Loss:  [0.09089694]\n",
            "Accuracy: [1.]\n",
            "Loss:  [0.08436638]\n",
            "Accuracy: [1.]\n",
            "Loss:  [0.09308562]\n",
            "Accuracy: [1.]\n",
            "Loss:  [0.10134178]\n",
            "Accuracy: [1.]\n",
            "Loss:  [0.09377343]\n",
            "Accuracy: [1.]\n",
            "Loss:  [0.08418928]\n",
            "Accuracy: [1.]\n",
            "Loss:  [0.0782958]\n",
            "Accuracy: [1.]\n"
          ],
          "name": "stdout"
        },
        {
          "output_type": "stream",
          "text": [
            "\n",
            "Mini-batches: 100%|██████████| 3/3 [00:00<00:00, 977.85it/s]\n",
            "Mini-batches: 100%|██████████| 3/3 [00:00<00:00, 382.56it/s]\n",
            "Mini-batches: 100%|██████████| 3/3 [00:00<00:00, 1244.23it/s]\n",
            "Mini-batches: 100%|██████████| 3/3 [00:00<00:00, 718.94it/s]\n",
            "Mini-batches: 100%|██████████| 3/3 [00:00<00:00, 616.81it/s]\n",
            "Mini-batches: 100%|██████████| 3/3 [00:00<00:00, 219.21it/s]\n",
            "Mini-batches: 100%|██████████| 3/3 [00:00<00:00, 500.51it/s]\n",
            "Mini-batches: 100%|██████████| 3/3 [00:00<00:00, 415.73it/s]\n",
            "Mini-batches: 100%|██████████| 3/3 [00:00<00:00, 663.73it/s]\n",
            "Mini-batches: 100%|██████████| 3/3 [00:00<00:00, 692.66it/s]\n",
            "Mini-batches: 100%|██████████| 3/3 [00:00<00:00, 687.33it/s]\n",
            "Mini-batches: 100%|██████████| 3/3 [00:00<00:00, 350.07it/s]\n",
            "Mini-batches: 100%|██████████| 3/3 [00:00<00:00, 575.77it/s]\n",
            "Mini-batches: 100%|██████████| 3/3 [00:00<00:00, 756.59it/s]\n",
            "Mini-batches: 100%|██████████| 3/3 [00:00<00:00, 435.52it/s]\n",
            "Mini-batches: 100%|██████████| 3/3 [00:00<00:00, 1716.63it/s]\n",
            "Mini-batches: 100%|██████████| 3/3 [00:00<00:00, 1020.35it/s]\n",
            "Mini-batches:   0%|          | 0/3 [00:00<?, ?it/s]"
          ],
          "name": "stderr"
        },
        {
          "output_type": "stream",
          "text": [
            "Loss:  [0.08816297]\n",
            "Accuracy: [1.]\n",
            "Loss:  [0.08926129]\n",
            "Accuracy: [1.]\n",
            "Loss:  [0.06220288]\n",
            "Accuracy: [1.]\n",
            "Loss:  [0.09439097]\n",
            "Accuracy: [1.]\n",
            "Loss:  [0.08066068]\n",
            "Accuracy: [1.]\n",
            "Loss:  [0.05867559]\n",
            "Accuracy: [1.]\n",
            "Loss:  [0.07636638]\n",
            "Accuracy: [1.]\n",
            "Loss:  [0.07471623]\n",
            "Accuracy: [1.]\n",
            "Loss:  [0.07687722]\n",
            "Accuracy: [1.]\n",
            "Loss:  [0.07258213]\n",
            "Accuracy: [1.]\n",
            "Loss:  [0.07926053]\n",
            "Accuracy: [1.]\n",
            "Loss:  [0.05814923]\n",
            "Accuracy: [1.]\n",
            "Loss:  [0.07021756]\n",
            "Accuracy: [1.]\n",
            "Loss:  [0.0661662]\n",
            "Accuracy: [1.]\n",
            "Loss:  [0.07592517]\n",
            "Accuracy: [1.]\n",
            "Loss:  [0.06522571]\n",
            "Accuracy: [1.]\n",
            "Loss:  [0.07356976]\n",
            "Accuracy: [1.]\n",
            "Loss:  [0.05744776]\n",
            "Accuracy: [1.]\n",
            "Loss:  [0.06271619]\n",
            "Accuracy: [1.]\n",
            "Loss:  [0.05537981]\n",
            "Accuracy: [1.]\n",
            "Loss:  [0.08318878]\n",
            "Accuracy: [1.]\n",
            "Loss:  [0.05904891]\n",
            "Accuracy: [1.]\n",
            "Loss:  [0.06618779]\n",
            "Accuracy: [1.]\n",
            "Loss:  [0.05909091]\n",
            "Accuracy: [1.]\n",
            "Loss:  [0.06617003]\n",
            "Accuracy: [1.]\n",
            "Loss:  [0.06035913]\n",
            "Accuracy: [1.]\n",
            "Loss:  [0.04537904]\n",
            "Accuracy: [1.]\n",
            "Loss:  [0.06326321]\n",
            "Accuracy: [1.]\n",
            "Loss:  [0.05413804]\n",
            "Accuracy: [1.]\n",
            "Loss:  [0.05419876]\n",
            "Accuracy: [1.]\n",
            "Loss:  [0.06092902]\n",
            "Accuracy: [1.]\n",
            "Loss:  [0.06173045]\n",
            "Accuracy: [1.]\n",
            "Loss:  [0.03699801]\n",
            "Accuracy: [1.]\n",
            "Loss:  [0.04298652]\n",
            "Accuracy: [1.]\n",
            "Loss:  [0.0612909]\n",
            "Accuracy: [1.]\n",
            "Loss:  [0.06173487]\n",
            "Accuracy: [1.]\n",
            "Loss:  [0.05412029]\n",
            "Accuracy: [1.]\n",
            "Loss:  [0.05286707]\n",
            "Accuracy: [1.]\n",
            "Loss:  [0.05010379]\n",
            "Accuracy: [1.]\n",
            "Loss:  [0.04781188]\n",
            "Accuracy: [1.]\n",
            "Loss:  [0.04660578]\n",
            "Accuracy: [1.]\n",
            "Loss:  [0.06662476]\n",
            "Accuracy: [1.]\n",
            "Loss:  [0.04201669]\n",
            "Accuracy: [1.]\n",
            "Loss:  [0.04919765]\n",
            "Accuracy: [1.]\n",
            "Loss:  [0.06499475]\n",
            "Accuracy: [1.]\n",
            "Loss:  [0.04833912]\n",
            "Accuracy: [1.]\n",
            "Loss:  [0.04444193]\n",
            "Accuracy: [1.]\n",
            "Loss:  [0.05508632]\n",
            "Accuracy: [1.]\n",
            "Loss:  [0.05153796]\n",
            "Accuracy: [1.]\n",
            "Loss:  [0.04407947]\n",
            "Accuracy: [1.]\n",
            "Loss:  [0.04292805]\n",
            "Accuracy: [1.]\n",
            "Loss:  [0.04846136]\n",
            "Accuracy: [1.]\n",
            "Loss:  [0.0402692]\n",
            "Accuracy: [1.]\n",
            "Loss:  [0.05150135]\n",
            "Accuracy: [1.]\n"
          ],
          "name": "stdout"
        },
        {
          "output_type": "stream",
          "text": [
            "Mini-batches: 100%|██████████| 3/3 [00:00<00:00, 378.78it/s]\n",
            "Mini-batches: 100%|██████████| 3/3 [00:00<00:00, 612.16it/s]\n",
            "Mini-batches: 100%|██████████| 3/3 [00:00<00:00, 639.28it/s]\n",
            "Mini-batches: 100%|██████████| 3/3 [00:00<00:00, 615.57it/s]\n",
            "Mini-batches: 100%|██████████| 3/3 [00:00<00:00, 657.65it/s]\n",
            "Mini-batches: 100%|██████████| 3/3 [00:00<00:00, 552.73it/s]\n",
            "Mini-batches: 100%|██████████| 3/3 [00:00<00:00, 658.38it/s]\n",
            "Mini-batches: 100%|██████████| 3/3 [00:00<00:00, 760.39it/s]\n",
            "Mini-batches: 100%|██████████| 3/3 [00:00<00:00, 1023.33it/s]\n",
            "Mini-batches: 100%|██████████| 3/3 [00:00<00:00, 521.59it/s]\n",
            "Mini-batches: 100%|██████████| 3/3 [00:00<00:00, 436.54it/s]"
          ],
          "name": "stderr"
        },
        {
          "output_type": "stream",
          "text": [
            "Loss:  [0.05321506]\n",
            "Accuracy: [1.]\n",
            "Loss:  [0.0386745]\n",
            "Accuracy: [1.]\n",
            "Loss:  [0.03934008]\n",
            "Accuracy: [1.]\n",
            "Loss:  [0.04432112]\n",
            "Accuracy: [1.]\n",
            "Loss:  [0.0442522]\n",
            "Accuracy: [1.]\n",
            "Loss:  [0.04002549]\n",
            "Accuracy: [1.]\n",
            "Loss:  [0.05282998]\n",
            "Accuracy: [1.]\n",
            "Loss:  [0.03552937]\n",
            "Accuracy: [1.]\n",
            "Loss:  [0.03578046]\n",
            "Accuracy: [1.]\n",
            "Loss:  [0.03365221]\n",
            "Accuracy: [1.]\n",
            "Loss:  [0.04672242]\n",
            "Accuracy: [1.]\n",
            "Loss:  [0.04748884]\n",
            "Accuracy: [1.]\n",
            "Loss:  [0.04352983]\n",
            "Accuracy: [1.]\n",
            "Loss:  [0.04379212]\n",
            "Accuracy: [1.]\n",
            "Loss:  [0.0278492]\n",
            "Accuracy: [1.]\n",
            "Loss:  [0.03666849]\n",
            "Accuracy: [1.]\n",
            "Loss:  [0.03921014]\n",
            "Accuracy: [1.]\n",
            "Loss:  [0.04599191]\n",
            "Accuracy: [1.]\n",
            "Loss:  [0.03389053]\n",
            "Accuracy: [1.]\n",
            "Loss:  [0.04171512]\n",
            "Accuracy: [1.]\n",
            "Loss:  [0.04263054]\n",
            "Accuracy: [1.]\n",
            "Loss:  [0.03517573]\n",
            "Accuracy: [1.]\n",
            "Loss:  [0.04045172]\n",
            "Accuracy: [1.]\n",
            "Loss:  [0.03791667]\n",
            "Accuracy: [1.]\n",
            "Loss:  [0.03804221]\n",
            "Accuracy: [1.]\n",
            "Loss:  [0.03988607]\n",
            "Accuracy: [1.]\n",
            "Loss:  [0.02992802]\n",
            "Accuracy: [1.]\n",
            "Loss:  [0.03318533]\n",
            "Accuracy: [1.]\n",
            "Loss:  [0.04318286]\n",
            "Accuracy: [1.]\n",
            "Loss:  [0.02862389]\n",
            "Accuracy: [1.]\n"
          ],
          "name": "stdout"
        },
        {
          "output_type": "stream",
          "text": [
            "\n"
          ],
          "name": "stderr"
        }
      ]
    },
    {
      "cell_type": "code",
      "metadata": {
        "colab": {
          "base_uri": "https://localhost:8080/",
          "height": 312
        },
        "id": "KeCMQVKx5swU",
        "outputId": "2e4c0c18-cde0-4db8-bd12-fbdfd30c7e88"
      },
      "source": [
        "fig, (ax1, ax2) = plt.subplots(2)\r\n",
        "fig.suptitle('Loss and Accuracy')\r\n",
        "ax1.plot(losses, 'tab:blue')\r\n",
        "ax2.plot(accuracy, 'tab:orange')"
      ],
      "execution_count": null,
      "outputs": [
        {
          "output_type": "execute_result",
          "data": {
            "text/plain": [
              "[<matplotlib.lines.Line2D at 0x7fcce083a160>]"
            ]
          },
          "metadata": {
            "tags": []
          },
          "execution_count": 21
        },
        {
          "output_type": "display_data",
          "data": {
            "image/png": "[encoded data removed]",
            "text/plain": [
              "<Figure size 432x288 with 2 Axes>"
            ]
          },
          "metadata": {
            "tags": [],
            "needs_background": "light"
          }
        }
      ]
    },
    {
      "cell_type": "code",
      "metadata": {
        "colab": {
          "base_uri": "https://localhost:8080/"
        },
        "id": "0wqJs9lr6HGX",
        "outputId": "f6bb0b55-dfc0-45fe-bfc1-4218798f4a9c"
      },
      "source": [
        "predict_test = np.where(forward(X_test.T, theta) >= 0.5, 1, 0)\r\n",
        "acc_test = np.where(predict_test == Y_test.T, 1, 0)\r\n",
        "acc_test = np.sum(acc_test, axis=1)/X_test.shape[0]\r\n",
        "print('Accuracy in test set: {}'.format(acc_test))"
      ],
      "execution_count": null,
      "outputs": [
        {
          "output_type": "stream",
          "text": [
            "Accuracy in test set: [1.]\n"
          ],
          "name": "stdout"
        }
      ]
    }
  ]
}