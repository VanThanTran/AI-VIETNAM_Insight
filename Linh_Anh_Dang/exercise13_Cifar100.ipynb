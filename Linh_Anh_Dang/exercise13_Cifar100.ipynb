{
  "nbformat": 4,
  "nbformat_minor": 0,
  "metadata": {
    "colab": {
      "name": "exercise13_Cifar100.ipynb",
      "provenance": []
    },
    "kernelspec": {
      "name": "python3",
      "display_name": "Python 3"
    },
    "accelerator": "GPU"
  },
  "cells": [
    {
      "cell_type": "code",
      "metadata": {
        "id": "u--TekXtvXuW"
      },
      "source": [
        "import tensorflow as tf\r\n",
        "from tensorflow import keras\r\n",
        "import numpy as np\r\n",
        "import matplotlib.pyplot as plt"
      ],
      "execution_count": null,
      "outputs": []
    },
    {
      "cell_type": "markdown",
      "metadata": {
        "id": "LCxZqy-rxSEQ"
      },
      "source": [
        "# Load and normalize dataset"
      ]
    },
    {
      "cell_type": "code",
      "metadata": {
        "id": "jC2qzo_QvLvM"
      },
      "source": [
        "(X_train, Y_train), (X_test, Y_test) = keras.datasets.cifar100.load_data()\r\n",
        "\r\n",
        "X_train = X_train.astype(np.float32) / 255.0\r\n",
        "X_test = X_test.astype(np.float32) / 255.0"
      ],
      "execution_count": null,
      "outputs": []
    },
    {
      "cell_type": "markdown",
      "metadata": {
        "id": "6N2E_U_-xtEc"
      },
      "source": [
        "# Construct model + Hyperparameters tunning"
      ]
    },
    {
      "cell_type": "code",
      "metadata": {
        "id": "V9GpIOK4yjr1"
      },
      "source": [
        "from keras import Input, Model\r\n",
        "from keras.layers import Conv2D, BatchNormalization, Activation, Flatten, Dense, MaxPooling2D, Add\r\n",
        "from keras.losses import CategoricalCrossentropy"
      ],
      "execution_count": null,
      "outputs": []
    },
    {
      "cell_type": "code",
      "metadata": {
        "id": "ar6Sa13TwfpD"
      },
      "source": [
        "INPUT_SHAPE = (32, 32, 3)\r\n",
        "N_CLASSES = 100\r\n",
        "BATCH_SIZE = 256\r\n",
        "N_EPOCHS = 30"
      ],
      "execution_count": null,
      "outputs": []
    },
    {
      "cell_type": "markdown",
      "metadata": {
        "id": "Br5CXDABx9Wk"
      },
      "source": [
        "**$\\bullet$ Model 1: primitive**"
      ]
    },
    {
      "cell_type": "code",
      "metadata": {
        "colab": {
          "base_uri": "https://localhost:8080/"
        },
        "id": "aSVafN0SzJaM",
        "outputId": "f8892f71-b2b6-46b0-d31e-7593832c656b"
      },
      "source": [
        "input_tensor = Input(INPUT_SHAPE)\r\n",
        "\r\n",
        "x = Conv2D(16, 3, padding='same', activation='sigmoid')(input_tensor)\r\n",
        "x = Conv2D(32, 3, padding='same', activation='sigmoid')(x)\r\n",
        "x = MaxPooling2D()(x)\r\n",
        "\r\n",
        "x = Conv2D(64, 3, padding='same', activation='sigmoid')(x)\r\n",
        "x = Conv2D(128, 3, padding='same', activation='sigmoid')(x)\r\n",
        "x = Conv2D(128, 3, padding='valid', activation='sigmoid')(x)\r\n",
        "x = MaxPooling2D()(x)\r\n",
        "\r\n",
        "x = Conv2D(256, 3, padding='valid', activation='sigmoid')(x)\r\n",
        "x = MaxPooling2D()(x)\r\n",
        "\r\n",
        "x = Flatten()(x)\r\n",
        "x = Dense(512, activation='sigmoid')(x)\r\n",
        "x = Dense(N_CLASSES, activation='softmax')(x)\r\n",
        "\r\n",
        "model1 = keras.Model(inputs=[input_tensor], outputs=[x])\r\n",
        "\r\n",
        "model1.compile(optimizer='adam', loss=keras.losses.SparseCategoricalCrossentropy(), metrics=['accuracy'])\r\n",
        "\r\n",
        "model1.summary()"
      ],
      "execution_count": null,
      "outputs": [
        {
          "output_type": "stream",
          "text": [
            "Model: \"model_9\"\n",
            "_________________________________________________________________\n",
            "Layer (type)                 Output Shape              Param #   \n",
            "=================================================================\n",
            "input_14 (InputLayer)        [(None, 32, 32, 3)]       0         \n",
            "_________________________________________________________________\n",
            "conv2d_64 (Conv2D)           (None, 32, 32, 16)        448       \n",
            "_________________________________________________________________\n",
            "conv2d_65 (Conv2D)           (None, 32, 32, 32)        4640      \n",
            "_________________________________________________________________\n",
            "max_pooling2d_31 (MaxPooling (None, 16, 16, 32)        0         \n",
            "_________________________________________________________________\n",
            "conv2d_66 (Conv2D)           (None, 16, 16, 64)        18496     \n",
            "_________________________________________________________________\n",
            "conv2d_67 (Conv2D)           (None, 16, 16, 128)       73856     \n",
            "_________________________________________________________________\n",
            "conv2d_68 (Conv2D)           (None, 14, 14, 128)       147584    \n",
            "_________________________________________________________________\n",
            "max_pooling2d_32 (MaxPooling (None, 7, 7, 128)         0         \n",
            "_________________________________________________________________\n",
            "conv2d_69 (Conv2D)           (None, 5, 5, 256)         295168    \n",
            "_________________________________________________________________\n",
            "max_pooling2d_33 (MaxPooling (None, 2, 2, 256)         0         \n",
            "_________________________________________________________________\n",
            "flatten_10 (Flatten)         (None, 1024)              0         \n",
            "_________________________________________________________________\n",
            "dense_21 (Dense)             (None, 512)               524800    \n",
            "_________________________________________________________________\n",
            "dense_22 (Dense)             (None, 100)               51300     \n",
            "=================================================================\n",
            "Total params: 1,116,292\n",
            "Trainable params: 1,116,292\n",
            "Non-trainable params: 0\n",
            "_________________________________________________________________\n"
          ],
          "name": "stdout"
        }
      ]
    },
    {
      "cell_type": "code",
      "metadata": {
        "colab": {
          "base_uri": "https://localhost:8080/"
        },
        "id": "m14HNLcO0L6d",
        "outputId": "4b462664-40d1-4909-fc91-b764c7ca5963"
      },
      "source": [
        "history1 = model1.fit(X_train, Y_train, batch_size=BATCH_SIZE, epochs=N_EPOCHS, validation_split=0.2)\r\n",
        "model1.evaluate(X_test, Y_test, batch_size=BATCH_SIZE, verbose=0)"
      ],
      "execution_count": null,
      "outputs": [
        {
          "output_type": "stream",
          "text": [
            "Epoch 1/30\n",
            "157/157 [==============================] - 7s 40ms/step - loss: 4.6636 - accuracy: 0.0106 - val_loss: 4.6092 - val_accuracy: 0.0105\n",
            "Epoch 2/30\n",
            "157/157 [==============================] - 6s 40ms/step - loss: 4.6078 - accuracy: 0.0107 - val_loss: 4.6062 - val_accuracy: 0.0090\n",
            "Epoch 3/30\n",
            "157/157 [==============================] - 6s 39ms/step - loss: 4.6053 - accuracy: 0.0104 - val_loss: 4.6064 - val_accuracy: 0.0083\n",
            "Epoch 4/30\n",
            "157/157 [==============================] - 6s 39ms/step - loss: 4.6052 - accuracy: 0.0109 - val_loss: 4.6066 - val_accuracy: 0.0077\n",
            "Epoch 5/30\n",
            "157/157 [==============================] - 6s 39ms/step - loss: 4.6051 - accuracy: 0.0108 - val_loss: 4.6069 - val_accuracy: 0.0077\n",
            "Epoch 6/30\n",
            "157/157 [==============================] - 6s 39ms/step - loss: 4.6052 - accuracy: 0.0096 - val_loss: 4.6070 - val_accuracy: 0.0084\n",
            "Epoch 7/30\n",
            "157/157 [==============================] - 6s 39ms/step - loss: 4.6050 - accuracy: 0.0113 - val_loss: 4.6072 - val_accuracy: 0.0077\n",
            "Epoch 8/30\n",
            "157/157 [==============================] - 6s 39ms/step - loss: 4.6051 - accuracy: 0.0103 - val_loss: 4.6073 - val_accuracy: 0.0077\n",
            "Epoch 9/30\n",
            "157/157 [==============================] - 6s 39ms/step - loss: 4.6050 - accuracy: 0.0104 - val_loss: 4.6074 - val_accuracy: 0.0077\n",
            "Epoch 10/30\n",
            "157/157 [==============================] - 6s 39ms/step - loss: 4.6052 - accuracy: 0.0088 - val_loss: 4.6075 - val_accuracy: 0.0077\n",
            "Epoch 11/30\n",
            "157/157 [==============================] - 6s 39ms/step - loss: 4.6051 - accuracy: 0.0104 - val_loss: 4.6076 - val_accuracy: 0.0077\n",
            "Epoch 12/30\n",
            "157/157 [==============================] - 6s 39ms/step - loss: 4.6049 - accuracy: 0.0098 - val_loss: 4.6077 - val_accuracy: 0.0077\n",
            "Epoch 13/30\n",
            "157/157 [==============================] - 6s 39ms/step - loss: 4.6051 - accuracy: 0.0099 - val_loss: 4.6077 - val_accuracy: 0.0077\n",
            "Epoch 14/30\n",
            "157/157 [==============================] - 6s 39ms/step - loss: 4.6050 - accuracy: 0.0102 - val_loss: 4.6078 - val_accuracy: 0.0077\n",
            "Epoch 15/30\n",
            "157/157 [==============================] - 6s 39ms/step - loss: 4.6050 - accuracy: 0.0119 - val_loss: 4.6078 - val_accuracy: 0.0077\n",
            "Epoch 16/30\n",
            "157/157 [==============================] - 6s 39ms/step - loss: 4.6051 - accuracy: 0.0111 - val_loss: 4.6079 - val_accuracy: 0.0077\n",
            "Epoch 17/30\n",
            "157/157 [==============================] - 6s 39ms/step - loss: 4.6050 - accuracy: 0.0098 - val_loss: 4.6079 - val_accuracy: 0.0077\n",
            "Epoch 18/30\n",
            "157/157 [==============================] - 6s 39ms/step - loss: 4.6049 - accuracy: 0.0113 - val_loss: 4.6079 - val_accuracy: 0.0077\n",
            "Epoch 19/30\n",
            "157/157 [==============================] - 6s 39ms/step - loss: 4.6051 - accuracy: 0.0109 - val_loss: 4.6079 - val_accuracy: 0.0077\n",
            "Epoch 20/30\n",
            "157/157 [==============================] - 6s 39ms/step - loss: 4.6049 - accuracy: 0.0108 - val_loss: 4.6079 - val_accuracy: 0.0077\n",
            "Epoch 21/30\n",
            "157/157 [==============================] - 6s 39ms/step - loss: 4.6051 - accuracy: 0.0114 - val_loss: 4.6079 - val_accuracy: 0.0077\n",
            "Epoch 22/30\n",
            "157/157 [==============================] - 6s 39ms/step - loss: 4.6050 - accuracy: 0.0098 - val_loss: 4.6080 - val_accuracy: 0.0077\n",
            "Epoch 23/30\n",
            "157/157 [==============================] - 6s 39ms/step - loss: 4.6049 - accuracy: 0.0100 - val_loss: 4.6079 - val_accuracy: 0.0077\n",
            "Epoch 24/30\n",
            "157/157 [==============================] - 6s 39ms/step - loss: 4.6050 - accuracy: 0.0112 - val_loss: 4.6079 - val_accuracy: 0.0077\n",
            "Epoch 25/30\n",
            "157/157 [==============================] - 6s 39ms/step - loss: 4.6051 - accuracy: 0.0101 - val_loss: 4.6079 - val_accuracy: 0.0077\n",
            "Epoch 26/30\n",
            "157/157 [==============================] - 6s 39ms/step - loss: 4.6047 - accuracy: 0.0108 - val_loss: 4.6079 - val_accuracy: 0.0077\n",
            "Epoch 27/30\n",
            "157/157 [==============================] - 6s 39ms/step - loss: 4.6050 - accuracy: 0.0097 - val_loss: 4.6079 - val_accuracy: 0.0077\n",
            "Epoch 28/30\n",
            "157/157 [==============================] - 6s 39ms/step - loss: 4.6049 - accuracy: 0.0108 - val_loss: 4.6079 - val_accuracy: 0.0077\n",
            "Epoch 29/30\n",
            "157/157 [==============================] - 6s 39ms/step - loss: 4.6051 - accuracy: 0.0106 - val_loss: 4.6079 - val_accuracy: 0.0077\n",
            "Epoch 30/30\n",
            "157/157 [==============================] - 6s 39ms/step - loss: 4.6049 - accuracy: 0.0102 - val_loss: 4.6079 - val_accuracy: 0.0077\n"
          ],
          "name": "stdout"
        },
        {
          "output_type": "execute_result",
          "data": {
            "text/plain": [
              "[4.6054792404174805, 0.009999999776482582]"
            ]
          },
          "metadata": {
            "tags": []
          },
          "execution_count": 44
        }
      ]
    },
    {
      "cell_type": "code",
      "metadata": {
        "colab": {
          "base_uri": "https://localhost:8080/",
          "height": 625
        },
        "id": "u1JISGox1Jgg",
        "outputId": "820cbdbf-d67d-427a-a0d9-899ccd1c5c73"
      },
      "source": [
        "fig, axes = plt.subplots(2, 1, figsize=(10, 10))\r\n",
        "\r\n",
        "axes[0].set_title('Loss and Accuracy')\r\n",
        "axes[0].plot(history1.history['loss'], '-g', label='Train losses')\r\n",
        "axes[0].plot(history1.history['val_loss'], ':r', label='Valid losses')\r\n",
        "axes[0].legend()\r\n",
        "axes[1].plot(history1.history['accuracy'], '-b', label='Train accuracy')\r\n",
        "axes[1].plot(history1.history['val_accuracy'], ':k', label='Valid accuracy')\r\n",
        "axes[1].legend()"
      ],
      "execution_count": null,
      "outputs": [
        {
          "output_type": "execute_result",
          "data": {
            "text/plain": [
              "<matplotlib.legend.Legend at 0x7f299c632048>"
            ]
          },
          "metadata": {
            "tags": []
          },
          "execution_count": 45
        },
        {
          "output_type": "display_data",
          "data": {
            "image/png": "[encoded data removed]",
            "text/plain": [
              "<Figure size 720x720 with 2 Axes>"
            ]
          },
          "metadata": {
            "tags": [],
            "needs_background": "light"
          }
        }
      ]
    },
    {
      "cell_type": "markdown",
      "metadata": {
        "id": "1jQ8Ewe93oez"
      },
      "source": [
        "**Nhận xét**: model được train rất kém trên tập training (loss có giảm từ $4.66\\to 4.60$) và không train được trên tập validation\r\n",
        "\r\n",
        "\r\n",
        "\r\n",
        "\r\n"
      ]
    },
    {
      "cell_type": "markdown",
      "metadata": {
        "id": "3PquQnfW5Nkb"
      },
      "source": [
        "**$\\bullet$ Model 2: tiếp tục sử dụng hàm `sigmoid`, tuy nhiên có batch normalization**"
      ]
    },
    {
      "cell_type": "code",
      "metadata": {
        "colab": {
          "base_uri": "https://localhost:8080/"
        },
        "id": "KTTKg3i_62X9",
        "outputId": "47c0c037-0884-4c95-b364-0c6d3724dab3"
      },
      "source": [
        "input_tensor = Input(INPUT_SHAPE)\r\n",
        "\r\n",
        "x = Conv2D(16, 3, padding='same')(input_tensor)\r\n",
        "x = BatchNormalization()(x)\r\n",
        "x = Activation('sigmoid')(x)\r\n",
        "x = Conv2D(32, 3, padding='same')(x)\r\n",
        "x = BatchNormalization()(x)\r\n",
        "x = Activation('sigmoid')(x)\r\n",
        "x = MaxPooling2D()(x)\r\n",
        "\r\n",
        "x = Conv2D(64, 3, padding='same')(x)\r\n",
        "x = BatchNormalization()(x)\r\n",
        "x = Activation('sigmoid')(x)\r\n",
        "x = Conv2D(128, 3, padding='same')(x)\r\n",
        "x = BatchNormalization()(x)\r\n",
        "x = Activation('sigmoid')(x)\r\n",
        "x = Conv2D(128, 3, padding='valid')(x)\r\n",
        "x = BatchNormalization()(x)\r\n",
        "x = Activation('sigmoid')(x)\r\n",
        "x = MaxPooling2D()(x)\r\n",
        "\r\n",
        "x = Conv2D(256, 3, padding='valid')(x)\r\n",
        "x = BatchNormalization()(x)\r\n",
        "x = Activation('sigmoid')(x)\r\n",
        "x = MaxPooling2D()(x)\r\n",
        "\r\n",
        "x = Flatten()(x)\r\n",
        "x = Dense(512)(x)\r\n",
        "x = BatchNormalization()(x)\r\n",
        "x = Activation('sigmoid')(x)\r\n",
        "x = Dense(N_CLASSES, activation='softmax')(x)\r\n",
        "\r\n",
        "model2 = keras.Model(inputs=[input_tensor], outputs=[x])\r\n",
        "\r\n",
        "model2.compile(optimizer='adam', loss=keras.losses.SparseCategoricalCrossentropy(), metrics=['accuracy'])\r\n",
        "\r\n",
        "model2.summary()"
      ],
      "execution_count": null,
      "outputs": [
        {
          "output_type": "stream",
          "text": [
            "Model: \"model_12\"\n",
            "_________________________________________________________________\n",
            "Layer (type)                 Output Shape              Param #   \n",
            "=================================================================\n",
            "input_17 (InputLayer)        [(None, 32, 32, 3)]       0         \n",
            "_________________________________________________________________\n",
            "conv2d_82 (Conv2D)           (None, 32, 32, 16)        448       \n",
            "_________________________________________________________________\n",
            "batch_normalization (BatchNo (None, 32, 32, 16)        64        \n",
            "_________________________________________________________________\n",
            "activation (Activation)      (None, 32, 32, 16)        0         \n",
            "_________________________________________________________________\n",
            "conv2d_83 (Conv2D)           (None, 32, 32, 32)        4640      \n",
            "_________________________________________________________________\n",
            "batch_normalization_1 (Batch (None, 32, 32, 32)        128       \n",
            "_________________________________________________________________\n",
            "activation_1 (Activation)    (None, 32, 32, 32)        0         \n",
            "_________________________________________________________________\n",
            "max_pooling2d_40 (MaxPooling (None, 16, 16, 32)        0         \n",
            "_________________________________________________________________\n",
            "conv2d_84 (Conv2D)           (None, 16, 16, 64)        18496     \n",
            "_________________________________________________________________\n",
            "batch_normalization_2 (Batch (None, 16, 16, 64)        256       \n",
            "_________________________________________________________________\n",
            "activation_2 (Activation)    (None, 16, 16, 64)        0         \n",
            "_________________________________________________________________\n",
            "conv2d_85 (Conv2D)           (None, 16, 16, 128)       73856     \n",
            "_________________________________________________________________\n",
            "batch_normalization_3 (Batch (None, 16, 16, 128)       512       \n",
            "_________________________________________________________________\n",
            "activation_3 (Activation)    (None, 16, 16, 128)       0         \n",
            "_________________________________________________________________\n",
            "conv2d_86 (Conv2D)           (None, 14, 14, 128)       147584    \n",
            "_________________________________________________________________\n",
            "batch_normalization_4 (Batch (None, 14, 14, 128)       512       \n",
            "_________________________________________________________________\n",
            "activation_4 (Activation)    (None, 14, 14, 128)       0         \n",
            "_________________________________________________________________\n",
            "max_pooling2d_41 (MaxPooling (None, 7, 7, 128)         0         \n",
            "_________________________________________________________________\n",
            "conv2d_87 (Conv2D)           (None, 5, 5, 256)         295168    \n",
            "_________________________________________________________________\n",
            "batch_normalization_5 (Batch (None, 5, 5, 256)         1024      \n",
            "_________________________________________________________________\n",
            "activation_5 (Activation)    (None, 5, 5, 256)         0         \n",
            "_________________________________________________________________\n",
            "max_pooling2d_42 (MaxPooling (None, 2, 2, 256)         0         \n",
            "_________________________________________________________________\n",
            "flatten_13 (Flatten)         (None, 1024)              0         \n",
            "_________________________________________________________________\n",
            "dense_27 (Dense)             (None, 512)               524800    \n",
            "_________________________________________________________________\n",
            "batch_normalization_6 (Batch (None, 512)               2048      \n",
            "_________________________________________________________________\n",
            "activation_6 (Activation)    (None, 512)               0         \n",
            "_________________________________________________________________\n",
            "dense_28 (Dense)             (None, 100)               51300     \n",
            "=================================================================\n",
            "Total params: 1,120,836\n",
            "Trainable params: 1,118,564\n",
            "Non-trainable params: 2,272\n",
            "_________________________________________________________________\n"
          ],
          "name": "stdout"
        }
      ]
    },
    {
      "cell_type": "code",
      "metadata": {
        "colab": {
          "base_uri": "https://localhost:8080/"
        },
        "id": "ZyYjdO2D7w-8",
        "outputId": "41b18cd4-fcae-435a-8a23-2ad03e537eee"
      },
      "source": [
        "history2 = model2.fit(X_train, Y_train, batch_size=BATCH_SIZE, epochs=N_EPOCHS, validation_split=0.2)\r\n",
        "model2.evaluate(X_test, Y_test, batch_size=BATCH_SIZE, verbose=0)"
      ],
      "execution_count": null,
      "outputs": [
        {
          "output_type": "stream",
          "text": [
            "Epoch 1/30\n",
            "157/157 [==============================] - 8s 49ms/step - loss: 4.0289 - accuracy: 0.1092 - val_loss: 5.3197 - val_accuracy: 0.0095\n",
            "Epoch 2/30\n",
            "157/157 [==============================] - 7s 47ms/step - loss: 3.0705 - accuracy: 0.2771 - val_loss: 5.2567 - val_accuracy: 0.0262\n",
            "Epoch 3/30\n",
            "157/157 [==============================] - 7s 47ms/step - loss: 2.5727 - accuracy: 0.3697 - val_loss: 5.4456 - val_accuracy: 0.0618\n",
            "Epoch 4/30\n",
            "157/157 [==============================] - 7s 47ms/step - loss: 2.2516 - accuracy: 0.4385 - val_loss: 3.4845 - val_accuracy: 0.1958\n",
            "Epoch 5/30\n",
            "157/157 [==============================] - 8s 48ms/step - loss: 1.9732 - accuracy: 0.4996 - val_loss: 4.9394 - val_accuracy: 0.0760\n",
            "Epoch 6/30\n",
            "157/157 [==============================] - 7s 47ms/step - loss: 1.7485 - accuracy: 0.5514 - val_loss: 5.9831 - val_accuracy: 0.0650\n",
            "Epoch 7/30\n",
            "157/157 [==============================] - 7s 47ms/step - loss: 1.5067 - accuracy: 0.6183 - val_loss: 3.3836 - val_accuracy: 0.2220\n",
            "Epoch 8/30\n",
            "157/157 [==============================] - 7s 47ms/step - loss: 1.2696 - accuracy: 0.6819 - val_loss: 4.9905 - val_accuracy: 0.0941\n",
            "Epoch 9/30\n",
            "157/157 [==============================] - 7s 47ms/step - loss: 1.0625 - accuracy: 0.7378 - val_loss: 3.7202 - val_accuracy: 0.2146\n",
            "Epoch 10/30\n",
            "157/157 [==============================] - 7s 47ms/step - loss: 0.8359 - accuracy: 0.8050 - val_loss: 4.3853 - val_accuracy: 0.1732\n",
            "Epoch 11/30\n",
            "157/157 [==============================] - 7s 47ms/step - loss: 0.6436 - accuracy: 0.8620 - val_loss: 4.6140 - val_accuracy: 0.1590\n",
            "Epoch 12/30\n",
            "157/157 [==============================] - 7s 47ms/step - loss: 0.4756 - accuracy: 0.9103 - val_loss: 3.5174 - val_accuracy: 0.2581\n",
            "Epoch 13/30\n",
            "157/157 [==============================] - 7s 47ms/step - loss: 0.3362 - accuracy: 0.9496 - val_loss: 3.8517 - val_accuracy: 0.2324\n",
            "Epoch 14/30\n",
            "157/157 [==============================] - 7s 47ms/step - loss: 0.2201 - accuracy: 0.9775 - val_loss: 3.7537 - val_accuracy: 0.2642\n",
            "Epoch 15/30\n",
            "157/157 [==============================] - 7s 47ms/step - loss: 0.1397 - accuracy: 0.9926 - val_loss: 3.4901 - val_accuracy: 0.2906\n",
            "Epoch 16/30\n",
            "157/157 [==============================] - 7s 47ms/step - loss: 0.0818 - accuracy: 0.9980 - val_loss: 3.4761 - val_accuracy: 0.3084\n",
            "Epoch 17/30\n",
            "157/157 [==============================] - 7s 47ms/step - loss: 0.0514 - accuracy: 0.9987 - val_loss: 3.1895 - val_accuracy: 0.3475\n",
            "Epoch 18/30\n",
            "157/157 [==============================] - 7s 47ms/step - loss: 0.0347 - accuracy: 0.9991 - val_loss: 3.3924 - val_accuracy: 0.3227\n",
            "Epoch 19/30\n",
            "157/157 [==============================] - 7s 47ms/step - loss: 0.0259 - accuracy: 0.9997 - val_loss: 3.1910 - val_accuracy: 0.3632\n",
            "Epoch 20/30\n",
            "157/157 [==============================] - 7s 47ms/step - loss: 0.0215 - accuracy: 0.9996 - val_loss: 3.1768 - val_accuracy: 0.3603\n",
            "Epoch 21/30\n",
            "157/157 [==============================] - 7s 47ms/step - loss: 0.0172 - accuracy: 0.9996 - val_loss: 3.3942 - val_accuracy: 0.3440\n",
            "Epoch 22/30\n",
            "157/157 [==============================] - 7s 47ms/step - loss: 0.0152 - accuracy: 0.9996 - val_loss: 3.0483 - val_accuracy: 0.3885\n",
            "Epoch 23/30\n",
            "157/157 [==============================] - 7s 47ms/step - loss: 0.0122 - accuracy: 0.9998 - val_loss: 3.1307 - val_accuracy: 0.3854\n",
            "Epoch 24/30\n",
            "157/157 [==============================] - 7s 47ms/step - loss: 0.0097 - accuracy: 0.9999 - val_loss: 3.2530 - val_accuracy: 0.3690\n",
            "Epoch 25/30\n",
            "157/157 [==============================] - 7s 47ms/step - loss: 0.0100 - accuracy: 0.9997 - val_loss: 3.2356 - val_accuracy: 0.3705\n",
            "Epoch 26/30\n",
            "157/157 [==============================] - 7s 47ms/step - loss: 0.0084 - accuracy: 0.9998 - val_loss: 3.3338 - val_accuracy: 0.3674\n",
            "Epoch 27/30\n",
            "157/157 [==============================] - 7s 47ms/step - loss: 0.0116 - accuracy: 0.9994 - val_loss: 4.8161 - val_accuracy: 0.2321\n",
            "Epoch 28/30\n",
            "157/157 [==============================] - 7s 47ms/step - loss: 0.2263 - accuracy: 0.9427 - val_loss: 6.8746 - val_accuracy: 0.0542\n",
            "Epoch 29/30\n",
            "157/157 [==============================] - 7s 47ms/step - loss: 0.7319 - accuracy: 0.7851 - val_loss: 5.8762 - val_accuracy: 0.1105\n",
            "Epoch 30/30\n",
            "157/157 [==============================] - 7s 47ms/step - loss: 0.1800 - accuracy: 0.9639 - val_loss: 4.4510 - val_accuracy: 0.2546\n"
          ],
          "name": "stdout"
        },
        {
          "output_type": "execute_result",
          "data": {
            "text/plain": [
              "[4.422256946563721, 0.25459998846054077]"
            ]
          },
          "metadata": {
            "tags": []
          },
          "execution_count": 52
        }
      ]
    },
    {
      "cell_type": "code",
      "metadata": {
        "colab": {
          "base_uri": "https://localhost:8080/",
          "height": 625
        },
        "id": "udxNhLr-7xjz",
        "outputId": "8d62247e-5d05-413b-b614-bb19bdd4f1c5"
      },
      "source": [
        "fig, axes = plt.subplots(2, 1, figsize=(10, 10))\r\n",
        "\r\n",
        "axes[0].set_title('Loss and Accuracy')\r\n",
        "axes[0].plot(history2.history['loss'], '-g', label='Train losses')\r\n",
        "axes[0].plot(history2.history['val_loss'], ':r', label='Valid losses')\r\n",
        "axes[0].legend()\r\n",
        "axes[1].plot(history2.history['accuracy'], '-b', label='Train accuracy')\r\n",
        "axes[1].plot(history2.history['val_accuracy'], ':k', label='Valid accuracy')\r\n",
        "axes[1].legend()"
      ],
      "execution_count": null,
      "outputs": [
        {
          "output_type": "execute_result",
          "data": {
            "text/plain": [
              "<matplotlib.legend.Legend at 0x7f299e0a8940>"
            ]
          },
          "metadata": {
            "tags": []
          },
          "execution_count": 53
        },
        {
          "output_type": "display_data",
          "data": {
            "image/png": "[encoded data removed]",
            "text/plain": [
              "<Figure size 720x720 with 2 Axes>"
            ]
          },
          "metadata": {
            "tags": [],
            "needs_background": "light"
          }
        }
      ]
    },
    {
      "cell_type": "markdown",
      "metadata": {
        "id": "GvfHqG6Z9Ht9"
      },
      "source": [
        "**Nhận xét:** Để giảm khả năng bị vanishing gradient do hàm `sigmoid` gây ra, ta dùng batch normalization trước activation với mục đích chuẩn hóa distribution của feature map trích xuất được về khoảng $(-3, 3)$, nơi có gradient $\\frac{\\partial\\mathbf{L}}{\\partial\\Theta}\\neq0$. Ta thấy, mô hình có vẻ \"được train\", tuy nhiên, còn khá yếu."
      ]
    },
    {
      "cell_type": "markdown",
      "metadata": {
        "id": "5vFSiw8R_GIe"
      },
      "source": [
        "**$\\bullet$ Model 3: sử dụng hàm `relu`**"
      ]
    },
    {
      "cell_type": "code",
      "metadata": {
        "colab": {
          "base_uri": "https://localhost:8080/"
        },
        "id": "UeRGyBZD_D6Q",
        "outputId": "a00134a8-0746-479a-f878-254a4c034422"
      },
      "source": [
        "input_tensor = Input(INPUT_SHAPE)\r\n",
        "\r\n",
        "x = Conv2D(16, 3, padding='same')(input_tensor)\r\n",
        "x = BatchNormalization()(x)\r\n",
        "x = Activation('relu')(x)\r\n",
        "x = Conv2D(32, 3, padding='same')(x)\r\n",
        "x = BatchNormalization()(x)\r\n",
        "x = Activation('relu')(x)\r\n",
        "x = MaxPooling2D()(x)\r\n",
        "\r\n",
        "x = Conv2D(64, 3, padding='same')(x)\r\n",
        "x = BatchNormalization()(x)\r\n",
        "x = Activation('relu')(x)\r\n",
        "x = Conv2D(128, 3, padding='same')(x)\r\n",
        "x = BatchNormalization()(x)\r\n",
        "x = Activation('relu')(x)\r\n",
        "x = Conv2D(128, 3, padding='valid')(x)\r\n",
        "x = BatchNormalization()(x)\r\n",
        "x = Activation('relu')(x)\r\n",
        "x = MaxPooling2D()(x)\r\n",
        "\r\n",
        "x = Conv2D(256, 3, padding='valid')(x)\r\n",
        "x = BatchNormalization()(x)\r\n",
        "x = Activation('relu')(x)\r\n",
        "x = MaxPooling2D()(x)\r\n",
        "\r\n",
        "x = Flatten()(x)\r\n",
        "x = Dense(512)(x)\r\n",
        "x = BatchNormalization()(x)\r\n",
        "x = Activation('relu')(x)\r\n",
        "x = Dense(N_CLASSES, activation='softmax')(x)\r\n",
        "\r\n",
        "model3 = keras.Model(inputs=[input_tensor], outputs=[x])\r\n",
        "\r\n",
        "model3.compile(optimizer='adam', loss=keras.losses.SparseCategoricalCrossentropy(), metrics=['accuracy'])\r\n",
        "\r\n",
        "model3.summary()"
      ],
      "execution_count": null,
      "outputs": [
        {
          "output_type": "stream",
          "text": [
            "Model: \"model_13\"\n",
            "_________________________________________________________________\n",
            "Layer (type)                 Output Shape              Param #   \n",
            "=================================================================\n",
            "input_18 (InputLayer)        [(None, 32, 32, 3)]       0         \n",
            "_________________________________________________________________\n",
            "conv2d_88 (Conv2D)           (None, 32, 32, 16)        448       \n",
            "_________________________________________________________________\n",
            "batch_normalization_7 (Batch (None, 32, 32, 16)        64        \n",
            "_________________________________________________________________\n",
            "activation_7 (Activation)    (None, 32, 32, 16)        0         \n",
            "_________________________________________________________________\n",
            "conv2d_89 (Conv2D)           (None, 32, 32, 32)        4640      \n",
            "_________________________________________________________________\n",
            "batch_normalization_8 (Batch (None, 32, 32, 32)        128       \n",
            "_________________________________________________________________\n",
            "activation_8 (Activation)    (None, 32, 32, 32)        0         \n",
            "_________________________________________________________________\n",
            "max_pooling2d_43 (MaxPooling (None, 16, 16, 32)        0         \n",
            "_________________________________________________________________\n",
            "conv2d_90 (Conv2D)           (None, 16, 16, 64)        18496     \n",
            "_________________________________________________________________\n",
            "batch_normalization_9 (Batch (None, 16, 16, 64)        256       \n",
            "_________________________________________________________________\n",
            "activation_9 (Activation)    (None, 16, 16, 64)        0         \n",
            "_________________________________________________________________\n",
            "conv2d_91 (Conv2D)           (None, 16, 16, 128)       73856     \n",
            "_________________________________________________________________\n",
            "batch_normalization_10 (Batc (None, 16, 16, 128)       512       \n",
            "_________________________________________________________________\n",
            "activation_10 (Activation)   (None, 16, 16, 128)       0         \n",
            "_________________________________________________________________\n",
            "conv2d_92 (Conv2D)           (None, 14, 14, 128)       147584    \n",
            "_________________________________________________________________\n",
            "batch_normalization_11 (Batc (None, 14, 14, 128)       512       \n",
            "_________________________________________________________________\n",
            "activation_11 (Activation)   (None, 14, 14, 128)       0         \n",
            "_________________________________________________________________\n",
            "max_pooling2d_44 (MaxPooling (None, 7, 7, 128)         0         \n",
            "_________________________________________________________________\n",
            "conv2d_93 (Conv2D)           (None, 5, 5, 256)         295168    \n",
            "_________________________________________________________________\n",
            "batch_normalization_12 (Batc (None, 5, 5, 256)         1024      \n",
            "_________________________________________________________________\n",
            "activation_12 (Activation)   (None, 5, 5, 256)         0         \n",
            "_________________________________________________________________\n",
            "max_pooling2d_45 (MaxPooling (None, 2, 2, 256)         0         \n",
            "_________________________________________________________________\n",
            "flatten_14 (Flatten)         (None, 1024)              0         \n",
            "_________________________________________________________________\n",
            "dense_29 (Dense)             (None, 512)               524800    \n",
            "_________________________________________________________________\n",
            "batch_normalization_13 (Batc (None, 512)               2048      \n",
            "_________________________________________________________________\n",
            "activation_13 (Activation)   (None, 512)               0         \n",
            "_________________________________________________________________\n",
            "dense_30 (Dense)             (None, 100)               51300     \n",
            "=================================================================\n",
            "Total params: 1,120,836\n",
            "Trainable params: 1,118,564\n",
            "Non-trainable params: 2,272\n",
            "_________________________________________________________________\n"
          ],
          "name": "stdout"
        }
      ]
    },
    {
      "cell_type": "code",
      "metadata": {
        "colab": {
          "base_uri": "https://localhost:8080/"
        },
        "id": "MwS1olq5AZHa",
        "outputId": "ab1a7a80-5d26-41a3-88ae-985ac15ace5c"
      },
      "source": [
        "history3 = model3.fit(X_train, Y_train, batch_size=BATCH_SIZE, epochs=N_EPOCHS, validation_split=0.2)\r\n",
        "model3.evaluate(X_test, Y_test, batch_size=BATCH_SIZE, verbose=0)"
      ],
      "execution_count": null,
      "outputs": [
        {
          "output_type": "stream",
          "text": [
            "Epoch 1/30\n",
            "157/157 [==============================] - 8s 49ms/step - loss: 3.7490 - accuracy: 0.1462 - val_loss: 5.9468 - val_accuracy: 0.0128\n",
            "Epoch 2/30\n",
            "157/157 [==============================] - 7s 47ms/step - loss: 2.5261 - accuracy: 0.3557 - val_loss: 4.2018 - val_accuracy: 0.1223\n",
            "Epoch 3/30\n",
            "157/157 [==============================] - 7s 47ms/step - loss: 1.9494 - accuracy: 0.4897 - val_loss: 2.8882 - val_accuracy: 0.3027\n",
            "Epoch 4/30\n",
            "157/157 [==============================] - 7s 47ms/step - loss: 1.5489 - accuracy: 0.5875 - val_loss: 2.5967 - val_accuracy: 0.3725\n",
            "Epoch 5/30\n",
            "157/157 [==============================] - 7s 47ms/step - loss: 1.1922 - accuracy: 0.6833 - val_loss: 2.6239 - val_accuracy: 0.3862\n",
            "Epoch 6/30\n",
            "157/157 [==============================] - 7s 47ms/step - loss: 0.8571 - accuracy: 0.7771 - val_loss: 2.7002 - val_accuracy: 0.3834\n",
            "Epoch 7/30\n",
            "157/157 [==============================] - 7s 47ms/step - loss: 0.6010 - accuracy: 0.8513 - val_loss: 2.6128 - val_accuracy: 0.4005\n",
            "Epoch 8/30\n",
            "157/157 [==============================] - 7s 47ms/step - loss: 0.3537 - accuracy: 0.9218 - val_loss: 2.9656 - val_accuracy: 0.3772\n",
            "Epoch 9/30\n",
            "157/157 [==============================] - 7s 47ms/step - loss: 0.2026 - accuracy: 0.9643 - val_loss: 2.6745 - val_accuracy: 0.4285\n",
            "Epoch 10/30\n",
            "157/157 [==============================] - 7s 47ms/step - loss: 0.0994 - accuracy: 0.9877 - val_loss: 2.5671 - val_accuracy: 0.4478\n",
            "Epoch 11/30\n",
            "157/157 [==============================] - 7s 47ms/step - loss: 0.0374 - accuracy: 0.9976 - val_loss: 2.5667 - val_accuracy: 0.4568\n",
            "Epoch 12/30\n",
            "157/157 [==============================] - 7s 48ms/step - loss: 0.0219 - accuracy: 0.9991 - val_loss: 2.5066 - val_accuracy: 0.4682\n",
            "Epoch 13/30\n",
            "157/157 [==============================] - 7s 47ms/step - loss: 0.0124 - accuracy: 0.9992 - val_loss: 2.5589 - val_accuracy: 0.4728\n",
            "Epoch 14/30\n",
            "157/157 [==============================] - 7s 47ms/step - loss: 0.0067 - accuracy: 0.9998 - val_loss: 2.6007 - val_accuracy: 0.4739\n",
            "Epoch 15/30\n",
            "157/157 [==============================] - 7s 47ms/step - loss: 0.0080 - accuracy: 0.9996 - val_loss: 2.6183 - val_accuracy: 0.4717\n",
            "Epoch 16/30\n",
            "157/157 [==============================] - 7s 47ms/step - loss: 0.0069 - accuracy: 0.9997 - val_loss: 2.6417 - val_accuracy: 0.4727\n",
            "Epoch 17/30\n",
            "157/157 [==============================] - 7s 47ms/step - loss: 0.0059 - accuracy: 0.9997 - val_loss: 2.6809 - val_accuracy: 0.4705\n",
            "Epoch 18/30\n",
            "157/157 [==============================] - 7s 47ms/step - loss: 0.0039 - accuracy: 0.9999 - val_loss: 2.6891 - val_accuracy: 0.4740\n",
            "Epoch 19/30\n",
            "157/157 [==============================] - 7s 47ms/step - loss: 0.0046 - accuracy: 0.9998 - val_loss: 2.7487 - val_accuracy: 0.4690\n",
            "Epoch 20/30\n",
            "157/157 [==============================] - 7s 47ms/step - loss: 0.0037 - accuracy: 0.9998 - val_loss: 2.7859 - val_accuracy: 0.4651\n",
            "Epoch 21/30\n",
            "157/157 [==============================] - 7s 47ms/step - loss: 0.0047 - accuracy: 0.9997 - val_loss: 2.7903 - val_accuracy: 0.4679\n",
            "Epoch 22/30\n",
            "157/157 [==============================] - 7s 47ms/step - loss: 0.1306 - accuracy: 0.9660 - val_loss: 16.1718 - val_accuracy: 0.1503\n",
            "Epoch 23/30\n",
            "157/157 [==============================] - 7s 47ms/step - loss: 1.2087 - accuracy: 0.6571 - val_loss: 3.1497 - val_accuracy: 0.3782\n",
            "Epoch 24/30\n",
            "157/157 [==============================] - 7s 47ms/step - loss: 0.2816 - accuracy: 0.9266 - val_loss: 2.7210 - val_accuracy: 0.4240\n",
            "Epoch 25/30\n",
            "157/157 [==============================] - 7s 47ms/step - loss: 0.0851 - accuracy: 0.9873 - val_loss: 2.5774 - val_accuracy: 0.4661\n",
            "Epoch 26/30\n",
            "157/157 [==============================] - 7s 47ms/step - loss: 0.0229 - accuracy: 0.9989 - val_loss: 2.5492 - val_accuracy: 0.4726\n",
            "Epoch 27/30\n",
            "157/157 [==============================] - 7s 47ms/step - loss: 0.0089 - accuracy: 0.9998 - val_loss: 2.6098 - val_accuracy: 0.4727\n",
            "Epoch 28/30\n",
            "157/157 [==============================] - 7s 47ms/step - loss: 0.0069 - accuracy: 0.9997 - val_loss: 2.6436 - val_accuracy: 0.4779\n",
            "Epoch 29/30\n",
            "157/157 [==============================] - 7s 47ms/step - loss: 0.0059 - accuracy: 0.9997 - val_loss: 2.6732 - val_accuracy: 0.4770\n",
            "Epoch 30/30\n",
            "157/157 [==============================] - 7s 47ms/step - loss: 0.0051 - accuracy: 0.9997 - val_loss: 2.6963 - val_accuracy: 0.4800\n"
          ],
          "name": "stdout"
        },
        {
          "output_type": "execute_result",
          "data": {
            "text/plain": [
              "[2.6756412982940674, 0.4925999939441681]"
            ]
          },
          "metadata": {
            "tags": []
          },
          "execution_count": 55
        }
      ]
    },
    {
      "cell_type": "code",
      "metadata": {
        "colab": {
          "base_uri": "https://localhost:8080/",
          "height": 625
        },
        "id": "YOiCp0-hAbQ9",
        "outputId": "29174724-f31c-404b-cd57-aaf21ff017c2"
      },
      "source": [
        "fig, axes = plt.subplots(2, 1, figsize=(10, 10))\r\n",
        "\r\n",
        "axes[0].set_title('Loss and Accuracy')\r\n",
        "axes[0].plot(history3.history['loss'], '-g', label='Train losses')\r\n",
        "axes[0].plot(history3.history['val_loss'], ':r', label='Valid losses')\r\n",
        "axes[0].legend()\r\n",
        "axes[1].plot(history3.history['accuracy'], '-b', label='Train accuracy')\r\n",
        "axes[1].plot(history3.history['val_accuracy'], ':k', label='Valid accuracy')\r\n",
        "axes[1].legend()"
      ],
      "execution_count": null,
      "outputs": [
        {
          "output_type": "execute_result",
          "data": {
            "text/plain": [
              "<matplotlib.legend.Legend at 0x7f299cd81cf8>"
            ]
          },
          "metadata": {
            "tags": []
          },
          "execution_count": 56
        },
        {
          "output_type": "display_data",
          "data": {
            "image/png": "[encoded data removed]",
            "text/plain": [
              "<Figure size 720x720 with 2 Axes>"
            ]
          },
          "metadata": {
            "tags": [],
            "needs_background": "light"
          }
        }
      ]
    },
    {
      "cell_type": "markdown",
      "metadata": {
        "id": "_O8kvqoQDme2"
      },
      "source": [
        "**Nhận xét:** Khi sử dụng `relu` cùng với batch normalization, cả tập train và valid đều cho thấy tín hiệu tốt so với model trước. Batch normalization giúp ổn định mô hình ngay cả khi đã bị overfit, tức vẫn giữ cho giá trị `val_loss` không tăng và `val_accuracy` không giảm."
      ]
    },
    {
      "cell_type": "markdown",
      "metadata": {
        "id": "K7xspcNEFa0b"
      },
      "source": [
        "**$\\bullet$ Model 4: sử dụng hàm `relu` cùng với khởi tạo `He normal`**"
      ]
    },
    {
      "cell_type": "code",
      "metadata": {
        "colab": {
          "base_uri": "https://localhost:8080/"
        },
        "id": "YEeKefd8C7ZF",
        "outputId": "2fe60280-28a6-4582-9552-f14c9f2e6b51"
      },
      "source": [
        "input_tensor = Input(INPUT_SHAPE)\r\n",
        "\r\n",
        "x = Conv2D(16, 3, padding='same', kernel_initializer='he_normal')(input_tensor)\r\n",
        "x = BatchNormalization()(x)\r\n",
        "x = Activation('relu')(x)\r\n",
        "x = Conv2D(32, 3, padding='same')(x)\r\n",
        "x = BatchNormalization()(x)\r\n",
        "x = Activation('relu')(x)\r\n",
        "x = MaxPooling2D()(x)\r\n",
        "\r\n",
        "x = Conv2D(64, 3, padding='same', kernel_initializer='he_normal')(x)\r\n",
        "x = BatchNormalization()(x)\r\n",
        "x = Activation('relu')(x)\r\n",
        "x = Conv2D(128, 3, padding='same')(x)\r\n",
        "x = BatchNormalization()(x)\r\n",
        "x = Activation('relu')(x)\r\n",
        "x = Conv2D(128, 3, padding='valid')(x)\r\n",
        "x = BatchNormalization()(x)\r\n",
        "x = Activation('relu')(x)\r\n",
        "x = MaxPooling2D()(x)\r\n",
        "\r\n",
        "x = Conv2D(256, 3, padding='valid')(x)\r\n",
        "x = BatchNormalization()(x)\r\n",
        "x = Activation('relu')(x)\r\n",
        "x = MaxPooling2D()(x)\r\n",
        "\r\n",
        "x = Flatten()(x)\r\n",
        "x = Dense(512, kernel_initializer='he_normal')(x)\r\n",
        "x = BatchNormalization()(x)\r\n",
        "x = Activation('relu')(x)\r\n",
        "x = Dense(N_CLASSES, activation='softmax')(x)\r\n",
        "\r\n",
        "model4 = keras.Model(inputs=[input_tensor], outputs=[x])\r\n",
        "\r\n",
        "model4.compile(optimizer='adam', loss=keras.losses.SparseCategoricalCrossentropy(), metrics=['accuracy'])\r\n",
        "\r\n",
        "model4.summary()"
      ],
      "execution_count": null,
      "outputs": [
        {
          "output_type": "stream",
          "text": [
            "Model: \"model_16\"\n",
            "_________________________________________________________________\n",
            "Layer (type)                 Output Shape              Param #   \n",
            "=================================================================\n",
            "input_21 (InputLayer)        [(None, 32, 32, 3)]       0         \n",
            "_________________________________________________________________\n",
            "conv2d_106 (Conv2D)          (None, 32, 32, 16)        448       \n",
            "_________________________________________________________________\n",
            "batch_normalization_28 (Batc (None, 32, 32, 16)        64        \n",
            "_________________________________________________________________\n",
            "activation_28 (Activation)   (None, 32, 32, 16)        0         \n",
            "_________________________________________________________________\n",
            "conv2d_107 (Conv2D)          (None, 32, 32, 32)        4640      \n",
            "_________________________________________________________________\n",
            "batch_normalization_29 (Batc (None, 32, 32, 32)        128       \n",
            "_________________________________________________________________\n",
            "activation_29 (Activation)   (None, 32, 32, 32)        0         \n",
            "_________________________________________________________________\n",
            "max_pooling2d_52 (MaxPooling (None, 16, 16, 32)        0         \n",
            "_________________________________________________________________\n",
            "conv2d_108 (Conv2D)          (None, 16, 16, 64)        18496     \n",
            "_________________________________________________________________\n",
            "batch_normalization_30 (Batc (None, 16, 16, 64)        256       \n",
            "_________________________________________________________________\n",
            "activation_30 (Activation)   (None, 16, 16, 64)        0         \n",
            "_________________________________________________________________\n",
            "conv2d_109 (Conv2D)          (None, 16, 16, 128)       73856     \n",
            "_________________________________________________________________\n",
            "batch_normalization_31 (Batc (None, 16, 16, 128)       512       \n",
            "_________________________________________________________________\n",
            "activation_31 (Activation)   (None, 16, 16, 128)       0         \n",
            "_________________________________________________________________\n",
            "conv2d_110 (Conv2D)          (None, 14, 14, 128)       147584    \n",
            "_________________________________________________________________\n",
            "batch_normalization_32 (Batc (None, 14, 14, 128)       512       \n",
            "_________________________________________________________________\n",
            "activation_32 (Activation)   (None, 14, 14, 128)       0         \n",
            "_________________________________________________________________\n",
            "max_pooling2d_53 (MaxPooling (None, 7, 7, 128)         0         \n",
            "_________________________________________________________________\n",
            "conv2d_111 (Conv2D)          (None, 5, 5, 256)         295168    \n",
            "_________________________________________________________________\n",
            "batch_normalization_33 (Batc (None, 5, 5, 256)         1024      \n",
            "_________________________________________________________________\n",
            "activation_33 (Activation)   (None, 5, 5, 256)         0         \n",
            "_________________________________________________________________\n",
            "max_pooling2d_54 (MaxPooling (None, 2, 2, 256)         0         \n",
            "_________________________________________________________________\n",
            "flatten_17 (Flatten)         (None, 1024)              0         \n",
            "_________________________________________________________________\n",
            "dense_35 (Dense)             (None, 512)               524800    \n",
            "_________________________________________________________________\n",
            "batch_normalization_34 (Batc (None, 512)               2048      \n",
            "_________________________________________________________________\n",
            "activation_34 (Activation)   (None, 512)               0         \n",
            "_________________________________________________________________\n",
            "dense_36 (Dense)             (None, 100)               51300     \n",
            "=================================================================\n",
            "Total params: 1,120,836\n",
            "Trainable params: 1,118,564\n",
            "Non-trainable params: 2,272\n",
            "_________________________________________________________________\n"
          ],
          "name": "stdout"
        }
      ]
    },
    {
      "cell_type": "code",
      "metadata": {
        "colab": {
          "base_uri": "https://localhost:8080/"
        },
        "id": "T9qQObDMDWeK",
        "outputId": "bdad520b-f1b3-4b32-bce8-f0e688504dc5"
      },
      "source": [
        "history4 = model4.fit(X_train, Y_train, batch_size=BATCH_SIZE, epochs=N_EPOCHS, validation_split=0.2)\r\n",
        "model4.evaluate(X_test, Y_test, batch_size=BATCH_SIZE, verbose=0)"
      ],
      "execution_count": null,
      "outputs": [
        {
          "output_type": "stream",
          "text": [
            "Epoch 1/30\n",
            "157/157 [==============================] - 9s 49ms/step - loss: 3.8070 - accuracy: 0.1404 - val_loss: 4.7802 - val_accuracy: 0.0677\n",
            "Epoch 2/30\n",
            "157/157 [==============================] - 7s 47ms/step - loss: 2.5715 - accuracy: 0.3542 - val_loss: 3.2739 - val_accuracy: 0.2262\n",
            "Epoch 3/30\n",
            "157/157 [==============================] - 7s 47ms/step - loss: 2.0185 - accuracy: 0.4736 - val_loss: 2.7867 - val_accuracy: 0.3205\n",
            "Epoch 4/30\n",
            "157/157 [==============================] - 7s 47ms/step - loss: 1.6004 - accuracy: 0.5783 - val_loss: 2.6014 - val_accuracy: 0.3619\n",
            "Epoch 5/30\n",
            "157/157 [==============================] - 7s 47ms/step - loss: 1.2247 - accuracy: 0.6734 - val_loss: 2.4773 - val_accuracy: 0.3997\n",
            "Epoch 6/30\n",
            "157/157 [==============================] - 7s 47ms/step - loss: 0.8749 - accuracy: 0.7754 - val_loss: 2.6457 - val_accuracy: 0.3911\n",
            "Epoch 7/30\n",
            "157/157 [==============================] - 7s 47ms/step - loss: 0.5769 - accuracy: 0.8600 - val_loss: 2.8195 - val_accuracy: 0.3808\n",
            "Epoch 8/30\n",
            "157/157 [==============================] - 7s 47ms/step - loss: 0.3339 - accuracy: 0.9288 - val_loss: 2.7004 - val_accuracy: 0.4046\n",
            "Epoch 9/30\n",
            "157/157 [==============================] - 7s 47ms/step - loss: 0.1788 - accuracy: 0.9692 - val_loss: 2.7441 - val_accuracy: 0.4261\n",
            "Epoch 10/30\n",
            "157/157 [==============================] - 7s 47ms/step - loss: 0.0927 - accuracy: 0.9901 - val_loss: 2.8193 - val_accuracy: 0.4220\n",
            "Epoch 11/30\n",
            "157/157 [==============================] - 7s 47ms/step - loss: 0.0377 - accuracy: 0.9972 - val_loss: 2.6669 - val_accuracy: 0.4509\n",
            "Epoch 12/30\n",
            "157/157 [==============================] - 7s 47ms/step - loss: 0.0169 - accuracy: 0.9993 - val_loss: 2.6939 - val_accuracy: 0.4514\n",
            "Epoch 13/30\n",
            "157/157 [==============================] - 7s 47ms/step - loss: 0.0124 - accuracy: 0.9995 - val_loss: 2.7024 - val_accuracy: 0.4547\n",
            "Epoch 14/30\n",
            "157/157 [==============================] - 7s 47ms/step - loss: 0.0083 - accuracy: 0.9997 - val_loss: 2.7547 - val_accuracy: 0.4560\n",
            "Epoch 15/30\n",
            "157/157 [==============================] - 7s 47ms/step - loss: 0.0082 - accuracy: 0.9996 - val_loss: 2.7528 - val_accuracy: 0.4582\n",
            "Epoch 16/30\n",
            "157/157 [==============================] - 7s 47ms/step - loss: 0.0056 - accuracy: 0.9998 - val_loss: 2.7939 - val_accuracy: 0.4551\n",
            "Epoch 17/30\n",
            "157/157 [==============================] - 7s 47ms/step - loss: 0.0052 - accuracy: 0.9998 - val_loss: 2.8430 - val_accuracy: 0.4541\n",
            "Epoch 18/30\n",
            "157/157 [==============================] - 7s 47ms/step - loss: 0.0068 - accuracy: 0.9994 - val_loss: 2.9021 - val_accuracy: 0.4464\n",
            "Epoch 19/30\n",
            "157/157 [==============================] - 7s 47ms/step - loss: 0.0064 - accuracy: 0.9997 - val_loss: 2.8890 - val_accuracy: 0.4520\n",
            "Epoch 20/30\n",
            "157/157 [==============================] - 7s 47ms/step - loss: 0.0048 - accuracy: 0.9998 - val_loss: 2.9598 - val_accuracy: 0.4439\n",
            "Epoch 21/30\n",
            "157/157 [==============================] - 7s 47ms/step - loss: 0.0040 - accuracy: 0.9998 - val_loss: 3.0018 - val_accuracy: 0.4462\n",
            "Epoch 22/30\n",
            "157/157 [==============================] - 7s 47ms/step - loss: 0.4850 - accuracy: 0.8706 - val_loss: 8.3699 - val_accuracy: 0.2100\n",
            "Epoch 23/30\n",
            "157/157 [==============================] - 7s 47ms/step - loss: 0.7871 - accuracy: 0.7706 - val_loss: 3.3460 - val_accuracy: 0.3757\n",
            "Epoch 24/30\n",
            "157/157 [==============================] - 7s 47ms/step - loss: 0.2134 - accuracy: 0.9475 - val_loss: 2.7839 - val_accuracy: 0.4331\n",
            "Epoch 25/30\n",
            "157/157 [==============================] - 7s 47ms/step - loss: 0.0480 - accuracy: 0.9952 - val_loss: 2.6856 - val_accuracy: 0.4536\n",
            "Epoch 26/30\n",
            "157/157 [==============================] - 7s 47ms/step - loss: 0.0140 - accuracy: 0.9996 - val_loss: 2.7126 - val_accuracy: 0.4634\n",
            "Epoch 27/30\n",
            "157/157 [==============================] - 7s 47ms/step - loss: 0.0080 - accuracy: 0.9997 - val_loss: 2.7609 - val_accuracy: 0.4633\n",
            "Epoch 28/30\n",
            "157/157 [==============================] - 7s 47ms/step - loss: 0.0066 - accuracy: 0.9996 - val_loss: 2.8034 - val_accuracy: 0.4632\n",
            "Epoch 29/30\n",
            "157/157 [==============================] - 7s 47ms/step - loss: 0.0049 - accuracy: 0.9998 - val_loss: 2.8367 - val_accuracy: 0.4628\n",
            "Epoch 30/30\n",
            "157/157 [==============================] - 7s 47ms/step - loss: 0.0046 - accuracy: 0.9997 - val_loss: 2.8828 - val_accuracy: 0.4637\n"
          ],
          "name": "stdout"
        },
        {
          "output_type": "execute_result",
          "data": {
            "text/plain": [
              "[2.8676505088806152, 0.4666999876499176]"
            ]
          },
          "metadata": {
            "tags": []
          },
          "execution_count": 66
        }
      ]
    },
    {
      "cell_type": "code",
      "metadata": {
        "colab": {
          "base_uri": "https://localhost:8080/",
          "height": 625
        },
        "id": "NXLXoyuXDbV4",
        "outputId": "73cb7624-b2aa-4b90-ed7b-3a4f75b10f15"
      },
      "source": [
        "fig, axes = plt.subplots(2, 1, figsize=(10, 10))\r\n",
        "\r\n",
        "axes[0].set_title('Loss and Accuracy')\r\n",
        "axes[0].plot(history4.history['loss'], '-g', label='Train losses')\r\n",
        "axes[0].plot(history4.history['val_loss'], ':r', label='Valid losses')\r\n",
        "axes[0].legend()\r\n",
        "axes[1].plot(history4.history['accuracy'], '-b', label='Train accuracy')\r\n",
        "axes[1].plot(history4.history['val_accuracy'], ':k', label='Valid accuracy')\r\n",
        "axes[1].legend()"
      ],
      "execution_count": null,
      "outputs": [
        {
          "output_type": "execute_result",
          "data": {
            "text/plain": [
              "<matplotlib.legend.Legend at 0x7f291360a128>"
            ]
          },
          "metadata": {
            "tags": []
          },
          "execution_count": 67
        },
        {
          "output_type": "display_data",
          "data": {
            "image/png": "[encoded data removed]",
            "text/plain": [
              "<Figure size 720x720 with 2 Axes>"
            ]
          },
          "metadata": {
            "tags": [],
            "needs_background": "light"
          }
        }
      ]
    },
    {
      "cell_type": "markdown",
      "metadata": {
        "id": "w96bdp--I0P5"
      },
      "source": [
        "**Nhận xét:** Sử dụng khởi tạo `He normal` tại một số layer trong trường hợp này làm performance của model kém đi. `test_accuracy` là $46.67\\%$ so với model trước là $49.26\\%$, `val_loss` tăng nhẹ, sau khi bị overfit)"
      ]
    },
    {
      "cell_type": "markdown",
      "metadata": {
        "id": "bLLKPM5FJ3fo"
      },
      "source": [
        "**$\\bullet$ Model 5: Thêm layer**"
      ]
    },
    {
      "cell_type": "code",
      "metadata": {
        "colab": {
          "base_uri": "https://localhost:8080/"
        },
        "id": "1G_8rZjsFqeu",
        "outputId": "67d88f2d-539a-4ce2-9659-1f54c99c5852"
      },
      "source": [
        "input_tensor = Input(INPUT_SHAPE)\r\n",
        "\r\n",
        "x = Conv2D(16, 3, padding='same', kernel_initializer='he_normal')(input_tensor)\r\n",
        "x = BatchNormalization()(x)\r\n",
        "x = Activation('relu')(x)\r\n",
        "x = Conv2D(32, 3, padding='same')(x)\r\n",
        "x = BatchNormalization()(x)\r\n",
        "x = Activation('relu')(x)\r\n",
        "x = MaxPooling2D()(x)\r\n",
        "\r\n",
        "x = Conv2D(64, 3, padding='same', kernel_initializer='he_normal')(x)\r\n",
        "x = BatchNormalization()(x)\r\n",
        "x = Activation('relu')(x)\r\n",
        "x = Conv2D(128, 3, padding='same')(x)\r\n",
        "x = BatchNormalization()(x)\r\n",
        "x = Activation('relu')(x)\r\n",
        "x = Conv2D(256, 3, padding='same')(x)\r\n",
        "x = BatchNormalization()(x)\r\n",
        "x = Activation('relu')(x)\r\n",
        "x = MaxPooling2D()(x)\r\n",
        "\r\n",
        "x = Conv2D(512, 3, padding='valid')(x)\r\n",
        "x = BatchNormalization()(x)\r\n",
        "x = Activation('relu')(x)\r\n",
        "x = Conv2D(512, 3, padding='valid')(x)\r\n",
        "x = BatchNormalization()(x)\r\n",
        "x = Activation('relu')(x)\r\n",
        "x = Conv2D(512, 3, padding='valid')(x)\r\n",
        "x = BatchNormalization()(x)\r\n",
        "x = Activation('relu')(x)\r\n",
        "x = MaxPooling2D()(x)\r\n",
        "\r\n",
        "x = Flatten()(x)\r\n",
        "x = Dense(512, kernel_initializer='he_normal')(x)\r\n",
        "x = BatchNormalization()(x)\r\n",
        "x = Activation('relu')(x)\r\n",
        "x = Dense(N_CLASSES, activation='softmax')(x)\r\n",
        "\r\n",
        "model5 = keras.Model(inputs=[input_tensor], outputs=[x])\r\n",
        "\r\n",
        "model5.compile(optimizer='adam', loss=keras.losses.SparseCategoricalCrossentropy(), metrics=['accuracy'])\r\n",
        "\r\n",
        "model5.summary()"
      ],
      "execution_count": null,
      "outputs": [
        {
          "output_type": "stream",
          "text": [
            "Model: \"model_20\"\n",
            "_________________________________________________________________\n",
            "Layer (type)                 Output Shape              Param #   \n",
            "=================================================================\n",
            "input_25 (InputLayer)        [(None, 32, 32, 3)]       0         \n",
            "_________________________________________________________________\n",
            "conv2d_132 (Conv2D)          (None, 32, 32, 16)        448       \n",
            "_________________________________________________________________\n",
            "batch_normalization_58 (Batc (None, 32, 32, 16)        64        \n",
            "_________________________________________________________________\n",
            "activation_58 (Activation)   (None, 32, 32, 16)        0         \n",
            "_________________________________________________________________\n",
            "conv2d_133 (Conv2D)          (None, 32, 32, 32)        4640      \n",
            "_________________________________________________________________\n",
            "batch_normalization_59 (Batc (None, 32, 32, 32)        128       \n",
            "_________________________________________________________________\n",
            "activation_59 (Activation)   (None, 32, 32, 32)        0         \n",
            "_________________________________________________________________\n",
            "max_pooling2d_64 (MaxPooling (None, 16, 16, 32)        0         \n",
            "_________________________________________________________________\n",
            "conv2d_134 (Conv2D)          (None, 16, 16, 64)        18496     \n",
            "_________________________________________________________________\n",
            "batch_normalization_60 (Batc (None, 16, 16, 64)        256       \n",
            "_________________________________________________________________\n",
            "activation_60 (Activation)   (None, 16, 16, 64)        0         \n",
            "_________________________________________________________________\n",
            "conv2d_135 (Conv2D)          (None, 16, 16, 128)       73856     \n",
            "_________________________________________________________________\n",
            "batch_normalization_61 (Batc (None, 16, 16, 128)       512       \n",
            "_________________________________________________________________\n",
            "activation_61 (Activation)   (None, 16, 16, 128)       0         \n",
            "_________________________________________________________________\n",
            "conv2d_136 (Conv2D)          (None, 16, 16, 256)       295168    \n",
            "_________________________________________________________________\n",
            "batch_normalization_62 (Batc (None, 16, 16, 256)       1024      \n",
            "_________________________________________________________________\n",
            "activation_62 (Activation)   (None, 16, 16, 256)       0         \n",
            "_________________________________________________________________\n",
            "max_pooling2d_65 (MaxPooling (None, 8, 8, 256)         0         \n",
            "_________________________________________________________________\n",
            "conv2d_137 (Conv2D)          (None, 6, 6, 512)         1180160   \n",
            "_________________________________________________________________\n",
            "batch_normalization_63 (Batc (None, 6, 6, 512)         2048      \n",
            "_________________________________________________________________\n",
            "activation_63 (Activation)   (None, 6, 6, 512)         0         \n",
            "_________________________________________________________________\n",
            "conv2d_138 (Conv2D)          (None, 4, 4, 512)         2359808   \n",
            "_________________________________________________________________\n",
            "batch_normalization_64 (Batc (None, 4, 4, 512)         2048      \n",
            "_________________________________________________________________\n",
            "activation_64 (Activation)   (None, 4, 4, 512)         0         \n",
            "_________________________________________________________________\n",
            "conv2d_139 (Conv2D)          (None, 2, 2, 512)         2359808   \n",
            "_________________________________________________________________\n",
            "batch_normalization_65 (Batc (None, 2, 2, 512)         2048      \n",
            "_________________________________________________________________\n",
            "activation_65 (Activation)   (None, 2, 2, 512)         0         \n",
            "_________________________________________________________________\n",
            "max_pooling2d_66 (MaxPooling (None, 1, 1, 512)         0         \n",
            "_________________________________________________________________\n",
            "flatten_21 (Flatten)         (None, 512)               0         \n",
            "_________________________________________________________________\n",
            "dense_43 (Dense)             (None, 512)               262656    \n",
            "_________________________________________________________________\n",
            "batch_normalization_66 (Batc (None, 512)               2048      \n",
            "_________________________________________________________________\n",
            "activation_66 (Activation)   (None, 512)               0         \n",
            "_________________________________________________________________\n",
            "dense_44 (Dense)             (None, 100)               51300     \n",
            "=================================================================\n",
            "Total params: 6,616,516\n",
            "Trainable params: 6,611,428\n",
            "Non-trainable params: 5,088\n",
            "_________________________________________________________________\n"
          ],
          "name": "stdout"
        }
      ]
    },
    {
      "cell_type": "code",
      "metadata": {
        "colab": {
          "base_uri": "https://localhost:8080/"
        },
        "id": "EWlUOHyPK8B-",
        "outputId": "5871f59f-87b5-4f35-f72c-95f36a2c9655"
      },
      "source": [
        "history5 = model5.fit(X_train, Y_train, batch_size=BATCH_SIZE, epochs=N_EPOCHS, validation_split=0.2)\r\n",
        "model5.evaluate(X_test, Y_test, batch_size=BATCH_SIZE, verbose=0)"
      ],
      "execution_count": null,
      "outputs": [
        {
          "output_type": "stream",
          "text": [
            "Epoch 1/30\n",
            "157/157 [==============================] - 18s 99ms/step - loss: 3.7963 - accuracy: 0.1364 - val_loss: 5.6941 - val_accuracy: 0.0363\n",
            "Epoch 2/30\n",
            "157/157 [==============================] - 15s 94ms/step - loss: 2.6370 - accuracy: 0.3277 - val_loss: 2.9335 - val_accuracy: 0.2851\n",
            "Epoch 3/30\n",
            "157/157 [==============================] - 15s 94ms/step - loss: 2.0180 - accuracy: 0.4606 - val_loss: 2.8860 - val_accuracy: 0.3283\n",
            "Epoch 4/30\n",
            "157/157 [==============================] - 15s 94ms/step - loss: 1.5680 - accuracy: 0.5710 - val_loss: 2.3868 - val_accuracy: 0.4082\n",
            "Epoch 5/30\n",
            "157/157 [==============================] - 15s 94ms/step - loss: 1.1903 - accuracy: 0.6705 - val_loss: 2.8154 - val_accuracy: 0.3607\n",
            "Epoch 6/30\n",
            "157/157 [==============================] - 15s 95ms/step - loss: 0.8284 - accuracy: 0.7714 - val_loss: 2.7680 - val_accuracy: 0.3858\n",
            "Epoch 7/30\n",
            "157/157 [==============================] - 15s 95ms/step - loss: 0.4860 - accuracy: 0.8726 - val_loss: 2.5015 - val_accuracy: 0.4169\n",
            "Epoch 8/30\n",
            "157/157 [==============================] - 15s 95ms/step - loss: 0.2414 - accuracy: 0.9446 - val_loss: 2.4312 - val_accuracy: 0.4525\n",
            "Epoch 9/30\n",
            "157/157 [==============================] - 15s 96ms/step - loss: 0.0984 - accuracy: 0.9825 - val_loss: 2.2205 - val_accuracy: 0.5020\n",
            "Epoch 10/30\n",
            "157/157 [==============================] - 15s 96ms/step - loss: 0.0390 - accuracy: 0.9949 - val_loss: 2.2683 - val_accuracy: 0.5026\n",
            "Epoch 11/30\n",
            "157/157 [==============================] - 15s 96ms/step - loss: 0.0215 - accuracy: 0.9979 - val_loss: 2.2190 - val_accuracy: 0.5250\n",
            "Epoch 12/30\n",
            "157/157 [==============================] - 15s 95ms/step - loss: 0.0070 - accuracy: 0.9997 - val_loss: 2.2256 - val_accuracy: 0.5333\n",
            "Epoch 13/30\n",
            "157/157 [==============================] - 15s 95ms/step - loss: 0.0067 - accuracy: 0.9994 - val_loss: 2.2278 - val_accuracy: 0.5369\n",
            "Epoch 14/30\n",
            "157/157 [==============================] - 15s 95ms/step - loss: 0.0053 - accuracy: 0.9996 - val_loss: 2.1617 - val_accuracy: 0.5438\n",
            "Epoch 15/30\n",
            "157/157 [==============================] - 15s 96ms/step - loss: 0.0045 - accuracy: 0.9995 - val_loss: 2.1922 - val_accuracy: 0.5495\n",
            "Epoch 16/30\n",
            "157/157 [==============================] - 15s 96ms/step - loss: 0.0041 - accuracy: 0.9996 - val_loss: 2.2021 - val_accuracy: 0.5443\n",
            "Epoch 17/30\n",
            "157/157 [==============================] - 15s 95ms/step - loss: 0.0027 - accuracy: 0.9997 - val_loss: 2.2573 - val_accuracy: 0.5438\n",
            "Epoch 18/30\n",
            "157/157 [==============================] - 15s 96ms/step - loss: 0.0035 - accuracy: 0.9995 - val_loss: 2.2402 - val_accuracy: 0.5425\n",
            "Epoch 19/30\n",
            "157/157 [==============================] - 15s 96ms/step - loss: 0.0037 - accuracy: 0.9996 - val_loss: 2.2930 - val_accuracy: 0.5421\n",
            "Epoch 20/30\n",
            "157/157 [==============================] - 15s 96ms/step - loss: 0.0024 - accuracy: 0.9997 - val_loss: 2.2518 - val_accuracy: 0.5464\n",
            "Epoch 21/30\n",
            "157/157 [==============================] - 15s 95ms/step - loss: 0.0018 - accuracy: 0.9997 - val_loss: 2.2816 - val_accuracy: 0.5444\n",
            "Epoch 22/30\n",
            "157/157 [==============================] - 15s 95ms/step - loss: 0.0029 - accuracy: 0.9995 - val_loss: 2.2677 - val_accuracy: 0.5536\n",
            "Epoch 23/30\n",
            "157/157 [==============================] - 15s 95ms/step - loss: 0.0015 - accuracy: 0.9999 - val_loss: 2.3330 - val_accuracy: 0.5436\n",
            "Epoch 24/30\n",
            "157/157 [==============================] - 15s 95ms/step - loss: 0.0020 - accuracy: 0.9998 - val_loss: 2.3141 - val_accuracy: 0.5481\n",
            "Epoch 25/30\n",
            "157/157 [==============================] - 15s 95ms/step - loss: 0.0013 - accuracy: 0.9998 - val_loss: 2.6529 - val_accuracy: 0.4886\n",
            "Epoch 26/30\n",
            "157/157 [==============================] - 15s 95ms/step - loss: 1.3253 - accuracy: 0.6653 - val_loss: 5.9845 - val_accuracy: 0.2662\n",
            "Epoch 27/30\n",
            "157/157 [==============================] - 15s 95ms/step - loss: 0.6638 - accuracy: 0.8071 - val_loss: 2.4625 - val_accuracy: 0.4498\n",
            "Epoch 28/30\n",
            "157/157 [==============================] - 15s 96ms/step - loss: 0.1816 - accuracy: 0.9577 - val_loss: 2.1892 - val_accuracy: 0.4986\n",
            "Epoch 29/30\n",
            "157/157 [==============================] - 15s 96ms/step - loss: 0.0378 - accuracy: 0.9943 - val_loss: 2.1453 - val_accuracy: 0.5319\n",
            "Epoch 30/30\n",
            "157/157 [==============================] - 15s 96ms/step - loss: 0.0133 - accuracy: 0.9988 - val_loss: 2.1539 - val_accuracy: 0.5425\n"
          ],
          "name": "stdout"
        },
        {
          "output_type": "execute_result",
          "data": {
            "text/plain": [
              "[2.1116983890533447, 0.5486000180244446]"
            ]
          },
          "metadata": {
            "tags": []
          },
          "execution_count": 72
        }
      ]
    },
    {
      "cell_type": "code",
      "metadata": {
        "colab": {
          "base_uri": "https://localhost:8080/",
          "height": 625
        },
        "id": "5qylJMYNLJQB",
        "outputId": "6b60b900-911b-4619-837a-de3f57817add"
      },
      "source": [
        "fig, axes = plt.subplots(2, 1, figsize=(10, 10))\r\n",
        "\r\n",
        "axes[0].set_title('Loss and Accuracy')\r\n",
        "axes[0].plot(history5.history['loss'], '-g', label='Train losses')\r\n",
        "axes[0].plot(history5.history['val_loss'], ':r', label='Valid losses')\r\n",
        "axes[0].legend()\r\n",
        "axes[1].plot(history5.history['accuracy'], '-b', label='Train accuracy')\r\n",
        "axes[1].plot(history5.history['val_accuracy'], ':k', label='Valid accuracy')\r\n",
        "axes[1].legend()"
      ],
      "execution_count": null,
      "outputs": [
        {
          "output_type": "execute_result",
          "data": {
            "text/plain": [
              "<matplotlib.legend.Legend at 0x7f291143f358>"
            ]
          },
          "metadata": {
            "tags": []
          },
          "execution_count": 73
        },
        {
          "output_type": "display_data",
          "data": {
            "image/png": "[encoded data removed]",
            "text/plain": [
              "<Figure size 720x720 with 2 Axes>"
            ]
          },
          "metadata": {
            "tags": [],
            "needs_background": "light"
          }
        }
      ]
    },
    {
      "cell_type": "markdown",
      "metadata": {
        "id": "y5hKzly1NW1G"
      },
      "source": [
        "**Nhận xét:** Model được train tốt hơn, thể hiện trên cả tập training và validation."
      ]
    },
    {
      "cell_type": "markdown",
      "metadata": {
        "id": "zOaIXNYvNoZZ"
      },
      "source": [
        "**$\\bullet$ Model 6: Tiếp tục thêm layer**"
      ]
    },
    {
      "cell_type": "code",
      "metadata": {
        "colab": {
          "base_uri": "https://localhost:8080/"
        },
        "id": "Rcz9W6KvNGl1",
        "outputId": "144daca8-4318-4b38-9e8c-54f9e16e54e5"
      },
      "source": [
        "input_tensor = Input(INPUT_SHAPE)\r\n",
        "\r\n",
        "# x_res = Conv2D(32, 1, padding='same')(input_tensor)\r\n",
        "x = Conv2D(16, 3, padding='same', kernel_initializer='he_normal')(input_tensor)\r\n",
        "x = BatchNormalization()(x)\r\n",
        "x = Activation('relu')(x)\r\n",
        "x = Conv2D(32, 3, padding='same')(x)\r\n",
        "x = BatchNormalization()(x)\r\n",
        "x = Activation('relu')(x)\r\n",
        "# x = Add()([x_res, x])\r\n",
        "\r\n",
        "x = MaxPooling2D()(x)\r\n",
        "\r\n",
        "# x_res = x\r\n",
        "# x_res = Conv2D(256, 1, padding='same')(x_res)\r\n",
        "x = Conv2D(64, 3, padding='same', kernel_initializer='he_normal')(x)\r\n",
        "x = BatchNormalization()(x)\r\n",
        "x = Activation('relu')(x)\r\n",
        "x = Conv2D(128, 3, padding='same')(x)\r\n",
        "x = BatchNormalization()(x)\r\n",
        "x = Activation('relu')(x)\r\n",
        "x = Conv2D(256, 3, padding='same')(x)\r\n",
        "x = BatchNormalization()(x)\r\n",
        "x = Activation('relu')(x)\r\n",
        "# x = Add()([x_res, x])\r\n",
        "\r\n",
        "x = MaxPooling2D()(x)\r\n",
        "\r\n",
        "# x_res = x\r\n",
        "# x_res = Conv2D(512, 1, padding='same')(x_res)\r\n",
        "x = Conv2D(512, 3, padding='same')(x)\r\n",
        "x = BatchNormalization()(x)\r\n",
        "x = Activation('relu')(x)\r\n",
        "x = Conv2D(512, 3, padding='same')(x)\r\n",
        "x = BatchNormalization()(x)\r\n",
        "x = Activation('relu')(x)\r\n",
        "x = Conv2D(512, 3, padding='same')(x)\r\n",
        "x = BatchNormalization()(x)\r\n",
        "x = Activation('relu')(x)\r\n",
        "# x = Add()([x_res, x])\r\n",
        "\r\n",
        "x = MaxPooling2D()(x)\r\n",
        "\r\n",
        "x = Flatten()(x)\r\n",
        "x = Dense(512, kernel_initializer='he_normal')(x)\r\n",
        "x = BatchNormalization()(x)\r\n",
        "x = Activation('relu')(x)\r\n",
        "x = Dense(N_CLASSES, activation='softmax')(x)\r\n",
        "\r\n",
        "model6 = keras.Model(inputs=[input_tensor], outputs=[x])\r\n",
        "\r\n",
        "model6.compile(optimizer='adam', loss=keras.losses.SparseCategoricalCrossentropy(), metrics=['accuracy'])\r\n",
        "\r\n",
        "model6.summary()"
      ],
      "execution_count": null,
      "outputs": [
        {
          "output_type": "stream",
          "text": [
            "Model: \"model_22\"\n",
            "_________________________________________________________________\n",
            "Layer (type)                 Output Shape              Param #   \n",
            "=================================================================\n",
            "input_27 (InputLayer)        [(None, 32, 32, 3)]       0         \n",
            "_________________________________________________________________\n",
            "conv2d_151 (Conv2D)          (None, 32, 32, 16)        448       \n",
            "_________________________________________________________________\n",
            "batch_normalization_76 (Batc (None, 32, 32, 16)        64        \n",
            "_________________________________________________________________\n",
            "activation_76 (Activation)   (None, 32, 32, 16)        0         \n",
            "_________________________________________________________________\n",
            "conv2d_152 (Conv2D)          (None, 32, 32, 32)        4640      \n",
            "_________________________________________________________________\n",
            "batch_normalization_77 (Batc (None, 32, 32, 32)        128       \n",
            "_________________________________________________________________\n",
            "activation_77 (Activation)   (None, 32, 32, 32)        0         \n",
            "_________________________________________________________________\n",
            "max_pooling2d_70 (MaxPooling (None, 16, 16, 32)        0         \n",
            "_________________________________________________________________\n",
            "conv2d_153 (Conv2D)          (None, 16, 16, 64)        18496     \n",
            "_________________________________________________________________\n",
            "batch_normalization_78 (Batc (None, 16, 16, 64)        256       \n",
            "_________________________________________________________________\n",
            "activation_78 (Activation)   (None, 16, 16, 64)        0         \n",
            "_________________________________________________________________\n",
            "conv2d_154 (Conv2D)          (None, 16, 16, 128)       73856     \n",
            "_________________________________________________________________\n",
            "batch_normalization_79 (Batc (None, 16, 16, 128)       512       \n",
            "_________________________________________________________________\n",
            "activation_79 (Activation)   (None, 16, 16, 128)       0         \n",
            "_________________________________________________________________\n",
            "conv2d_155 (Conv2D)          (None, 16, 16, 256)       295168    \n",
            "_________________________________________________________________\n",
            "batch_normalization_80 (Batc (None, 16, 16, 256)       1024      \n",
            "_________________________________________________________________\n",
            "activation_80 (Activation)   (None, 16, 16, 256)       0         \n",
            "_________________________________________________________________\n",
            "max_pooling2d_71 (MaxPooling (None, 8, 8, 256)         0         \n",
            "_________________________________________________________________\n",
            "conv2d_156 (Conv2D)          (None, 8, 8, 512)         1180160   \n",
            "_________________________________________________________________\n",
            "batch_normalization_81 (Batc (None, 8, 8, 512)         2048      \n",
            "_________________________________________________________________\n",
            "activation_81 (Activation)   (None, 8, 8, 512)         0         \n",
            "_________________________________________________________________\n",
            "conv2d_157 (Conv2D)          (None, 8, 8, 512)         2359808   \n",
            "_________________________________________________________________\n",
            "batch_normalization_82 (Batc (None, 8, 8, 512)         2048      \n",
            "_________________________________________________________________\n",
            "activation_82 (Activation)   (None, 8, 8, 512)         0         \n",
            "_________________________________________________________________\n",
            "conv2d_158 (Conv2D)          (None, 8, 8, 512)         2359808   \n",
            "_________________________________________________________________\n",
            "batch_normalization_83 (Batc (None, 8, 8, 512)         2048      \n",
            "_________________________________________________________________\n",
            "activation_83 (Activation)   (None, 8, 8, 512)         0         \n",
            "_________________________________________________________________\n",
            "max_pooling2d_72 (MaxPooling (None, 4, 4, 512)         0         \n",
            "_________________________________________________________________\n",
            "flatten_23 (Flatten)         (None, 8192)              0         \n",
            "_________________________________________________________________\n",
            "dense_47 (Dense)             (None, 512)               4194816   \n",
            "_________________________________________________________________\n",
            "batch_normalization_84 (Batc (None, 512)               2048      \n",
            "_________________________________________________________________\n",
            "activation_84 (Activation)   (None, 512)               0         \n",
            "_________________________________________________________________\n",
            "dense_48 (Dense)             (None, 100)               51300     \n",
            "=================================================================\n",
            "Total params: 10,548,676\n",
            "Trainable params: 10,543,588\n",
            "Non-trainable params: 5,088\n",
            "_________________________________________________________________\n"
          ],
          "name": "stdout"
        }
      ]
    },
    {
      "cell_type": "code",
      "metadata": {
        "colab": {
          "base_uri": "https://localhost:8080/"
        },
        "id": "0eH6LWPsPXRk",
        "outputId": "9c683251-b94f-4962-e54b-883ba5e6047f"
      },
      "source": [
        "history6 = model6.fit(X_train, Y_train, batch_size=BATCH_SIZE, epochs=N_EPOCHS, validation_split=0.2)\r\n",
        "model6.evaluate(X_test, Y_test, batch_size=BATCH_SIZE, verbose=0)"
      ],
      "execution_count": null,
      "outputs": [
        {
          "output_type": "stream",
          "text": [
            "Epoch 1/30\n",
            "157/157 [==============================] - 22s 132ms/step - loss: 3.6795 - accuracy: 0.1584 - val_loss: 4.8233 - val_accuracy: 0.0805\n",
            "Epoch 2/30\n",
            "157/157 [==============================] - 21s 131ms/step - loss: 2.4028 - accuracy: 0.3794 - val_loss: 3.6622 - val_accuracy: 0.2301\n",
            "Epoch 3/30\n",
            "157/157 [==============================] - 21s 132ms/step - loss: 1.7650 - accuracy: 0.5312 - val_loss: 2.6870 - val_accuracy: 0.3562\n",
            "Epoch 4/30\n",
            "157/157 [==============================] - 21s 132ms/step - loss: 1.2899 - accuracy: 0.6546 - val_loss: 2.3875 - val_accuracy: 0.4153\n",
            "Epoch 5/30\n",
            "157/157 [==============================] - 21s 132ms/step - loss: 0.8874 - accuracy: 0.7640 - val_loss: 2.3500 - val_accuracy: 0.4135\n",
            "Epoch 6/30\n",
            "157/157 [==============================] - 21s 132ms/step - loss: 0.5168 - accuracy: 0.8735 - val_loss: 2.2130 - val_accuracy: 0.4609\n",
            "Epoch 7/30\n",
            "157/157 [==============================] - 21s 132ms/step - loss: 0.2251 - accuracy: 0.9579 - val_loss: 2.2630 - val_accuracy: 0.4672\n",
            "Epoch 8/30\n",
            "157/157 [==============================] - 21s 132ms/step - loss: 0.0816 - accuracy: 0.9901 - val_loss: 1.9874 - val_accuracy: 0.5245\n",
            "Epoch 9/30\n",
            "157/157 [==============================] - 21s 132ms/step - loss: 0.0210 - accuracy: 0.9990 - val_loss: 1.9212 - val_accuracy: 0.5444\n",
            "Epoch 10/30\n",
            "157/157 [==============================] - 21s 132ms/step - loss: 0.0108 - accuracy: 0.9994 - val_loss: 1.9077 - val_accuracy: 0.5555\n",
            "Epoch 11/30\n",
            "157/157 [==============================] - 21s 132ms/step - loss: 0.0061 - accuracy: 0.9997 - val_loss: 1.9142 - val_accuracy: 0.5622\n",
            "Epoch 12/30\n",
            "157/157 [==============================] - 21s 132ms/step - loss: 0.0062 - accuracy: 0.9996 - val_loss: 1.9446 - val_accuracy: 0.5591\n",
            "Epoch 13/30\n",
            "157/157 [==============================] - 21s 132ms/step - loss: 0.0046 - accuracy: 0.9997 - val_loss: 2.0396 - val_accuracy: 0.5520\n",
            "Epoch 14/30\n",
            "157/157 [==============================] - 21s 132ms/step - loss: 0.0044 - accuracy: 0.9997 - val_loss: 2.0342 - val_accuracy: 0.5524\n",
            "Epoch 15/30\n",
            "157/157 [==============================] - 21s 132ms/step - loss: 0.0048 - accuracy: 0.9995 - val_loss: 1.9809 - val_accuracy: 0.5610\n",
            "Epoch 16/30\n",
            "157/157 [==============================] - 21s 132ms/step - loss: 0.0031 - accuracy: 0.9997 - val_loss: 2.1136 - val_accuracy: 0.5509\n",
            "Epoch 17/30\n",
            "157/157 [==============================] - 21s 132ms/step - loss: 0.0028 - accuracy: 0.9997 - val_loss: 2.0640 - val_accuracy: 0.5546\n",
            "Epoch 18/30\n",
            "157/157 [==============================] - 21s 132ms/step - loss: 0.0039 - accuracy: 0.9997 - val_loss: 2.2138 - val_accuracy: 0.5423\n",
            "Epoch 19/30\n",
            "157/157 [==============================] - 21s 132ms/step - loss: 0.0017 - accuracy: 0.9999 - val_loss: 2.1302 - val_accuracy: 0.5403\n",
            "Epoch 20/30\n",
            "157/157 [==============================] - 21s 132ms/step - loss: 0.2829 - accuracy: 0.9211 - val_loss: 11.0936 - val_accuracy: 0.1704\n",
            "Epoch 21/30\n",
            "157/157 [==============================] - 21s 132ms/step - loss: 0.6716 - accuracy: 0.8047 - val_loss: 2.6047 - val_accuracy: 0.4411\n",
            "Epoch 22/30\n",
            "157/157 [==============================] - 21s 133ms/step - loss: 0.1111 - accuracy: 0.9777 - val_loss: 2.0487 - val_accuracy: 0.5203\n",
            "Epoch 23/30\n",
            "157/157 [==============================] - 21s 133ms/step - loss: 0.0163 - accuracy: 0.9990 - val_loss: 1.9534 - val_accuracy: 0.5562\n",
            "Epoch 24/30\n",
            "157/157 [==============================] - 21s 134ms/step - loss: 0.0067 - accuracy: 0.9996 - val_loss: 1.9802 - val_accuracy: 0.5600\n",
            "Epoch 25/30\n",
            "157/157 [==============================] - 21s 134ms/step - loss: 0.0040 - accuracy: 0.9997 - val_loss: 2.0220 - val_accuracy: 0.5610\n",
            "Epoch 26/30\n",
            "157/157 [==============================] - 21s 133ms/step - loss: 0.0035 - accuracy: 0.9997 - val_loss: 2.0315 - val_accuracy: 0.5601\n",
            "Epoch 27/30\n",
            "157/157 [==============================] - 21s 133ms/step - loss: 0.0028 - accuracy: 0.9998 - val_loss: 2.0485 - val_accuracy: 0.5619\n",
            "Epoch 28/30\n",
            "157/157 [==============================] - 21s 133ms/step - loss: 0.0037 - accuracy: 0.9996 - val_loss: 2.0461 - val_accuracy: 0.5651\n",
            "Epoch 29/30\n",
            "157/157 [==============================] - 21s 133ms/step - loss: 0.0023 - accuracy: 0.9998 - val_loss: 2.1210 - val_accuracy: 0.5544\n",
            "Epoch 30/30\n",
            "157/157 [==============================] - 21s 133ms/step - loss: 0.0023 - accuracy: 0.9998 - val_loss: 2.1397 - val_accuracy: 0.5531\n"
          ],
          "name": "stdout"
        },
        {
          "output_type": "execute_result",
          "data": {
            "text/plain": [
              "[2.084077835083008, 0.5616000294685364]"
            ]
          },
          "metadata": {
            "tags": []
          },
          "execution_count": 78
        }
      ]
    },
    {
      "cell_type": "code",
      "metadata": {
        "colab": {
          "base_uri": "https://localhost:8080/",
          "height": 625
        },
        "id": "t3o_sF18PaBG",
        "outputId": "9362dd0c-3412-4a44-8951-1784540d6fa3"
      },
      "source": [
        "fig, axes = plt.subplots(2, 1, figsize=(10, 10))\r\n",
        "\r\n",
        "axes[0].set_title('Loss and Accuracy')\r\n",
        "axes[0].plot(history6.history['loss'], '-g', label='Train losses')\r\n",
        "axes[0].plot(history6.history['val_loss'], ':r', label='Valid losses')\r\n",
        "axes[0].legend()\r\n",
        "axes[1].plot(history6.history['accuracy'], '-b', label='Train accuracy')\r\n",
        "axes[1].plot(history6.history['val_accuracy'], ':k', label='Valid accuracy')\r\n",
        "axes[1].legend()"
      ],
      "execution_count": null,
      "outputs": [
        {
          "output_type": "execute_result",
          "data": {
            "text/plain": [
              "<matplotlib.legend.Legend at 0x7f2911a82588>"
            ]
          },
          "metadata": {
            "tags": []
          },
          "execution_count": 79
        },
        {
          "output_type": "display_data",
          "data": {
            "image/png": "[encoded data removed]",
            "text/plain": [
              "<Figure size 720x720 with 2 Axes>"
            ]
          },
          "metadata": {
            "tags": [],
            "needs_background": "light"
          }
        }
      ]
    },
    {
      "cell_type": "markdown",
      "metadata": {
        "id": "EUlGGJx7X8nv"
      },
      "source": [
        "**$\\bullet$ Model 7: Sử dụng skip-connection**"
      ]
    },
    {
      "cell_type": "code",
      "metadata": {
        "colab": {
          "base_uri": "https://localhost:8080/"
        },
        "id": "b1Ek7cfuX8E0",
        "outputId": "20300894-4300-4033-fbd9-73850fef68c4"
      },
      "source": [
        "input_tensor = Input(INPUT_SHAPE)\r\n",
        "\r\n",
        "x_res = Conv2D(32, 1, padding='same')(input_tensor)\r\n",
        "x = Conv2D(16, 3, padding='same', kernel_initializer='he_normal')(input_tensor)\r\n",
        "x = BatchNormalization()(x)\r\n",
        "x = Activation('relu')(x)\r\n",
        "x = Conv2D(32, 3, padding='same')(x)\r\n",
        "x = BatchNormalization()(x)\r\n",
        "x = Activation('relu')(x)\r\n",
        "x = Add()([x_res, x])\r\n",
        "\r\n",
        "x = MaxPooling2D()(x)\r\n",
        "\r\n",
        "x_res = x\r\n",
        "x_res = Conv2D(256, 1, padding='same')(x_res)\r\n",
        "x = Conv2D(64, 3, padding='same', kernel_initializer='he_normal')(x)\r\n",
        "x = BatchNormalization()(x)\r\n",
        "x = Activation('relu')(x)\r\n",
        "x = Conv2D(128, 3, padding='same')(x)\r\n",
        "x = BatchNormalization()(x)\r\n",
        "x = Activation('relu')(x)\r\n",
        "x = Conv2D(256, 3, padding='same')(x)\r\n",
        "x = BatchNormalization()(x)\r\n",
        "x = Activation('relu')(x)\r\n",
        "x = Add()([x_res, x])\r\n",
        "\r\n",
        "x = MaxPooling2D()(x)\r\n",
        "\r\n",
        "x_res = x\r\n",
        "x_res = Conv2D(512, 1, padding='same')(x_res)\r\n",
        "x = Conv2D(512, 3, padding='same')(x)\r\n",
        "x = BatchNormalization()(x)\r\n",
        "x = Activation('relu')(x)\r\n",
        "x = Conv2D(512, 3, padding='same')(x)\r\n",
        "x = BatchNormalization()(x)\r\n",
        "x = Activation('relu')(x)\r\n",
        "x = Conv2D(512, 3, padding='same')(x)\r\n",
        "x = BatchNormalization()(x)\r\n",
        "x = Activation('relu')(x)\r\n",
        "x = Add()([x_res, x])\r\n",
        "\r\n",
        "x = MaxPooling2D()(x)\r\n",
        "\r\n",
        "x = Flatten()(x)\r\n",
        "x = Dense(512, kernel_initializer='he_normal')(x)\r\n",
        "x = BatchNormalization()(x)\r\n",
        "x = Activation('relu')(x)\r\n",
        "x = Dense(N_CLASSES, activation='softmax')(x)\r\n",
        "\r\n",
        "model7 = keras.Model(inputs=[input_tensor], outputs=[x])\r\n",
        "\r\n",
        "model7.compile(optimizer='adam', loss=keras.losses.SparseCategoricalCrossentropy(), metrics=['accuracy'])\r\n",
        "\r\n",
        "model7.summary()"
      ],
      "execution_count": null,
      "outputs": [
        {
          "output_type": "stream",
          "text": [
            "Model: \"model_23\"\n",
            "__________________________________________________________________________________________________\n",
            "Layer (type)                    Output Shape         Param #     Connected to                     \n",
            "==================================================================================================\n",
            "input_28 (InputLayer)           [(None, 32, 32, 3)]  0                                            \n",
            "__________________________________________________________________________________________________\n",
            "conv2d_160 (Conv2D)             (None, 32, 32, 16)   448         input_28[0][0]                   \n",
            "__________________________________________________________________________________________________\n",
            "batch_normalization_85 (BatchNo (None, 32, 32, 16)   64          conv2d_160[0][0]                 \n",
            "__________________________________________________________________________________________________\n",
            "activation_85 (Activation)      (None, 32, 32, 16)   0           batch_normalization_85[0][0]     \n",
            "__________________________________________________________________________________________________\n",
            "conv2d_161 (Conv2D)             (None, 32, 32, 32)   4640        activation_85[0][0]              \n",
            "__________________________________________________________________________________________________\n",
            "batch_normalization_86 (BatchNo (None, 32, 32, 32)   128         conv2d_161[0][0]                 \n",
            "__________________________________________________________________________________________________\n",
            "conv2d_159 (Conv2D)             (None, 32, 32, 32)   128         input_28[0][0]                   \n",
            "__________________________________________________________________________________________________\n",
            "activation_86 (Activation)      (None, 32, 32, 32)   0           batch_normalization_86[0][0]     \n",
            "__________________________________________________________________________________________________\n",
            "add_3 (Add)                     (None, 32, 32, 32)   0           conv2d_159[0][0]                 \n",
            "                                                                 activation_86[0][0]              \n",
            "__________________________________________________________________________________________________\n",
            "max_pooling2d_73 (MaxPooling2D) (None, 16, 16, 32)   0           add_3[0][0]                      \n",
            "__________________________________________________________________________________________________\n",
            "conv2d_163 (Conv2D)             (None, 16, 16, 64)   18496       max_pooling2d_73[0][0]           \n",
            "__________________________________________________________________________________________________\n",
            "batch_normalization_87 (BatchNo (None, 16, 16, 64)   256         conv2d_163[0][0]                 \n",
            "__________________________________________________________________________________________________\n",
            "activation_87 (Activation)      (None, 16, 16, 64)   0           batch_normalization_87[0][0]     \n",
            "__________________________________________________________________________________________________\n",
            "conv2d_164 (Conv2D)             (None, 16, 16, 128)  73856       activation_87[0][0]              \n",
            "__________________________________________________________________________________________________\n",
            "batch_normalization_88 (BatchNo (None, 16, 16, 128)  512         conv2d_164[0][0]                 \n",
            "__________________________________________________________________________________________________\n",
            "activation_88 (Activation)      (None, 16, 16, 128)  0           batch_normalization_88[0][0]     \n",
            "__________________________________________________________________________________________________\n",
            "conv2d_165 (Conv2D)             (None, 16, 16, 256)  295168      activation_88[0][0]              \n",
            "__________________________________________________________________________________________________\n",
            "batch_normalization_89 (BatchNo (None, 16, 16, 256)  1024        conv2d_165[0][0]                 \n",
            "__________________________________________________________________________________________________\n",
            "conv2d_162 (Conv2D)             (None, 16, 16, 256)  8448        max_pooling2d_73[0][0]           \n",
            "__________________________________________________________________________________________________\n",
            "activation_89 (Activation)      (None, 16, 16, 256)  0           batch_normalization_89[0][0]     \n",
            "__________________________________________________________________________________________________\n",
            "add_4 (Add)                     (None, 16, 16, 256)  0           conv2d_162[0][0]                 \n",
            "                                                                 activation_89[0][0]              \n",
            "__________________________________________________________________________________________________\n",
            "max_pooling2d_74 (MaxPooling2D) (None, 8, 8, 256)    0           add_4[0][0]                      \n",
            "__________________________________________________________________________________________________\n",
            "conv2d_167 (Conv2D)             (None, 8, 8, 512)    1180160     max_pooling2d_74[0][0]           \n",
            "__________________________________________________________________________________________________\n",
            "batch_normalization_90 (BatchNo (None, 8, 8, 512)    2048        conv2d_167[0][0]                 \n",
            "__________________________________________________________________________________________________\n",
            "activation_90 (Activation)      (None, 8, 8, 512)    0           batch_normalization_90[0][0]     \n",
            "__________________________________________________________________________________________________\n",
            "conv2d_168 (Conv2D)             (None, 8, 8, 512)    2359808     activation_90[0][0]              \n",
            "__________________________________________________________________________________________________\n",
            "batch_normalization_91 (BatchNo (None, 8, 8, 512)    2048        conv2d_168[0][0]                 \n",
            "__________________________________________________________________________________________________\n",
            "activation_91 (Activation)      (None, 8, 8, 512)    0           batch_normalization_91[0][0]     \n",
            "__________________________________________________________________________________________________\n",
            "conv2d_169 (Conv2D)             (None, 8, 8, 512)    2359808     activation_91[0][0]              \n",
            "__________________________________________________________________________________________________\n",
            "batch_normalization_92 (BatchNo (None, 8, 8, 512)    2048        conv2d_169[0][0]                 \n",
            "__________________________________________________________________________________________________\n",
            "conv2d_166 (Conv2D)             (None, 8, 8, 512)    131584      max_pooling2d_74[0][0]           \n",
            "__________________________________________________________________________________________________\n",
            "activation_92 (Activation)      (None, 8, 8, 512)    0           batch_normalization_92[0][0]     \n",
            "__________________________________________________________________________________________________\n",
            "add_5 (Add)                     (None, 8, 8, 512)    0           conv2d_166[0][0]                 \n",
            "                                                                 activation_92[0][0]              \n",
            "__________________________________________________________________________________________________\n",
            "max_pooling2d_75 (MaxPooling2D) (None, 4, 4, 512)    0           add_5[0][0]                      \n",
            "__________________________________________________________________________________________________\n",
            "flatten_24 (Flatten)            (None, 8192)         0           max_pooling2d_75[0][0]           \n",
            "__________________________________________________________________________________________________\n",
            "dense_49 (Dense)                (None, 512)          4194816     flatten_24[0][0]                 \n",
            "__________________________________________________________________________________________________\n",
            "batch_normalization_93 (BatchNo (None, 512)          2048        dense_49[0][0]                   \n",
            "__________________________________________________________________________________________________\n",
            "activation_93 (Activation)      (None, 512)          0           batch_normalization_93[0][0]     \n",
            "__________________________________________________________________________________________________\n",
            "dense_50 (Dense)                (None, 100)          51300       activation_93[0][0]              \n",
            "==================================================================================================\n",
            "Total params: 10,688,836\n",
            "Trainable params: 10,683,748\n",
            "Non-trainable params: 5,088\n",
            "__________________________________________________________________________________________________\n"
          ],
          "name": "stdout"
        }
      ]
    },
    {
      "cell_type": "code",
      "metadata": {
        "colab": {
          "base_uri": "https://localhost:8080/"
        },
        "id": "KK6YBPZBYYOa",
        "outputId": "5b44d16a-ed2f-4542-dfad-1762df656413"
      },
      "source": [
        "history7 = model7.fit(X_train, Y_train, batch_size=BATCH_SIZE, epochs=N_EPOCHS, validation_split=0.2)\r\n",
        "model7.evaluate(X_test, Y_test, batch_size=BATCH_SIZE, verbose=0)"
      ],
      "execution_count": null,
      "outputs": [
        {
          "output_type": "stream",
          "text": [
            "Epoch 1/30\n",
            "157/157 [==============================] - 24s 146ms/step - loss: 3.6160 - accuracy: 0.1772 - val_loss: 5.1671 - val_accuracy: 0.0361\n",
            "Epoch 2/30\n",
            "157/157 [==============================] - 23s 145ms/step - loss: 2.1428 - accuracy: 0.4421 - val_loss: 3.6519 - val_accuracy: 0.2048\n",
            "Epoch 3/30\n",
            "157/157 [==============================] - 23s 146ms/step - loss: 1.4305 - accuracy: 0.6269 - val_loss: 2.7378 - val_accuracy: 0.3443\n",
            "Epoch 4/30\n",
            "157/157 [==============================] - 23s 147ms/step - loss: 0.7998 - accuracy: 0.8084 - val_loss: 2.9516 - val_accuracy: 0.3509\n",
            "Epoch 5/30\n",
            "157/157 [==============================] - 23s 148ms/step - loss: 0.3402 - accuracy: 0.9354 - val_loss: 2.5782 - val_accuracy: 0.4048\n",
            "Epoch 6/30\n",
            "157/157 [==============================] - 23s 148ms/step - loss: 0.0955 - accuracy: 0.9890 - val_loss: 2.3281 - val_accuracy: 0.4538\n",
            "Epoch 7/30\n",
            "157/157 [==============================] - 23s 149ms/step - loss: 0.0237 - accuracy: 0.9986 - val_loss: 2.1382 - val_accuracy: 0.4921\n",
            "Epoch 8/30\n",
            "157/157 [==============================] - 23s 148ms/step - loss: 0.0112 - accuracy: 0.9995 - val_loss: 2.1585 - val_accuracy: 0.5019\n",
            "Epoch 9/30\n",
            "157/157 [==============================] - 23s 148ms/step - loss: 0.0069 - accuracy: 0.9996 - val_loss: 2.1438 - val_accuracy: 0.5038\n",
            "Epoch 10/30\n",
            "157/157 [==============================] - 23s 148ms/step - loss: 0.0054 - accuracy: 0.9996 - val_loss: 2.1423 - val_accuracy: 0.5073\n",
            "Epoch 11/30\n",
            "157/157 [==============================] - 23s 148ms/step - loss: 0.0052 - accuracy: 0.9996 - val_loss: 2.1505 - val_accuracy: 0.5085\n",
            "Epoch 12/30\n",
            "157/157 [==============================] - 23s 148ms/step - loss: 0.0035 - accuracy: 0.9997 - val_loss: 2.2372 - val_accuracy: 0.4978\n",
            "Epoch 13/30\n",
            "157/157 [==============================] - 23s 148ms/step - loss: 0.0036 - accuracy: 0.9997 - val_loss: 2.3081 - val_accuracy: 0.4893\n",
            "Epoch 14/30\n",
            "157/157 [==============================] - 23s 148ms/step - loss: 0.0322 - accuracy: 0.9939 - val_loss: 5.3021 - val_accuracy: 0.2661\n",
            "Epoch 15/30\n",
            "157/157 [==============================] - 23s 148ms/step - loss: 0.5079 - accuracy: 0.8497 - val_loss: 7.5323 - val_accuracy: 0.1966\n",
            "Epoch 16/30\n",
            "157/157 [==============================] - 23s 148ms/step - loss: 0.2799 - accuracy: 0.9210 - val_loss: 2.9229 - val_accuracy: 0.4182\n",
            "Epoch 17/30\n",
            "157/157 [==============================] - 23s 148ms/step - loss: 0.0382 - accuracy: 0.9953 - val_loss: 2.4200 - val_accuracy: 0.4826\n",
            "Epoch 18/30\n",
            "157/157 [==============================] - 23s 148ms/step - loss: 0.0075 - accuracy: 0.9997 - val_loss: 2.3416 - val_accuracy: 0.4968\n",
            "Epoch 19/30\n",
            "157/157 [==============================] - 23s 148ms/step - loss: 0.0042 - accuracy: 0.9998 - val_loss: 2.3620 - val_accuracy: 0.5022\n",
            "Epoch 20/30\n",
            "157/157 [==============================] - 23s 148ms/step - loss: 0.0032 - accuracy: 0.9998 - val_loss: 2.3902 - val_accuracy: 0.5006\n",
            "Epoch 21/30\n",
            "157/157 [==============================] - 23s 148ms/step - loss: 0.0031 - accuracy: 0.9997 - val_loss: 2.3851 - val_accuracy: 0.5024\n",
            "Epoch 22/30\n",
            "157/157 [==============================] - 23s 148ms/step - loss: 0.0022 - accuracy: 0.9998 - val_loss: 2.4138 - val_accuracy: 0.5015\n",
            "Epoch 23/30\n",
            "157/157 [==============================] - 23s 149ms/step - loss: 0.0021 - accuracy: 0.9998 - val_loss: 2.4139 - val_accuracy: 0.5041\n",
            "Epoch 24/30\n",
            "157/157 [==============================] - 23s 149ms/step - loss: 0.0016 - accuracy: 0.9998 - val_loss: 2.4168 - val_accuracy: 0.5046\n",
            "Epoch 25/30\n",
            "157/157 [==============================] - 23s 148ms/step - loss: 0.0017 - accuracy: 0.9998 - val_loss: 2.4307 - val_accuracy: 0.5059\n",
            "Epoch 26/30\n",
            "157/157 [==============================] - 23s 148ms/step - loss: 0.0013 - accuracy: 0.9999 - val_loss: 2.4421 - val_accuracy: 0.5029\n",
            "Epoch 27/30\n",
            "157/157 [==============================] - 23s 149ms/step - loss: 0.0012 - accuracy: 0.9999 - val_loss: 2.4427 - val_accuracy: 0.5084\n",
            "Epoch 28/30\n",
            "157/157 [==============================] - 23s 148ms/step - loss: 8.8714e-04 - accuracy: 0.9999 - val_loss: 2.4587 - val_accuracy: 0.5079\n",
            "Epoch 29/30\n",
            "157/157 [==============================] - 23s 148ms/step - loss: 0.0012 - accuracy: 0.9998 - val_loss: 2.4579 - val_accuracy: 0.5074\n",
            "Epoch 30/30\n",
            "157/157 [==============================] - 23s 148ms/step - loss: 9.3327e-04 - accuracy: 0.9999 - val_loss: 2.4714 - val_accuracy: 0.5066\n"
          ],
          "name": "stdout"
        },
        {
          "output_type": "execute_result",
          "data": {
            "text/plain": [
              "[2.4527082443237305, 0.5115000009536743]"
            ]
          },
          "metadata": {
            "tags": []
          },
          "execution_count": 82
        }
      ]
    },
    {
      "cell_type": "markdown",
      "metadata": {
        "id": "y64hA-IZUqpy"
      },
      "source": [
        "**Nhận xét:** Model khi không sự dụng skip-connection được train tốt hơn trên cả tập training và validation. \r\n",
        "\r\n",
        "Khi sử dụng skip-connection với Convolution $1\\times1$, model lại kém đi. Có thể giải thích là do mạng chưa đủ sâu tới mức cần sử dụng tới skip-connection. Trong trường hợp gradient trên đường chính nhỏ hơn nhiều so với gradient trên đường `residual`, model khi đó sẽ được học chủ yếu từ các đường `residual` xuyên suốt mạng, điều này sẽ thể hiện tốt đối với các mạng rất sâu, hoặc có `capacity` lớn hơn `capacity` cần cho dataset; tuy nhiên, đối với trường hợp này, `capacity` của mạng chưa đủ vì ta vẫn có thể thêm tham số và model vẫn học tốt, khi model học chủ yếu qua các đường `residual`, tức mạng đã bị tắt đi một số layer, từ đó vô tình làm giảm `capacity` của mạng."
      ]
    },
    {
      "cell_type": "code",
      "metadata": {
        "id": "9DQb3J0cV3vg"
      },
      "source": [
        ""
      ],
      "execution_count": null,
      "outputs": []
    }
  ]
}