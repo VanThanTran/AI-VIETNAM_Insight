{
 "cells": [
  {
   "cell_type": "markdown",
   "metadata": {},
   "source": [
    "Tên: Nguyễn Thọ Anh Khoa\n",
    "\n",
    "Facebook: Khoa Nguyễn KT\n",
    "\n",
    "Lớp: AI Insight "
   ]
  },
  {
   "cell_type": "markdown",
   "metadata": {},
   "source": [
    "# Linear Regression - Exercise 1"
   ]
  },
  {
   "cell_type": "markdown",
   "metadata": {},
   "source": [
    "Câu trả lời trong các câu hỏi là những gì em đọc hiểu từ slide và các thông tin trên mạng, nếu có sai xót gì em mong Thầy, Cô và các bạn TA chỉnh sửa giúp em, em xin cảm ơn ạ."
   ]
  },
  {
   "cell_type": "markdown",
   "metadata": {},
   "source": [
    "##  Đọc hiểu code (file Lesson D3 - One Sample _ Implementation (Naive).ipynb và Lesson D4 - One Sample _ Implementation (Vectorization) về cách train bài toán linear regression theo cách thông thường và vectorization."
   ]
  },
  {
   "cell_type": "markdown",
   "metadata": {},
   "source": [
    "**Lesson D3 - One Sample _ Implementation (Naive).ipynb**"
   ]
  },
  {
   "cell_type": "markdown",
   "metadata": {},
   "source": [
    "**- Tổng quan:** đây là phần code thực hiện linear regression theo cách thông thường và đơn giản nhất không quan tâm đến tốc độ xử lý vì sử dụng các vòng lặp.\n",
    "\n",
    "**- Ưu điểm**: đơn giản, dễ thực hiện.\n",
    "\n",
    "**- Khuyết điểm:** tốc độ xử lý chậm vì dùng nhiều vòng lặp. "
   ]
  },
  {
   "cell_type": "markdown",
   "metadata": {},
   "source": [
    "Theo yêu cầu của đề bài thì input là **areas** (diện tích nhà) và output dự đoán **prices** (giá nhà).\n",
    "\n",
    "Đầu tiên là việc load và quan sát data, 2 thư viện cần dùng là **numpy** dùng xử lý chuyển đổi kiểu dữ liệu, và **matplotlib** dùng để visualize data. Numpy hỗ trợ load data theo kiểu có 2 cột: areas và prices, sau đó sẽ plot các điểm (scatter mode)trong data đê quan sát.\n",
    "\n",
    "**Note:** sử dụng '%matplotlib inline' để vẽ được hình trong 1 cell trên jupyter notebook\n",
    "\n",
    "**=> Từ hình vẽ quan sát được diện tích càng tăng thì giá nhà sẽ càng tăng, đây có thể là mối quan hệ tuyến tính nên có thể dùng linear regression để predict được.**  \n"
   ]
  },
  {
   "cell_type": "code",
   "execution_count": 5,
   "metadata": {},
   "outputs": [
    {
     "name": "stdout",
     "output_type": "stream",
     "text": [
      "areas:  [6.7, 4.6, 3.5, 5.5]\n",
      "prices:  [9.1, 5.9, 4.6, 6.7]\n",
      "data_size:  4\n"
     ]
    },
    {
     "data": {
      "image/png": "[encoded data removed]",
      "text/plain": [
       "<Figure size 432x288 with 1 Axes>"
      ]
     },
     "metadata": {
      "needs_background": "light"
     },
     "output_type": "display_data"
    }
   ],
   "source": [
    "# Naive implementaion\n",
    "\n",
    "# load data\n",
    "from numpy import genfromtxt\n",
    "import matplotlib.pyplot as plt\n",
    "%matplotlib inline \n",
    "\n",
    "data = genfromtxt('data.csv', delimiter=',')\n",
    "areas  = list(data[:,0])\n",
    "prices = list(data[:,1])\n",
    "data_size = len(areas)\n",
    "\n",
    "print('areas: ', areas)\n",
    "print('prices: ', prices)\n",
    "print('data_size: ', data_size)\n",
    "\n",
    "plt.scatter(areas, prices)\n",
    "plt.xlabel('Diện tích nhà (x 100$m^2$)')\n",
    "plt.ylabel('Giá nhà (chục lượng vàng)')\n",
    "plt.xlim(3,7)\n",
    "plt.ylim(4,10)\n",
    "plt.show()"
   ]
  },
  {
   "cell_type": "markdown",
   "metadata": {},
   "source": [
    "Để xây dựng một supervise learning model nói chung và linear regression model nói riêng thì cầ n 3 functions chính: **forward, backward, update weights**\n",
    "\n",
    "**- Forward:** (function predict trong code ): nhận input và dự đoán ouptput theo yêu cầu nhất định dựa trên các features. Vì đây là linear regression nên equation cho predict sẽ là $y= x*w + b$, trong đó **y** là kế quả dự đoán, **x** là input (các features hiện tại chỉ sử dụng 1 feature là area)  **w** là weight các tham số  giúp dự đoán, **b** cũng là tham số  dự đoán và có nhiệm vụ giúp mô hình dự đoán có thể shift được trên trục x thay vì chỉ đi qua trục tọa độ. **w và b** là 2 tham số  cần được học, trong khi **x, y** là có từ data. function này nhân in put là **x,w,b** và return **y**.\n",
    "\n",
    "**- Backward:** (function gradient trong code): dùng output vừa tính được so sánh sai số với kết quả thực từ input đó để tính đạo hàm để biết được hướng cần điều chỉnh bộ weights cho lần predict tiếp theo được chính xác hơn. Function này dùng để lấy kết quả đạo hàm theo **w** và **b** của hàm loss được tính theo $L = (predicted\\_output - real\\_output)^2$\n",
    "\n",
    "**- Update Weights:** (function update_weight trong code) cập nhật bộ weights mới theo learning_rate **n**"
   ]
  },
  {
   "cell_type": "code",
   "execution_count": 7,
   "metadata": {},
   "outputs": [],
   "source": [
    "# forward\n",
    "def predict(x,w,b):\n",
    "    return x*w + b\n",
    "\n",
    "# compute gradient\n",
    "def gradient(z,y,x):\n",
    "    dw = 2*x*(z-y)\n",
    "    db = 2*(z-y)\n",
    "    \n",
    "    return (dw, db)\n",
    "\n",
    "# update weights\n",
    "def update_weight(w,b,n,dw,db):\n",
    "    w_new = w - n*dw\n",
    "    b_new = b - n*db\n",
    "    \n",
    "    return (w_new, b_new)"
   ]
  },
  {
   "cell_type": "markdown",
   "metadata": {},
   "source": [
    "Tiếp theo là các step cần thực hiện để train 1 linear regression model\n",
    "\n",
    "- Xác định các giá trị khởi tạo cho parameter *b*, *w* và hyperparemeter *n*.\n",
    "\n",
    "- Xác định số lần train hết 1 tập dữ liệu 'epoch_max'.\n",
    "\n",
    "- Load từng sample lên để giúp model học (thông thường sẽ load theo 3 dạng batch, minibatch và stochastic gradient descent) hiện tại code chỉ load 1 lần để hiển thị kết quả.\n",
    "\n",
    "    + Hàm predict được dùng để dự đoán kết quả giá nhà dựa trên diện tích nhà và bộ tham số khởi tạo đầu tiên.\n",
    "    + Tiếp theo tính loss của giá nhà dự đoán và giá nhà thưc của data bằng 1 hàm loss như đã giới thiệu ở trên.\n",
    "    + Tính gradient.\n",
    "    + Cấp nhật bộ tham số để lần dự đoán tiếp theo có thể tốt hơn.\n",
    "- Nếu vẫn chưa đạt được yêu cầu của số lần epoch thì lặp lại.\n"
   ]
  },
  {
   "cell_type": "code",
   "execution_count": 8,
   "metadata": {},
   "outputs": [
    {
     "name": "stdout",
     "output_type": "stream",
     "text": [
      "sample:  6.7 9.1\n",
      "z:  -2.238\n",
      "Loss:  128.550244\n",
      "dw:  -151.92919999999998\n",
      "db:  -22.676\n",
      "w_new:  1.1792919999999998\n",
      "b_new:  0.26676\n",
      "\n",
      "\n",
      "\n"
     ]
    }
   ],
   "source": [
    "# init weights\n",
    "b = 0.04\n",
    "w = -0.34\n",
    "n = 0.01\n",
    "\n",
    "# how long\n",
    "epoch_max = 1\n",
    "\n",
    "for epoch in range(epoch_max):\n",
    "    for i in range(1):\n",
    "        # get a sample\n",
    "        x = areas[i]\n",
    "        y = prices[i]\n",
    "        print('sample: ', x, y)\n",
    "        \n",
    "        # predict z\n",
    "        z = predict(x,w,b)\n",
    "        print('z: ', z)\n",
    "\n",
    "        # compute loss\n",
    "        loss = (z-y)*(z-y)\n",
    "        print('Loss: ', loss)\n",
    "\n",
    "        # compute gradient\n",
    "        (dw, db) = gradient(z,y,x)\n",
    "        print('dw: ', dw)\n",
    "        print('db: ', db)\n",
    "\n",
    "        # update weights\n",
    "        (w, b) = update_weight(w,b,n,dw,db)\n",
    "        print('w_new: ', w)\n",
    "        print('b_new: ', b)\n",
    "        print('\\n\\n')"
   ]
  },
  {
   "cell_type": "markdown",
   "metadata": {},
   "source": [
    "**Lesson D4 - One Sample _ Implementation (Vectorization)**"
   ]
  },
  {
   "cell_type": "markdown",
   "metadata": {},
   "source": [
    "Nếu thực hiện cách ở trên sẽ có vấn đề xảy ra là nếu như input lớn hơn 1 feature hoặc cần train 1 lúc n sample thì bắt buộc phải sử dụng thêm các vòng lập. Từ đó vectorization implementation được ra đời để hỗ trợ giúp việc tính toán nhanh hơn, phần lớn các phép tính toán đều được tính theo công thức ma trận để loại bỏ các vòng lặp.\n",
    "\n",
    "- Cách thức load data không thay đổi nhưng các tính toán trong 3 function chính đã được chuyển thành cách tính theo ma trận với sự hỗ trợ của thư viện numpy.\n",
    "- Ví dụ như hàm gradient và update_weight chỉ cần 1 phép tính thay vì 2 như cách naive\n",
    "- Cách thức data được đưa vào cũng được thay đổi, input x được mở rổng với constant = 1, vì theo công thức predict weight không nhân với b.\n"
   ]
  },
  {
   "cell_type": "code",
   "execution_count": 9,
   "metadata": {},
   "outputs": [],
   "source": [
    "# full code\n",
    "\n",
    "# load data\n",
    "import numpy as np\n",
    "from numpy import genfromtxt\n",
    "import matplotlib.pyplot as plt\n",
    "\n",
    "data = genfromtxt('data.csv', delimiter=',')\n",
    "areas  = data[:,0]\n",
    "prices = data[:,1]\n",
    "data_size = areas.size\n",
    "\n",
    "# forward\n",
    "def predict(x,theta):\n",
    "    return x.dot(theta)\n",
    "\n",
    "# compute gradient\n",
    "def gradient(z,y,x):\n",
    "    dtheta = 2*x*(z-y)\n",
    "    \n",
    "    return dtheta\n",
    "\n",
    "# update weights\n",
    "def update_weight(theta,n,dtheta):\n",
    "    dtheta_new = theta - n*dtheta\n",
    "    \n",
    "    return dtheta_new\n",
    "\n",
    "# vector [x, b]\n",
    "data = np.c_[areas, np.ones((data_size, 1))]\n",
    "\n",
    "# init weight\n",
    "n = 0.01\n",
    "theta = np.array([-0.34, 0.04]) #[w, b]\n",
    "\n",
    "# how long\n",
    "epoch_max = 10\n",
    "\n",
    "losses = [] # for debug\n",
    "for epoch in range(epoch_max):\n",
    "    for i in range(data_size):\n",
    "        # get a sample\n",
    "        x = data[i]\n",
    "        y = prices[i:i+1]\n",
    "\n",
    "        # predict z\n",
    "        z = predict(x, theta)\n",
    "\n",
    "        # compute loss\n",
    "        loss = (z-y)*(z-y)\n",
    "        losses.append(loss[0])\n",
    "\n",
    "        # compute gradient\n",
    "        dtheta = gradient(z,y,x)\n",
    "\n",
    "        # update weights\n",
    "        theta = update_weight(theta,n,dtheta)"
   ]
  },
  {
   "cell_type": "markdown",
   "metadata": {},
   "source": [
    "## Trong phần xây dựng công thức, chúng ta tính loss $L = (output − label)^2$. Các bạn hãy xây dựng công thức cho bài toán linear regression với cách tính loss $L = (label − output)^2$"
   ]
  },
  {
   "cell_type": "markdown",
   "metadata": {},
   "source": [
    "- Tính output $o^{(i)}$ \n",
    "$$o^{(i)} = \\pmb{\\theta^Tx}$$\n",
    "- Tính loss $$L = (y^{(i)} - o^{(i)})^2 $$\n",
    "- Tính đạo hàm $$\\pmb{L^{'(i)}_\\theta} = -2\\pmb{x}(y^{(i)} - o^{(i)})$$\n",
    "- Cập nhật tham số $$\\pmb{\\theta} = \\pmb{\\theta} - \\eta \\frac{\\pmb{\\sum(L^{'(i)}_\\theta})}{m}$$"
   ]
  },
  {
   "cell_type": "markdown",
   "metadata": {},
   "source": [
    "## Trong cách cài đặt vectorization, vector tham số theta=[w,b]. Các bạn hãy chỉnh lại code với cách chọn theta=[b,w]."
   ]
  },
  {
   "cell_type": "code",
   "execution_count": 42,
   "metadata": {},
   "outputs": [],
   "source": [
    "# full code\n",
    "\n",
    "# load data\n",
    "import numpy as np\n",
    "from numpy import genfromtxt\n",
    "import matplotlib.pyplot as plt\n",
    "\n",
    "data = genfromtxt('data.csv', delimiter=',')\n",
    "areas  = data[:,0]\n",
    "prices = data[:,1]\n",
    "data_size = areas.size\n",
    "# forward\n",
    "def predict(x,theta):\n",
    "    return x.dot(theta)\n",
    "\n",
    "# compute gradient\n",
    "def gradient(z,y,x):\n",
    "    dtheta = 2*x*(z-y)\n",
    "    \n",
    "    return dtheta\n",
    "\n",
    "# update weights\n",
    "def update_weight(theta,n,dtheta):\n",
    "    dtheta_new = theta - n*dtheta\n",
    "    \n",
    "    return dtheta_new\n",
    "\n",
    "# # vector [x, b]\n",
    "# data = np.c_[areas, np.ones((data_size, 1))]\n",
    "# vector [b, x]\n",
    "data = np.c_[np.ones((data_size, 1)), areas]\n",
    "\n",
    "# init weight\n",
    "n = 0.01\n",
    "# theta = np.array([-0.34, 0.04]) #[w, b]\n",
    "theta = np.array([0.04, -0.34]) #[b, w]\n",
    "\n",
    "# how long\n",
    "epoch_max = 1000\n",
    "\n",
    "losses = [] # for debug\n",
    "for epoch in range(epoch_max):\n",
    "    for i in range(data_size):\n",
    "        # get a sample\n",
    "        x = data[i]\n",
    "        y = prices[i:i+1]\n",
    "\n",
    "        # predict z\n",
    "        z = predict(x, theta)\n",
    "\n",
    "        # compute loss\n",
    "        loss = (z-y)*(z-y)\n",
    "        losses.append(loss[0])\n",
    "\n",
    "        # compute gradient\n",
    "        dtheta = gradient(z,y,x)\n",
    "\n",
    "        # update weights\n",
    "        theta = update_weight(theta,n,dtheta)\n",
    "        "
   ]
  },
  {
   "cell_type": "markdown",
   "metadata": {},
   "source": [
    "## Cài đặt linear regression cho bài toán advertising theo 2 cách (cách thông thườngvà vectorization) dùng 1 sample (stochastic gradient descent). Data advertising:https://www.dropbox.com/s/ve57nlqwikgjzrh/advertising.csv?dl=0"
   ]
  },
  {
   "cell_type": "markdown",
   "metadata": {},
   "source": [
    "**Cách Thông Thường**"
   ]
  },
  {
   "cell_type": "code",
   "execution_count": 16,
   "metadata": {},
   "outputs": [
    {
     "name": "stdout",
     "output_type": "stream",
     "text": [
      "[0.075552783783497, 0.10998665506373026, 0.044257857324586536] 0.02386557548605707\n",
      "10.4\n",
      "9.704469363195125\n"
     ]
    }
   ],
   "source": [
    "\n",
    "# load data\n",
    "import numpy as np\n",
    "from numpy import genfromtxt\n",
    "import matplotlib.pyplot as plt\n",
    "\n",
    "data = genfromtxt('advertising.csv', delimiter=',')\n",
    "tv = list(data[1:,0])\n",
    "rad = list(data[1:,1])\n",
    "news = list(data[1:,2])\n",
    "sales  = list(data[1:,3])\n",
    "\n",
    "# forward\n",
    "def forward(x,w,b):\n",
    "    return sum([x_n*w_n for x_n, w_n in zip(x,w)]) + b\n",
    "\n",
    "# compute gradient\n",
    "def gradient(x, b, o, y):\n",
    "    sb = 2*(o-y)\n",
    "    dw = [x_n*sb for x_n in x]\n",
    "    db = sb\n",
    "    return dw, db\n",
    "\n",
    "# update weights\n",
    "def update_weights(w, b, eta, dw, db):\n",
    "    new_w = [w_n - eta*dw_n for w_n, dw_n in zip(w,dw)]\n",
    "    new_b = b - eta*db\n",
    "    return new_w, new_b\n",
    "\n",
    "# init weight\n",
    "w1 = 0.01\n",
    "w2 = 0.02\n",
    "w3 = 0.03\n",
    "b = 0.02\n",
    "eta = 0.00001\n",
    "w = [w1, w2, w3]\n",
    "\n",
    "# how long\n",
    "epochs = 1\n",
    "losses = [] # for debug\n",
    "for epoch in range(epochs):\n",
    "    for i in range(len(tv)):\n",
    "        # get sample\n",
    "        x = [tv[i], rad[i], news[i]]\n",
    "        y = sales[i]\n",
    "        \n",
    "        # predict\n",
    "        pred = forward(x, w, b)\n",
    "        \n",
    "        #Compute loss\n",
    "        l = (pred-y)**2\n",
    "        losses.append(l)\n",
    "        \n",
    "        #Compute gradient\n",
    "        dw, db = gradient(x, b, pred, y)\n",
    "        #Update weights\n",
    "        w, b = update_weights(w, b, eta, dw, db)\n",
    "print(w, b)\n",
    "print(sales[1])\n",
    "print(forward([tv[1], rad[1], news[1]], w, b))"
   ]
  },
  {
   "cell_type": "code",
   "execution_count": 17,
   "metadata": {},
   "outputs": [
    {
     "data": {
      "image/png": "[encoded data removed]",
      "text/plain": [
       "<Figure size 432x288 with 1 Axes>"
      ]
     },
     "metadata": {
      "needs_background": "light"
     },
     "output_type": "display_data"
    }
   ],
   "source": [
    "import matplotlib.pyplot as plt\n",
    "\n",
    "plt.plot(losses) # test with losses[3:]\n",
    "plt.xlabel('iteration')\n",
    "plt.ylabel('losses')\n",
    "plt.show()"
   ]
  },
  {
   "cell_type": "markdown",
   "metadata": {},
   "source": [
    "**vectorization**"
   ]
  },
  {
   "cell_type": "code",
   "execution_count": 33,
   "metadata": {},
   "outputs": [
    {
     "name": "stdout",
     "output_type": "stream",
     "text": [
      "[ 0.05454134  0.10886936 -0.00506731  4.75989375] 0.02\n",
      "10.4\n",
      "18.311130257838435\n"
     ]
    }
   ],
   "source": [
    "\n",
    "# load data\n",
    "import numpy as np\n",
    "from numpy import genfromtxt\n",
    "import matplotlib.pyplot as plt\n",
    "\n",
    "data = genfromtxt('advertising.csv', delimiter=',')\n",
    "tv = list(data[1:,0])\n",
    "rad = list(data[1:,1])\n",
    "news = list(data[1:,2])\n",
    "sales  = list(data[1:,3])\n",
    "data_size = len(tv)\n",
    "# forward\n",
    "def forward(x,theta):\n",
    "    return x.dot(theta)\n",
    "\n",
    "# compute gradient\n",
    "def gradient(x, o, y):\n",
    "    return 2*x*(o-y)\n",
    "\n",
    "# update weights\n",
    "def update_weights(theta,eta, dtheta):\n",
    "    return theta - eta*dtheta\n",
    "\n",
    "# init weight\n",
    "w1 = 0.01\n",
    "w2 = 0.02\n",
    "w3 = 0.03\n",
    "b = 0.02\n",
    "eta = 0.00001\n",
    "theta = np.array([w1, w2, w3, b])\n",
    "\n",
    "# vecotrize input\n",
    "data = np.c_[tv, rad, news, np.ones((data_size, 1))]\n",
    "# how long\n",
    "epochs = 10000\n",
    "losses = [] # for debug\n",
    "for epoch in range(epochs):\n",
    "    for i in range(data_size):\n",
    "        # get sample\n",
    "        x = data[i]\n",
    "        y = sales[i:i+1]\n",
    "        \n",
    "        # predict\n",
    "        pred = forward(x, theta)\n",
    "        \n",
    "        #Compute loss\n",
    "        l = (pred-y)**2\n",
    "        losses.append(l)\n",
    "        \n",
    "        #Compute gradient\n",
    "        dtheta = gradient(x, pred, y)\n",
    "        #Update weights\n",
    "        theta = update_weights(theta, eta, dtheta)\n",
    "print(theta, b)\n",
    "print(sales[1])\n",
    "print(forward( data[i], theta))"
   ]
  },
  {
   "cell_type": "code",
   "execution_count": 32,
   "metadata": {},
   "outputs": [
    {
     "data": {
      "image/png": "[encoded data removed]",
      "text/plain": [
       "<Figure size 432x288 with 1 Axes>"
      ]
     },
     "metadata": {
      "needs_background": "light"
     },
     "output_type": "display_data"
    }
   ],
   "source": [
    "import matplotlib.pyplot as plt\n",
    "\n",
    "plt.plot(losses) # test with losses[3:]\n",
    "plt.xlabel('iteration')\n",
    "plt.ylabel('losses')\n",
    "plt.show()"
   ]
  },
  {
   "cell_type": "markdown",
   "metadata": {},
   "source": [
    "## Accuracy có dùng làm hàm loss được không? Tại sao?"
   ]
  },
  {
   "cell_type": "markdown",
   "metadata": {},
   "source": [
    "Theo em thì accuracy không được dùng làm hàm loss vì hàm loss mục đích chính là tính điểm sai xót giữa kết quả dự đoán và output thưc, trong khi hàm accuracy dùng để đo kết quả này chính xác hay không và chính xác bao nhiêu. Mục đích dùng hàm loss là để tìm được đạo hàm và đi ngược hướng đạo hàm để giảm thiểu sai xót."
   ]
  },
  {
   "cell_type": "markdown",
   "metadata": {},
   "source": [
    "## Xây dựng hàm linear regression với cách tính loss $L = |output − label|$."
   ]
  },
  {
   "cell_type": "markdown",
   "metadata": {},
   "source": [
    "- Tính output $o^{(i)}$ \n",
    "$$o^{(i)} = \\pmb{\\theta^Tx}$$\n",
    "- Tính loss $$L = |o^{(i)} - y^{(i)}| $$\n",
    "- Tính đạo hàm $$\\pmb{L^{'(i)}_\\theta} = \\begin{cases}\n",
    "  +1,\\quad o>y\\\\\n",
    "  -1,\\quad o<y\n",
    "\\end{cases}$$\n",
    "- Cập nhật tham số $$\\pmb{\\theta} = \\pmb{\\theta} - \\eta \\frac{\\pmb{\\sum(L^{'(i)}_\\theta})}{m}$$\n"
   ]
  },
  {
   "cell_type": "code",
   "execution_count": null,
   "metadata": {},
   "outputs": [],
   "source": []
  }
 ],
 "metadata": {
  "kernelspec": {
   "display_name": "Python 3",
   "language": "python",
   "name": "python3"
  },
  "language_info": {
   "codemirror_mode": {
    "name": "ipython",
    "version": 3
   },
   "file_extension": ".py",
   "mimetype": "text/x-python",
   "name": "python",
   "nbconvert_exporter": "python",
   "pygments_lexer": "ipython3",
   "version": "3.7.4"
  },
  "toc": {
   "base_numbering": 1,
   "nav_menu": {},
   "number_sections": true,
   "sideBar": true,
   "skip_h1_title": false,
   "title_cell": "Table of Contents",
   "title_sidebar": "Contents",
   "toc_cell": false,
   "toc_position": {},
   "toc_section_display": true,
   "toc_window_display": false
  }
 },
 "nbformat": 4,
 "nbformat_minor": 2
}
