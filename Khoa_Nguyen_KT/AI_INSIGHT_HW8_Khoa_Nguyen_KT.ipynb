{
  "nbformat": 4,
  "nbformat_minor": 0,
  "metadata": {
    "kernelspec": {
      "display_name": "Python 3",
      "language": "python",
      "name": "python3"
    },
    "language_info": {
      "codemirror_mode": {
        "name": "ipython",
        "version": 3
      },
      "file_extension": ".py",
      "mimetype": "text/x-python",
      "name": "python",
      "nbconvert_exporter": "python",
      "pygments_lexer": "ipython3",
      "version": "3.7.4"
    },
    "toc": {
      "base_numbering": 1,
      "nav_menu": {},
      "number_sections": true,
      "sideBar": true,
      "skip_h1_title": false,
      "title_cell": "Table of Contents",
      "title_sidebar": "Contents",
      "toc_cell": false,
      "toc_position": {},
      "toc_section_display": true,
      "toc_window_display": false
    },
    "colab": {
      "name": "AI_INSIGHT_HW8_Khoa_Nguyen_KT.ipynb",
      "provenance": []
    },
    "accelerator": "GPU"
  },
  "cells": [
    {
      "cell_type": "markdown",
      "metadata": {
        "id": "uyFn9LeV8Vch"
      },
      "source": [
        "Tên: Nguyễn Thọ Anh Khoa\n",
        "\n",
        "Facebook: Khoa Nguyễn KT\n",
        "\n",
        "Lớp: AI Insight "
      ]
    },
    {
      "cell_type": "markdown",
      "metadata": {
        "id": "eLTYvSiv8Vcs"
      },
      "source": [
        "# Multilayer Perceptron – Exercise 1"
      ]
    },
    {
      "cell_type": "markdown",
      "metadata": {
        "id": "Cx5i8yA28Vct"
      },
      "source": [
        "## 1) Đọc hiểu code file “Softmax-Researcher-L2.ipynb” về weight decay loss\n"
      ]
    },
    {
      "cell_type": "markdown",
      "metadata": {
        "id": "LKO--5j68Vcu"
      },
      "source": [
        "Ở phần code này thực hiện sofmax regression trên tập data iris sử dụng tensorflow và khởi tạo weight lớn, ta có thể thấy được loss được vẽ ra gần như là 1 đường thẳng, có nghĩa model dường như không học được gì từ tập data. Để khắc phục được vấn đề này phương thức **weight decay** được áp dụng."
      ]
    },
    {
      "cell_type": "code",
      "metadata": {
        "id": "Pj3ITP_w8Vcu",
        "outputId": "3d2cd2e1-9203-41ca-d74b-7055311614a2"
      },
      "source": [
        "# large init values for theta\n",
        "\n",
        "import numpy as np\n",
        "import tensorflow as tf\n",
        "tf.keras.backend.set_floatx('float64')\n",
        "\n",
        "### Data preparation\n",
        "data = np.genfromtxt('exercise 8/iris/iris_full.csv', delimiter=',', skip_header=1)\n",
        "X = data[:,0:4]\n",
        "y = data[:,4:]\n",
        "\n",
        "# add 1\n",
        "X = np.hstack((np.ones((150, 1)), X))\n",
        "\n",
        "# predict    \n",
        "def predict(x, theta):\n",
        "    return tf.math.softmax(tf.matmul(x, theta))\n",
        "\n",
        "    \n",
        "### weights\n",
        "theta = tf.Variable(tf.random.normal((5, 3), dtype=tf.float64)*5)\n",
        "\n",
        "### training\n",
        "learning_rate = 0.1\n",
        "num_epochs = 2000\n",
        "\n",
        "### loss function\n",
        "loss = tf.keras.losses.SparseCategoricalCrossentropy()\n",
        "\n",
        "losses = [] # for debug\n",
        "for epoch in range(num_epochs):\n",
        "    with tf.GradientTape() as t:\n",
        "        # output\n",
        "        output = predict(X, theta)\n",
        "        \n",
        "        # loss\n",
        "        loss_v = loss(y, output)\n",
        "        losses.append(loss_v.numpy())\n",
        "        \n",
        "        # gradient\n",
        "        dtheta = t.gradient(loss_v, theta)\n",
        "        \n",
        "        # update\n",
        "        theta.assign_sub(learning_rate * dtheta) "
      ],
      "execution_count": null,
      "outputs": [
        {
          "output_type": "stream",
          "text": [
            "WARNING:tensorflow:From /home/khoa/anaconda3/lib/python3.7/site-packages/tensorflow_core/python/ops/math_grad.py:1394: where (from tensorflow.python.ops.array_ops) is deprecated and will be removed in a future version.\n",
            "Instructions for updating:\n",
            "Use tf.where in 2.0, which has the same broadcast rule as np.where\n"
          ],
          "name": "stdout"
        }
      ]
    },
    {
      "cell_type": "code",
      "metadata": {
        "id": "s1-G6fo58Vcx",
        "outputId": "e7f10423-6ad9-4b75-ccd8-f20f363a5932"
      },
      "source": [
        "import matplotlib.pyplot as plt\n",
        "\n",
        "plt.plot(losses)\n",
        "plt.xlabel('iteration')\n",
        "plt.ylabel('Loss')"
      ],
      "execution_count": null,
      "outputs": [
        {
          "output_type": "execute_result",
          "data": {
            "text/plain": [
              "Text(0, 0.5, 'Loss')"
            ]
          },
          "metadata": {
            "tags": []
          },
          "execution_count": 6
        },
        {
          "output_type": "display_data",
          "data": {
            "image/png": "[encoded data removed]",
            "text/plain": [
              "<Figure size 432x288 with 1 Axes>"
            ]
          },
          "metadata": {
            "tags": [],
            "needs_background": "light"
          }
        }
      ]
    },
    {
      "cell_type": "markdown",
      "metadata": {
        "id": "uQM7L18r8Vcy"
      },
      "source": [
        "Kỹ thuật này được gọi là regularization và nó có 2 loại (L1) Lasso Regression (L2) Ridge Regression. Phần code này thực hiện L2:\n",
        "$$ Loss_{\\pmb{\\theta}} = 1/2 * ||\\pmb{y - \\hat{y}}||^2_2 + \\lambda*||\\pmb{W}||^2_2 $$\n",
        "\n",
        "trong L2 là $\\lambda*||\\pmb{W}||^2_2$ với lambda là regularization strength tức là lambda càng lớn thì recgularzation càng mạnh và ngược lại.\n",
        "\n",
        "Công thức này có ý nghĩa là cứ mỗi wieght w trong network thì $1/2\\lambda \\pmb{w}$ được add vào. Để phạt mạnh vào các vector w đỉnh và ưu tiên các w phân tán (có nghĩa là sẽ không để wieght bị lệch mà giúp model phân tán đều weight để học được tổng quát hơn, khi 1 vector weight càng lớn thì loss càng cao để phạt vào). Điều này sẽ giúp cho network sử dụng mỗi thử 1 chút ở tất cả input để học thay vì trỉ tập trung vào 1 vài input."
      ]
    },
    {
      "cell_type": "markdown",
      "metadata": {
        "id": "yZtbNrta8Vcy"
      },
      "source": [
        "Trong phần code bên dưới weight_loss đươc tính theo công thức trên và lấy trung bình cộng với lambda = 0.1"
      ]
    },
    {
      "cell_type": "code",
      "metadata": {
        "id": "92jJp01C8Vcz"
      },
      "source": [
        "# Loss for large weights\n",
        "\n",
        "import numpy as np\n",
        "import tensorflow as tf\n",
        "tf.keras.backend.set_floatx('float64')\n",
        "\n",
        "### Data preparation\n",
        "data = np.genfromtxt('exercise 8/iris/iris_full.csv', delimiter=',', skip_header=1)\n",
        "X = data[:,0:4]\n",
        "y = data[:,4:]\n",
        "\n",
        "# add 1\n",
        "X = np.hstack((np.ones((150, 1)), X))\n",
        "\n",
        "# predict    \n",
        "def predict(x, theta):\n",
        "    return tf.math.softmax(tf.matmul(x, theta))\n",
        "\n",
        "    \n",
        "### weights\n",
        "theta = tf.Variable(tf.random.normal((5, 3), dtype=tf.float64)*5)\n",
        "\n",
        "### training\n",
        "learning_rate = 0.1\n",
        "num_epochs = 2000\n",
        "\n",
        "### loss function\n",
        "loss = tf.keras.losses.SparseCategoricalCrossentropy()\n",
        "\n",
        "losses = [] # for debug\n",
        "for epoch in range(num_epochs):\n",
        "    with tf.GradientTape() as t:\n",
        "        # output\n",
        "        output = predict(X, theta)\n",
        "        \n",
        "        # loss\n",
        "        weight_loss = tf.math.reduce_sum(theta**2) / (theta.shape[0]*theta.shape[1])\n",
        "        loss_v = loss(y, output) + 0.1*weight_loss\n",
        "        losses.append(loss_v.numpy())\n",
        "        \n",
        "        # gradient\n",
        "        dtheta = t.gradient(loss_v, theta)\n",
        "        \n",
        "        # update\n",
        "        theta.assign_sub(learning_rate * dtheta) "
      ],
      "execution_count": null,
      "outputs": []
    },
    {
      "cell_type": "code",
      "metadata": {
        "id": "O0g68x3v8Vc0",
        "outputId": "988edef6-6f98-4669-938c-cf201990e24a"
      },
      "source": [
        "import matplotlib.pyplot as plt\n",
        "\n",
        "plt.plot(losses)\n",
        "plt.xlabel('iteration')\n",
        "plt.ylabel('Loss')"
      ],
      "execution_count": null,
      "outputs": [
        {
          "output_type": "execute_result",
          "data": {
            "text/plain": [
              "Text(0, 0.5, 'Loss')"
            ]
          },
          "metadata": {
            "tags": []
          },
          "execution_count": 9
        },
        {
          "output_type": "display_data",
          "data": {
            "image/png": "[encoded data removed]",
            "text/plain": [
              "<Figure size 432x288 with 1 Axes>"
            ]
          },
          "metadata": {
            "tags": [],
            "needs_background": "light"
          }
        }
      ]
    },
    {
      "cell_type": "markdown",
      "metadata": {
        "id": "JtMYn3WN8Vc0"
      },
      "source": [
        "## 2) Đọc hiểu code file “1.MNIST-Preparation.ipynb” về cách xử lý dữ liệu hình MNIST."
      ]
    },
    {
      "cell_type": "markdown",
      "metadata": {
        "id": "fopfNNXm8Vc1"
      },
      "source": [
        "Đây là phần code down load data từ trang web bằng python\n",
        "- Thư viện **urllib** dùng package **request** để gửi request download data tới server và download data bằng lệnh **request.urlretrieve(link_file_download, folder_contains_file) **\n"
      ]
    },
    {
      "cell_type": "code",
      "metadata": {
        "id": "ZwGrPPGQ8Vc1",
        "outputId": "45268277-0cf3-4bce-a9ba-6df9bb879c94"
      },
      "source": [
        "import numpy as np\n",
        "from urllib import request\n",
        "import gzip\n",
        "import pickle\n",
        "\n",
        "filenames = [\"train-images-idx3-ubyte.gz\", \"t10k-images-idx3-ubyte.gz\", \n",
        "            \"train-labels-idx1-ubyte.gz\", \"t10k-labels-idx1-ubyte.gz\"]\n",
        "\n",
        "\n",
        "folder = 'data_mnist/'\n",
        "def download_mnist():\n",
        "    base_url = \"http://yann.lecun.com/exdb/mnist/\"\n",
        "    for name in filenames:\n",
        "        print(\"Downloading \" + name + \"...\")\n",
        "        request.urlretrieve(base_url + name, folder + name)\n",
        "    print(\"Download complete.\")\n",
        "\n",
        "download_mnist()"
      ],
      "execution_count": null,
      "outputs": [
        {
          "output_type": "stream",
          "text": [
            "Downloading train-images-idx3-ubyte.gz...\n",
            "Downloading t10k-images-idx3-ubyte.gz...\n",
            "Downloading train-labels-idx1-ubyte.gz...\n",
            "Downloading t10k-labels-idx1-ubyte.gz...\n",
            "Download complete.\n"
          ],
          "name": "stdout"
        }
      ]
    },
    {
      "cell_type": "markdown",
      "metadata": {
        "id": "V-VrUFad8Vc2"
      },
      "source": [
        "- File down về có entension là .gz là 1 chuẩn nén GNU zip (gzip), do đó thư viện **gzip** được import để  load data và có thể load file mà không cần giải nén.\n",
        "- Khi open file bằng gzip với type là byte, sau đó **np.frombuffer** được dùng để load data\n",
        "- Tập ảnh thì cần set X cần set offset là 16 và label là 8. Các 16, 8 byte đầu là magic byte không cần quan tâm.\n",
        "- Ảnh được reshape để  có shape là (sample, features) ở đây features thì mỗi element là 1 pixel (ảnh 28x28)\n",
        "- Sau đó data sẽ được save theo format của npy, cách này giúp load data nhanh hơn cho các lần load data sau vì data đã được xử lý trước đó "
      ]
    },
    {
      "cell_type": "code",
      "metadata": {
        "id": "jRqG4AEv8Vc2",
        "outputId": "264b81d0-19ba-4b6c-c2f5-56f27149a6c5"
      },
      "source": [
        "import numpy as np\n",
        "import gzip\n",
        "\n",
        "# load training images\n",
        "with gzip.open('data_mnist/train-images-idx3-ubyte.gz', 'rb') as f:\n",
        "    X_train = np.frombuffer(f.read(), np.uint8, offset=16).reshape(-1,28*28)\n",
        "\n",
        "# load testing images\n",
        "with gzip.open('data_mnist/t10k-images-idx3-ubyte.gz', 'rb') as f:\n",
        "    X_test = np.frombuffer(f.read(), np.uint8, offset=16).reshape(-1,28*28)\n",
        "\n",
        "# load training labels\n",
        "with gzip.open('data_mnist/train-labels-idx1-ubyte.gz', 'rb') as f:\n",
        "    y_train = np.frombuffer(f.read(), np.uint8, offset=8)\n",
        "    \n",
        "# load testing labels\n",
        "with gzip.open('data_mnist/t10k-labels-idx1-ubyte.gz', 'rb') as f:\n",
        "    y_test = np.frombuffer(f.read(), np.uint8, offset=8)\n",
        "    \n",
        "\n",
        "# check data\n",
        "print(X_train.shape)\n",
        "print(y_train.shape)\n",
        "print(X_test.shape)\n",
        "print(y_test.shape)\n",
        "\n",
        "np.save('data_mnist/X_train.npy', X_train)\n",
        "np.save('data_mnist/y_train.npy', y_train)\n",
        "np.save('data_mnist/X_test.npy', X_test)\n",
        "np.save('data_mnist/y_test.npy', y_test)"
      ],
      "execution_count": null,
      "outputs": [
        {
          "output_type": "stream",
          "text": [
            "(60000, 784)\n",
            "(60000,)\n",
            "(10000, 784)\n",
            "(10000,)\n"
          ],
          "name": "stdout"
        }
      ]
    },
    {
      "cell_type": "markdown",
      "metadata": {
        "id": "DVkA2zAu8Vc4"
      },
      "source": [
        "Đây là bước để kiểm tra các data bằng cách load file đã lưu và dung thư viện xử lý ảnh **PIL**, conver array sang PIL object và save 10 ảnh để kiểm tra "
      ]
    },
    {
      "cell_type": "code",
      "metadata": {
        "id": "ez0JWtOw8Vc4",
        "outputId": "d196ed53-e0f3-4467-d599-54d4488ae311"
      },
      "source": [
        "from PIL import Image\n",
        "import numpy as np  \n",
        "\n",
        "X_train = np.load('data_mnist/X_train.npy', allow_pickle=True)\n",
        "print(X_train.shape)\n",
        "\n",
        "for i in range(10):\n",
        "    im = Image.fromarray(X_train[i].reshape(28,28))\n",
        "    im.save(\"data_mnist/images/image_\" + str(i) +\".jpg\")"
      ],
      "execution_count": null,
      "outputs": [
        {
          "output_type": "stream",
          "text": [
            "(60000, 784)\n"
          ],
          "name": "stdout"
        }
      ]
    },
    {
      "cell_type": "markdown",
      "metadata": {
        "id": "9ncrQHft8Vc6"
      },
      "source": [
        "Ở đoạn code trên phải save ra image file mới check được, thì đoạn code bên dưới dùng thư viện matplotlib để show lên trực tiếp không cần save ra file ảnh \n",
        "\n",
        "- Vì tập train có 60000 ảnh nên chỉ show random vài ảnh ở đây sẽ show 1 grid ảnh với 8 hàng 8 cột \n",
        "- **plt.figure(figsize=(9,9))** để set size của ảnh \n",
        "- **fig.add_subplot(rows, columns, i)** vẽ từ trái sang phải cho đến hình thứ row*columns\n",
        "- Ý tưởng chính của code là pick pick random 64 index trong 60000, sau đó cho vòng lập chạy từ 1 đến 65 (64 samples) rồi vẽ từng ảnh lên grid có kích thước 8*8 "
      ]
    },
    {
      "cell_type": "code",
      "metadata": {
        "id": "dkQq4Boj8Vc6",
        "outputId": "e8d32a64-47b3-4a69-a0ec-2646c89080cf"
      },
      "source": [
        "# dùng vẽ đồ thị, hình ảnh\n",
        "import matplotlib.pyplot as plt \n",
        "\n",
        "# Tạo dang sách 9 phần tử ngẫu nhiên từ m_train có 60.000 phần tử\n",
        "indices = list(np.random.randint(60000, size=64))\n",
        "\n",
        "fig = plt.figure(figsize=(9,9))\n",
        "columns = 8\n",
        "rows = 8\n",
        "for i in range(1, columns*rows +1):\n",
        "    img = X_train[indices[i-1]].reshape(28,28)\n",
        "    fig.add_subplot(rows, columns, i)\n",
        "    \n",
        "    plt.axis('off')\n",
        "    plt.imshow(img, cmap='gray', vmin=0, vmax=255)"
      ],
      "execution_count": null,
      "outputs": [
        {
          "output_type": "display_data",
          "data": {
            "image/png": "[encoded data removed]",
            "text/plain": [
              "<Figure size 648x648 with 64 Axes>"
            ]
          },
          "metadata": {
            "tags": [],
            "needs_background": "light"
          }
        }
      ]
    },
    {
      "cell_type": "markdown",
      "metadata": {
        "id": "EEUAiecx8Vc7"
      },
      "source": [
        "## 3) Đọc hiểu code các file sau cho việc áp dụng Softmax regression và perceptron cho data MNIST\n",
        "\n",
        "## a) 2.Softmax-Researcher-MNIST.ipynb\n",
        "\n",
        "## b) 3.Softmax-MLP-MNIST.ipynb"
      ]
    },
    {
      "cell_type": "markdown",
      "metadata": {
        "id": "vEjb5aDs8Vc7"
      },
      "source": [
        "### a) 2.Softmax-Researcher-MNIST.ipynb"
      ]
    },
    {
      "cell_type": "markdown",
      "metadata": {
        "id": "J16K3_-_8Vc8"
      },
      "source": [
        "Ví dụ này cho thấy sự không ổn định trong quá trình training khi không normalize data\n",
        "phần đầu tiên data đã được normalize, vì là ảnh nên sẽ có range từ 0-255, do đó đoạn code này chia toàn bộ data cho 255 để scale về range 0-1. Việc này sẽ đem lại nhiều lợi ích:\n",
        "\n",
        "- Giúp cho việc tính toán nhanh hơn thay vì range 0-255\n",
        "- Các pixel có cùng scale range sẽ học được tổng quát hơn thay vì model sẽ tập trung vào các pixel lớn như 255 làm cho model không ổn định và học chậm hơn.\n"
      ]
    },
    {
      "cell_type": "code",
      "metadata": {
        "id": "v_fOXz078Vc8",
        "outputId": "97f93c66-8805-4c79-a7a0-86a6709e776a"
      },
      "source": [
        "import numpy as np\n",
        "import tensorflow as tf\n",
        "import tensorflow.keras as keras\n",
        "tf.keras.backend.set_floatx('float64')\n",
        "\n",
        "# Data Preparation\n",
        "X_train = np.load('data_mnist/X_train.npy', allow_pickle=True)\n",
        "y_train = np.load('data_mnist/y_train.npy', allow_pickle=True)\n",
        "X_test = np.load('data_mnist/X_test.npy', allow_pickle=True)\n",
        "y_test = np.load('data_mnist/y_test.npy', allow_pickle=True)\n",
        "\n",
        "X_train = X_train/255\n",
        "X_test  = X_test/255\n",
        "\n",
        "print(X_train.shape)\n",
        "print(y_train.shape)\n",
        "print(X_test.shape)\n",
        "print(y_test.shape)\n",
        "\n",
        "print(y_train[:5])\n",
        "\n",
        "# predict    \n",
        "def predict(x, W, b):\n",
        "    return tf.math.softmax(tf.matmul(x, W) + b)\n",
        "\n",
        "    \n",
        "### weights\n",
        "W = tf.Variable(tf.random.normal((784, 10), mean=0, stddev=0.1, dtype=tf.float64))\n",
        "b = tf.Variable(tf.zeros((10,), dtype=tf.float64))\n",
        "\n",
        "### training\n",
        "learning_rate = 0.1\n",
        "num_epochs = 300\n",
        "\n",
        "### loss function\n",
        "loss = tf.keras.losses.SparseCategoricalCrossentropy()\n",
        "\n",
        "losses = [] # for debug\n",
        "for epoch in range(num_epochs):\n",
        "    with tf.GradientTape() as t:\n",
        "        # output\n",
        "        output = predict(X_train, W, b)\n",
        "        \n",
        "        # loss\n",
        "        loss_v = loss(y_train, output)\n",
        "        losses.append(loss_v.numpy())\n",
        "        \n",
        "        # gradient\n",
        "        dW, db = t.gradient(loss_v, [W, b])\n",
        "        \n",
        "        # update\n",
        "        W.assign_sub(learning_rate * dW) \n",
        "        b.assign_sub(learning_rate * db)"
      ],
      "execution_count": null,
      "outputs": [
        {
          "output_type": "stream",
          "text": [
            "(60000, 784)\n",
            "(60000,)\n",
            "(10000, 784)\n",
            "(10000,)\n",
            "[5 0 4 1 9]\n"
          ],
          "name": "stdout"
        }
      ]
    },
    {
      "cell_type": "code",
      "metadata": {
        "id": "h0N-XT7j8Vc9",
        "outputId": "a2746290-4c42-483d-dcc3-23995a3a3fb3"
      },
      "source": [
        "import matplotlib.pyplot as plt\n",
        "\n",
        "plt.plot(losses)\n",
        "plt.xlabel('iteration')\n",
        "plt.ylabel('Loss')"
      ],
      "execution_count": null,
      "outputs": [
        {
          "output_type": "execute_result",
          "data": {
            "text/plain": [
              "Text(0, 0.5, 'Loss')"
            ]
          },
          "metadata": {
            "tags": []
          },
          "execution_count": 11
        },
        {
          "output_type": "display_data",
          "data": {
            "image/png": "[encoded data removed]",
            "text/plain": [
              "<Figure size 432x288 with 1 Axes>"
            ]
          },
          "metadata": {
            "tags": [],
            "needs_background": "light"
          }
        }
      ]
    },
    {
      "cell_type": "markdown",
      "metadata": {
        "id": "EyVq_GCo8Vc-"
      },
      "source": [
        ""
      ]
    },
    {
      "cell_type": "code",
      "metadata": {
        "id": "5UIHgMpd8Vc_",
        "outputId": "d81f71df-e08a-4522-baaf-8d731ce8d204"
      },
      "source": [
        "# without normalization\n",
        "\n",
        "import numpy as np\n",
        "import tensorflow as tf\n",
        "import tensorflow.keras as keras\n",
        "tf.keras.backend.set_floatx('float64')\n",
        "\n",
        "# Data Preparation\n",
        "X_train = np.load('data_mnist/X_train.npy', allow_pickle=True)\n",
        "y_train = np.load('data_mnist/y_train.npy', allow_pickle=True)\n",
        "X_test = np.load('data_mnist/X_test.npy', allow_pickle=True)\n",
        "y_test = np.load('data_mnist/y_test.npy', allow_pickle=True)\n",
        "\n",
        "X_train = X_train.astype(np.float64)\n",
        "X_test  = X_test.astype(np.float64)\n",
        "\n",
        "print(X_train.shape)\n",
        "print(y_train.shape)\n",
        "print(X_test.shape)\n",
        "print(y_test.shape)\n",
        "\n",
        "# predict    \n",
        "def predict(x, W, b):\n",
        "    return tf.math.softmax(tf.matmul(x, W) + b)\n",
        "\n",
        "    \n",
        "### weights\n",
        "W = tf.Variable(tf.random.normal((784, 10), mean=0, stddev=0.1, dtype=tf.float64))\n",
        "b = tf.Variable(tf.zeros((10,), dtype=tf.float64))\n",
        "\n",
        "### training\n",
        "learning_rate = 0.1\n",
        "num_epochs = 200\n",
        "\n",
        "### loss function\n",
        "loss = tf.keras.losses.SparseCategoricalCrossentropy()\n",
        "\n",
        "losses = [] # for debug\n",
        "for epoch in range(num_epochs):\n",
        "    with tf.GradientTape() as t:\n",
        "        # output\n",
        "        output = predict(X_train, W, b)\n",
        "        \n",
        "        # loss\n",
        "        loss_v = loss(y_train, output)\n",
        "        losses.append(loss_v.numpy())\n",
        "        \n",
        "        # gradient\n",
        "        dW, db = t.gradient(loss_v, [W, b])\n",
        "        \n",
        "        # update\n",
        "        W.assign_sub(learning_rate * dW) \n",
        "        b.assign_sub(learning_rate * db)\n",
        "        \n",
        "\n",
        "import matplotlib.pyplot as plt\n",
        "\n",
        "plt.plot(losses)\n",
        "plt.xlabel('iteration')\n",
        "plt.ylabel('Loss')"
      ],
      "execution_count": null,
      "outputs": [
        {
          "output_type": "stream",
          "text": [
            "(60000, 784)\n",
            "(60000,)\n",
            "(10000, 784)\n",
            "(10000,)\n"
          ],
          "name": "stdout"
        },
        {
          "output_type": "execute_result",
          "data": {
            "text/plain": [
              "Text(0, 0.5, 'Loss')"
            ]
          },
          "metadata": {
            "tags": []
          },
          "execution_count": 12
        },
        {
          "output_type": "display_data",
          "data": {
            "image/png": "[encoded data removed]",
            "text/plain": [
              "<Figure size 432x288 with 1 Axes>"
            ]
          },
          "metadata": {
            "tags": [],
            "needs_background": "light"
          }
        }
      ]
    },
    {
      "cell_type": "markdown",
      "metadata": {
        "id": "HP_Rcy6U8VdB"
      },
      "source": [
        "## b) 3.Softmax-MLP-MNIST.ipynb\n"
      ]
    },
    {
      "cell_type": "markdown",
      "metadata": {
        "id": "7ysbbgUE8VdB"
      },
      "source": [
        "Đây là model dùng để train tập mnis với kiến trúc là 1 layer input 784 nodes và 1 hidden output layer 10 nodes sử dụng softmax activation, khởi tạo random weight theo Normal Distribution với standart devivation = 0.01, bias = 0, hàm loss là spare categorical crossentropy. Train 50 epochs với batch size = 512"
      ]
    },
    {
      "cell_type": "code",
      "metadata": {
        "id": "wbKDRhYP8VdB",
        "outputId": "fed766cd-1821-4a5b-f5f5-daff7a379e0e"
      },
      "source": [
        "import numpy as np\n",
        "import tensorflow as tf\n",
        "import tensorflow.keras as keras\n",
        "tf.keras.backend.set_floatx('float64')\n",
        "\n",
        "# Data Preparation\n",
        "X_train = np.load('data_mnist/X_train.npy', allow_pickle=True)\n",
        "y_train = np.load('data_mnist/y_train.npy', allow_pickle=True)\n",
        "X_test = np.load('data_mnist/X_test.npy', allow_pickle=True)\n",
        "y_test = np.load('data_mnist/y_test.npy', allow_pickle=True)\n",
        "\n",
        "X_train = X_train/255\n",
        "X_test  = X_test/255\n",
        "\n",
        "\n",
        "batch_size = 512\n",
        "epochs = 50\n",
        "\n",
        "# create model\n",
        "model = tf.keras.Sequential()\n",
        "model.add(tf.keras.Input(shape=(784,)))\n",
        "model.add(tf.keras.layers.Dense(10, activation='softmax', \n",
        "                               kernel_initializer=keras.initializers.RandomNormal(stddev=0.01),\n",
        "                               bias_initializer=keras.initializers.Zeros()))\n",
        "\n",
        "# declare optimization method and loss function\n",
        "model.compile(optimizer='sgd', \n",
        "              loss='sparse_categorical_crossentropy', \n",
        "              metrics=['accuracy'])\n",
        "\n",
        "# training\n",
        "history = model.fit(X_train, y_train, batch_size, epochs)\n",
        "\n",
        "# testing\n",
        "test_loss, test_acc = model.evaluate(X_test, y_test, verbose=0)\n",
        "print('\\n\\nTest accuracy:', test_acc)"
      ],
      "execution_count": null,
      "outputs": [
        {
          "output_type": "stream",
          "text": [
            "Train on 60000 samples\n",
            "Epoch 1/50\n",
            "60000/60000 [==============================] - 2s 36us/sample - loss: 1.8276 - accuracy: 0.6754\n",
            "Epoch 2/50\n",
            "60000/60000 [==============================] - 1s 10us/sample - loss: 1.2693 - accuracy: 0.7966\n",
            "Epoch 3/50\n",
            "60000/60000 [==============================] - 1s 10us/sample - loss: 1.0123 - accuracy: 0.8207\n",
            "Epoch 4/50\n",
            "60000/60000 [==============================] - 1s 10us/sample - loss: 0.8709 - accuracy: 0.8329\n",
            "Epoch 5/50\n",
            "60000/60000 [==============================] - 1s 13us/sample - loss: 0.7816 - accuracy: 0.8421\n",
            "Epoch 6/50\n",
            "60000/60000 [==============================] - 1s 13us/sample - loss: 0.7197 - accuracy: 0.8485\n",
            "Epoch 7/50\n",
            "60000/60000 [==============================] - 1s 11us/sample - loss: 0.6740 - accuracy: 0.8535\n",
            "Epoch 8/50\n",
            "60000/60000 [==============================] - 1s 11us/sample - loss: 0.6386 - accuracy: 0.8577\n",
            "Epoch 9/50\n",
            "60000/60000 [==============================] - 1s 10us/sample - loss: 0.6104 - accuracy: 0.8612\n",
            "Epoch 10/50\n",
            "60000/60000 [==============================] - 1s 11us/sample - loss: 0.5872 - accuracy: 0.8638\n",
            "Epoch 11/50\n",
            "60000/60000 [==============================] - 1s 10us/sample - loss: 0.5677 - accuracy: 0.8663\n",
            "Epoch 12/50\n",
            "60000/60000 [==============================] - 1s 10us/sample - loss: 0.5511 - accuracy: 0.8686\n",
            "Epoch 13/50\n",
            "60000/60000 [==============================] - 1s 10us/sample - loss: 0.5367 - accuracy: 0.8703\n",
            "Epoch 14/50\n",
            "60000/60000 [==============================] - 1s 10us/sample - loss: 0.5241 - accuracy: 0.8722\n",
            "Epoch 15/50\n",
            "60000/60000 [==============================] - 1s 10us/sample - loss: 0.5129 - accuracy: 0.8737\n",
            "Epoch 16/50\n",
            "60000/60000 [==============================] - 1s 13us/sample - loss: 0.5030 - accuracy: 0.8751\n",
            "Epoch 17/50\n",
            "60000/60000 [==============================] - 1s 10us/sample - loss: 0.4941 - accuracy: 0.8765\n",
            "Epoch 18/50\n",
            "60000/60000 [==============================] - 1s 10us/sample - loss: 0.4860 - accuracy: 0.8779\n",
            "Epoch 19/50\n",
            "60000/60000 [==============================] - 1s 10us/sample - loss: 0.4786 - accuracy: 0.8790\n",
            "Epoch 20/50\n",
            "60000/60000 [==============================] - 1s 10us/sample - loss: 0.4718 - accuracy: 0.8800\n",
            "Epoch 21/50\n",
            "60000/60000 [==============================] - 1s 10us/sample - loss: 0.4656 - accuracy: 0.8811\n",
            "Epoch 22/50\n",
            "60000/60000 [==============================] - 1s 10us/sample - loss: 0.4599 - accuracy: 0.8820\n",
            "Epoch 23/50\n",
            "60000/60000 [==============================] - 1s 10us/sample - loss: 0.4546 - accuracy: 0.8831\n",
            "Epoch 24/50\n",
            "60000/60000 [==============================] - 1s 11us/sample - loss: 0.4496 - accuracy: 0.8841\n",
            "Epoch 25/50\n",
            "60000/60000 [==============================] - 1s 11us/sample - loss: 0.4450 - accuracy: 0.8851\n",
            "Epoch 26/50\n",
            "60000/60000 [==============================] - 1s 13us/sample - loss: 0.4406 - accuracy: 0.8854\n",
            "Epoch 27/50\n",
            "60000/60000 [==============================] - 1s 12us/sample - loss: 0.4366 - accuracy: 0.8859\n",
            "Epoch 28/50\n",
            "60000/60000 [==============================] - 1s 12us/sample - loss: 0.4327 - accuracy: 0.8867\n",
            "Epoch 29/50\n",
            "60000/60000 [==============================] - 1s 11us/sample - loss: 0.4291 - accuracy: 0.8872\n",
            "Epoch 30/50\n",
            "60000/60000 [==============================] - 1s 14us/sample - loss: 0.4257 - accuracy: 0.8879\n",
            "Epoch 31/50\n",
            "60000/60000 [==============================] - 1s 12us/sample - loss: 0.4225 - accuracy: 0.8885\n",
            "Epoch 32/50\n",
            "60000/60000 [==============================] - 1s 12us/sample - loss: 0.4194 - accuracy: 0.8891\n",
            "Epoch 33/50\n",
            "60000/60000 [==============================] - 1s 10us/sample - loss: 0.4165 - accuracy: 0.8897\n",
            "Epoch 34/50\n",
            "60000/60000 [==============================] - 1s 9us/sample - loss: 0.4137 - accuracy: 0.8902\n",
            "Epoch 35/50\n",
            "60000/60000 [==============================] - 1s 9us/sample - loss: 0.4110 - accuracy: 0.8909\n",
            "Epoch 36/50\n",
            "60000/60000 [==============================] - 1s 9us/sample - loss: 0.4085 - accuracy: 0.8914\n",
            "Epoch 37/50\n",
            "60000/60000 [==============================] - 1s 9us/sample - loss: 0.4060 - accuracy: 0.8918\n",
            "Epoch 38/50\n",
            "60000/60000 [==============================] - 1s 10us/sample - loss: 0.4037 - accuracy: 0.8923\n",
            "Epoch 39/50\n",
            "60000/60000 [==============================] - 1s 14us/sample - loss: 0.4015 - accuracy: 0.8929\n",
            "Epoch 40/50\n",
            "60000/60000 [==============================] - 1s 15us/sample - loss: 0.3993 - accuracy: 0.8933\n",
            "Epoch 41/50\n",
            "60000/60000 [==============================] - 1s 18us/sample - loss: 0.3973 - accuracy: 0.8938\n",
            "Epoch 42/50\n",
            "60000/60000 [==============================] - 1s 12us/sample - loss: 0.3953 - accuracy: 0.8942\n",
            "Epoch 43/50\n",
            "60000/60000 [==============================] - 1s 11us/sample - loss: 0.3934 - accuracy: 0.8946\n",
            "Epoch 44/50\n",
            "60000/60000 [==============================] - 1s 12us/sample - loss: 0.3915 - accuracy: 0.8951\n",
            "Epoch 45/50\n",
            "60000/60000 [==============================] - 1s 11us/sample - loss: 0.3897 - accuracy: 0.8952\n",
            "Epoch 46/50\n",
            "60000/60000 [==============================] - 1s 11us/sample - loss: 0.3880 - accuracy: 0.8956\n",
            "Epoch 47/50\n",
            "60000/60000 [==============================] - 1s 11us/sample - loss: 0.3864 - accuracy: 0.8959\n",
            "Epoch 48/50\n",
            "60000/60000 [==============================] - 1s 11us/sample - loss: 0.3848 - accuracy: 0.8965\n",
            "Epoch 49/50\n",
            "60000/60000 [==============================] - 1s 11us/sample - loss: 0.3832 - accuracy: 0.8967\n",
            "Epoch 50/50\n",
            "60000/60000 [==============================] - 1s 14us/sample - loss: 0.3817 - accuracy: 0.8970\n",
            "\n",
            "\n",
            "Test accuracy: 0.9033\n"
          ],
          "name": "stdout"
        }
      ]
    },
    {
      "cell_type": "code",
      "metadata": {
        "id": "bNheUXLV8VdD",
        "outputId": "3b69fc23-87d2-45f1-9fcc-4280a35d99ba"
      },
      "source": [
        "import matplotlib.pyplot as plt\n",
        "\n",
        "plt.plot(history.history['loss'])\n",
        "plt.xlabel('iteration')\n",
        "plt.ylabel('Loss')"
      ],
      "execution_count": null,
      "outputs": [
        {
          "output_type": "execute_result",
          "data": {
            "text/plain": [
              "Text(0, 0.5, 'Loss')"
            ]
          },
          "metadata": {
            "tags": []
          },
          "execution_count": 14
        },
        {
          "output_type": "display_data",
          "data": {
            "image/png": "[encoded data removed]",
            "text/plain": [
              "<Figure size 432x288 with 1 Axes>"
            ]
          },
          "metadata": {
            "tags": [],
            "needs_background": "light"
          }
        }
      ]
    },
    {
      "cell_type": "code",
      "metadata": {
        "id": "ONPXldNO8VdE",
        "outputId": "fc73044a-c8c7-498c-9b35-2f95ce819c45"
      },
      "source": [
        "import matplotlib.pyplot as plt\n",
        "\n",
        "plt.plot(history.history['accuracy'])\n",
        "plt.xlabel('iteration')\n",
        "plt.ylabel('Accuracy')"
      ],
      "execution_count": null,
      "outputs": [
        {
          "output_type": "execute_result",
          "data": {
            "text/plain": [
              "Text(0, 0.5, 'Accuracy')"
            ]
          },
          "metadata": {
            "tags": []
          },
          "execution_count": 15
        },
        {
          "output_type": "display_data",
          "data": {
            "image/png": "[encoded data removed]",
            "text/plain": [
              "<Figure size 432x288 with 1 Axes>"
            ]
          },
          "metadata": {
            "tags": [],
            "needs_background": "light"
          }
        }
      ]
    },
    {
      "cell_type": "markdown",
      "metadata": {
        "id": "A8W0SaMk8VdE"
      },
      "source": [
        "Model này có kiến trúc Input 784 nodes, 1 hidden layer 128 node, ouput layer 10 node, Mặc dù model này sâu hơn (nhiều parameter) hơn model trên, theo lý thuyết thì sẽ có khả năng học được nhiều hơn và tốt hơn nhưng kết quả trên tập test (data không được train) thì lại tệ hơn, thì có thể do model đã bị overfitting trên tập train"
      ]
    },
    {
      "cell_type": "code",
      "metadata": {
        "id": "6ZfcF2Md8VdF",
        "outputId": "84709886-6e80-4af7-92aa-10ece4c74b66"
      },
      "source": [
        "# MLP - sigmoid\n",
        "\n",
        "import numpy as np\n",
        "import tensorflow as tf\n",
        "import tensorflow.keras as keras\n",
        "tf.keras.backend.set_floatx('float64')\n",
        "\n",
        "# Data Preparation\n",
        "X_train = np.load('data_mnist/X_train.npy', allow_pickle=True)\n",
        "y_train = np.load('data_mnist/y_train.npy', allow_pickle=True)\n",
        "X_test = np.load('data_mnist/X_test.npy', allow_pickle=True)\n",
        "y_test = np.load('data_mnist/y_test.npy', allow_pickle=True)\n",
        "\n",
        "X_train = X_train/255\n",
        "X_test  = X_test/255\n",
        "\n",
        "\n",
        "batch_size = 512\n",
        "epochs = 50\n",
        "\n",
        "# create model\n",
        "model = tf.keras.Sequential()\n",
        "\n",
        "model.add(tf.keras.Input(shape=(784,)))\n",
        "\n",
        "model.add(tf.keras.layers.Dense(128, activation='sigmoid', \n",
        "                               kernel_initializer=keras.initializers.RandomNormal(stddev=0.01),\n",
        "                               bias_initializer=keras.initializers.Zeros()))\n",
        "\n",
        "model.add(tf.keras.layers.Dense(10, activation='softmax', \n",
        "                               kernel_initializer=keras.initializers.RandomNormal(stddev=0.01),\n",
        "                               bias_initializer=keras.initializers.Zeros()))\n",
        "\n",
        "# declare optimization method and loss function\n",
        "model.compile(optimizer='sgd', \n",
        "              loss='sparse_categorical_crossentropy', \n",
        "              metrics=['accuracy'])\n",
        "\n",
        "# training\n",
        "history = model.fit(X_train, y_train, batch_size, epochs)\n",
        "\n",
        "# testing\n",
        "test_loss, test_acc = model.evaluate(X_test, y_test, verbose=0)\n",
        "print('\\n\\nTest accuracy:', test_acc)"
      ],
      "execution_count": null,
      "outputs": [
        {
          "output_type": "stream",
          "text": [
            "Train on 60000 samples\n",
            "Epoch 1/50\n",
            "60000/60000 [==============================] - 2s 32us/sample - loss: 2.3009 - accuracy: 0.1112\n",
            "Epoch 2/50\n",
            "60000/60000 [==============================] - 1s 24us/sample - loss: 2.2986 - accuracy: 0.1124\n",
            "Epoch 3/50\n",
            "60000/60000 [==============================] - 1s 25us/sample - loss: 2.2965 - accuracy: 0.1124\n",
            "Epoch 4/50\n",
            "60000/60000 [==============================] - 2s 27us/sample - loss: 2.2941 - accuracy: 0.1124\n",
            "Epoch 5/50\n",
            "60000/60000 [==============================] - 1s 24us/sample - loss: 2.2911 - accuracy: 0.1124\n",
            "Epoch 6/50\n",
            "60000/60000 [==============================] - 1s 24us/sample - loss: 2.2874 - accuracy: 0.1125\n",
            "Epoch 7/50\n",
            "60000/60000 [==============================] - 1s 24us/sample - loss: 2.2827 - accuracy: 0.1149\n",
            "Epoch 8/50\n",
            "60000/60000 [==============================] - 1s 24us/sample - loss: 2.2766 - accuracy: 0.1405\n",
            "Epoch 9/50\n",
            "60000/60000 [==============================] - 1s 24us/sample - loss: 2.2688 - accuracy: 0.1642\n",
            "Epoch 10/50\n",
            "60000/60000 [==============================] - 1s 24us/sample - loss: 2.2586 - accuracy: 0.2222\n",
            "Epoch 11/50\n",
            "60000/60000 [==============================] - 1s 23us/sample - loss: 2.2453 - accuracy: 0.2789\n",
            "Epoch 12/50\n",
            "60000/60000 [==============================] - 1s 24us/sample - loss: 2.2283 - accuracy: 0.3284\n",
            "Epoch 13/50\n",
            "60000/60000 [==============================] - 1s 24us/sample - loss: 2.2066 - accuracy: 0.3649\n",
            "Epoch 14/50\n",
            "60000/60000 [==============================] - 1s 23us/sample - loss: 2.1792 - accuracy: 0.4082\n",
            "Epoch 15/50\n",
            "60000/60000 [==============================] - 1s 24us/sample - loss: 2.1454 - accuracy: 0.4362\n",
            "Epoch 16/50\n",
            "60000/60000 [==============================] - 1s 24us/sample - loss: 2.1043 - accuracy: 0.4553\n",
            "Epoch 17/50\n",
            "60000/60000 [==============================] - 1s 25us/sample - loss: 2.0558 - accuracy: 0.4762\n",
            "Epoch 18/50\n",
            "60000/60000 [==============================] - 2s 25us/sample - loss: 1.9999 - accuracy: 0.4938\n",
            "Epoch 19/50\n",
            "60000/60000 [==============================] - 2s 25us/sample - loss: 1.9373 - accuracy: 0.5115\n",
            "Epoch 20/50\n",
            "60000/60000 [==============================] - 1s 23us/sample - loss: 1.8693 - accuracy: 0.5332\n",
            "Epoch 21/50\n",
            "60000/60000 [==============================] - 1s 24us/sample - loss: 1.7977 - accuracy: 0.5575\n",
            "Epoch 22/50\n",
            "60000/60000 [==============================] - 2s 27us/sample - loss: 1.7243 - accuracy: 0.5657\n",
            "Epoch 23/50\n",
            "60000/60000 [==============================] - 2s 34us/sample - loss: 1.6511 - accuracy: 0.5884\n",
            "Epoch 24/50\n",
            "60000/60000 [==============================] - 2s 29us/sample - loss: 1.5794 - accuracy: 0.6060\n",
            "Epoch 25/50\n",
            "60000/60000 [==============================] - 2s 27us/sample - loss: 1.5106 - accuracy: 0.6256\n",
            "Epoch 26/50\n",
            "60000/60000 [==============================] - 1s 23us/sample - loss: 1.4454 - accuracy: 0.6378\n",
            "Epoch 27/50\n",
            "60000/60000 [==============================] - 1s 25us/sample - loss: 1.3844 - accuracy: 0.6568\n",
            "Epoch 28/50\n",
            "60000/60000 [==============================] - 2s 28us/sample - loss: 1.3275 - accuracy: 0.6690\n",
            "Epoch 29/50\n",
            "60000/60000 [==============================] - 2s 36us/sample - loss: 1.2749 - accuracy: 0.6847\n",
            "Epoch 30/50\n",
            "60000/60000 [==============================] - 2s 27us/sample - loss: 1.2263 - accuracy: 0.6974\n",
            "Epoch 31/50\n",
            "60000/60000 [==============================] - 1s 25us/sample - loss: 1.1814 - accuracy: 0.7074\n",
            "Epoch 32/50\n",
            "60000/60000 [==============================] - 1s 23us/sample - loss: 1.1399 - accuracy: 0.7210\n",
            "Epoch 33/50\n",
            "60000/60000 [==============================] - 2s 27us/sample - loss: 1.1014 - accuracy: 0.7318\n",
            "Epoch 34/50\n",
            "60000/60000 [==============================] - 1s 24us/sample - loss: 1.0657 - accuracy: 0.7402\n",
            "Epoch 35/50\n",
            "60000/60000 [==============================] - 1s 24us/sample - loss: 1.0325 - accuracy: 0.7487\n",
            "Epoch 36/50\n",
            "60000/60000 [==============================] - 1s 23us/sample - loss: 1.0015 - accuracy: 0.7567\n",
            "Epoch 37/50\n",
            "60000/60000 [==============================] - 1s 25us/sample - loss: 0.9725 - accuracy: 0.7644\n",
            "Epoch 38/50\n",
            "60000/60000 [==============================] - 1s 23us/sample - loss: 0.9452 - accuracy: 0.7706\n",
            "Epoch 39/50\n",
            "60000/60000 [==============================] - 1s 23us/sample - loss: 0.9197 - accuracy: 0.7776\n",
            "Epoch 40/50\n",
            "60000/60000 [==============================] - 1s 23us/sample - loss: 0.8957 - accuracy: 0.7830\n",
            "Epoch 41/50\n",
            "60000/60000 [==============================] - 1s 23us/sample - loss: 0.8730 - accuracy: 0.7893\n",
            "Epoch 42/50\n",
            "60000/60000 [==============================] - 1s 23us/sample - loss: 0.8517 - accuracy: 0.7937\n",
            "Epoch 43/50\n",
            "60000/60000 [==============================] - 1s 23us/sample - loss: 0.8315 - accuracy: 0.7980\n",
            "Epoch 44/50\n",
            "60000/60000 [==============================] - 1s 23us/sample - loss: 0.8126 - accuracy: 0.8026\n",
            "Epoch 45/50\n",
            "60000/60000 [==============================] - 1s 23us/sample - loss: 0.7946 - accuracy: 0.8066\n",
            "Epoch 46/50\n",
            "60000/60000 [==============================] - 1s 23us/sample - loss: 0.7776 - accuracy: 0.8098\n",
            "Epoch 47/50\n",
            "60000/60000 [==============================] - 1s 23us/sample - loss: 0.7615 - accuracy: 0.8126\n",
            "Epoch 48/50\n",
            "60000/60000 [==============================] - 1s 23us/sample - loss: 0.7463 - accuracy: 0.8158\n",
            "Epoch 49/50\n",
            "60000/60000 [==============================] - 1s 23us/sample - loss: 0.7319 - accuracy: 0.8188\n",
            "Epoch 50/50\n",
            "60000/60000 [==============================] - 1s 23us/sample - loss: 0.7183 - accuracy: 0.8218\n",
            "\n",
            "\n",
            "Test accuracy: 0.8264\n"
          ],
          "name": "stdout"
        }
      ]
    },
    {
      "cell_type": "markdown",
      "metadata": {
        "id": "U-fRRvKb8VdF"
      },
      "source": [
        "## 4) (Optional) Cài đặt Softmax regression và perceptron cho data Fashion-MNIST\n",
        "https://github.com/zalandoresearch/fashion-mnist"
      ]
    },
    {
      "cell_type": "code",
      "metadata": {
        "colab": {
          "base_uri": "https://localhost:8080/"
        },
        "id": "Q_4rZrrT8VdG",
        "outputId": "1e7f77e4-9069-49c6-c8dc-9fe3ba829a73"
      },
      "source": [
        "import numpy as np\n",
        "import gzip\n",
        "from urllib import request\n",
        "import pathlib \n",
        "\n",
        "data_name = ['train-images-idx3-ubyte.gz', 'train-labels-idx1-ubyte.gz', 't10k-images-idx3-ubyte.gz', 't10k-labels-idx1-ubyte.gz']\n",
        "parent_dir = 'Fashion_MNIST/'\n",
        "url = 'http://fashion-mnist.s3-website.eu-central-1.amazonaws.com/'\n",
        "\n",
        "for name in data_name:\n",
        "    print(\"Downloading \" + name + \"...\")\n",
        "    request.urlretrieve(url + name, parent_dir+name)\n",
        "print(\"Download complete.\")\n",
        "\n"
      ],
      "execution_count": 2,
      "outputs": [
        {
          "output_type": "stream",
          "text": [
            "Downloading train-images-idx3-ubyte.gz...\n",
            "Downloading train-labels-idx1-ubyte.gz...\n",
            "Downloading t10k-images-idx3-ubyte.gz...\n",
            "Downloading t10k-labels-idx1-ubyte.gz...\n",
            "Download complete.\n"
          ],
          "name": "stdout"
        }
      ]
    },
    {
      "cell_type": "code",
      "metadata": {
        "colab": {
          "base_uri": "https://localhost:8080/"
        },
        "id": "iV0AX-Et8VdG",
        "outputId": "bd103bc8-9285-4510-f643-17e655135ed6"
      },
      "source": [
        "import numpy as np\n",
        "import gzip\n",
        "\n",
        "# load training images\n",
        "with gzip.open('Fashion_MNIST/train-images-idx3-ubyte.gz', 'rb') as f:\n",
        "    X_train = np.frombuffer(f.read(), np.uint8, offset=16).reshape(-1,28*28)\n",
        "\n",
        "# load testing images\n",
        "with gzip.open('Fashion_MNIST/t10k-images-idx3-ubyte.gz', 'rb') as f:\n",
        "    X_test = np.frombuffer(f.read(), np.uint8, offset=16).reshape(-1,28*28)\n",
        "\n",
        "# load training labels\n",
        "with gzip.open('Fashion_MNIST/train-labels-idx1-ubyte.gz', 'rb') as f:\n",
        "    y_train = np.frombuffer(f.read(), np.uint8, offset=8)\n",
        "    \n",
        "# load testing labels\n",
        "with gzip.open('Fashion_MNIST/t10k-labels-idx1-ubyte.gz', 'rb') as f:\n",
        "    y_test = np.frombuffer(f.read(), np.uint8, offset=8)\n",
        "    \n",
        "\n",
        "# check data\n",
        "print(X_train.shape)\n",
        "print(y_train.shape)\n",
        "print(X_test.shape)\n",
        "print(y_test.shape)\n",
        "\n",
        "np.save('Fashion_MNIST/X_train.npy', X_train)\n",
        "np.save('Fashion_MNIST/y_train.npy', y_train)\n",
        "np.save('Fashion_MNIST/X_test.npy', X_test)\n",
        "np.save('Fashion_MNIST/y_test.npy', y_test)"
      ],
      "execution_count": 3,
      "outputs": [
        {
          "output_type": "stream",
          "text": [
            "(60000, 784)\n",
            "(60000,)\n",
            "(10000, 784)\n",
            "(10000,)\n"
          ],
          "name": "stdout"
        }
      ]
    },
    {
      "cell_type": "markdown",
      "metadata": {
        "id": "VDbxDgBv8VdI"
      },
      "source": [
        "### Softmax regression"
      ]
    },
    {
      "cell_type": "code",
      "metadata": {
        "colab": {
          "base_uri": "https://localhost:8080/"
        },
        "id": "BxyhjEei8VdI",
        "outputId": "5b586c56-69ee-4b05-c379-3939da91fda8"
      },
      "source": [
        "import numpy as np\n",
        "import tensorflow as tf\n",
        "import tensorflow.keras as keras\n",
        "tf.keras.backend.set_floatx('float64')\n",
        "\n",
        "# load data\n",
        "X_train = np.load('Fashion_MNIST/X_train.npy', allow_pickle=True)\n",
        "y_train = np.load('Fashion_MNIST/y_train.npy', allow_pickle=True)\n",
        "X_test = np.load('Fashion_MNIST/X_test.npy', allow_pickle=True)\n",
        "y_test = np.load('Fashion_MNIST/y_test.npy', allow_pickle=True)\n",
        "\n",
        "# Normalize data\n",
        "# X_train = X_train * 1./255\n",
        "# X_test = X_test * 1./255\n",
        "def normalize_data(X):\n",
        "    # X = X * 1./255\n",
        "    return (X - np.mean(X)) / np.std(X)\n",
        "X_train = normalize_data(X_train)\n",
        "X_test = normalize_data(X_test)\n",
        "\n",
        "# Initial weight\n",
        "features = X_train.shape[1]\n",
        "num_class = len(np.unique(y_train))\n",
        "W = tf.Variable(tf.random.normal( (features, num_class), mean=0, stddev=0.1, dtype=tf.float64))\n",
        "b = tf.Variable(tf.zeros((num_class,), dtype=tf.float64))\n",
        "\n",
        "# training\n",
        "epochs = 300\n",
        "learning_rate = 0.1\n",
        "\n",
        "# loss fnc\n",
        "loss_fcn = keras.losses.SparseCategoricalCrossentropy()\n",
        "\n",
        "def predict(X,W,b):\n",
        "    return tf.math.softmax(tf.matmul(X,W) +b)\n",
        "\n",
        "losses = []\n",
        "for epoch in range(epochs):\n",
        "    with tf.GradientTape(persistent=True) as tape:\n",
        "        #forward\n",
        "        pred = predict(X_train,W,b)\n",
        "        \n",
        "        #loss\n",
        "        loss = loss_fcn(y_train, pred)\n",
        "        losses.append(loss.numpy())\n",
        "        \n",
        "        #gradient\n",
        "        dW, db = tape.gradient(loss, [W, b])\n",
        "        \n",
        "        #update\n",
        "        W.assign_sub(learning_rate*dW)\n",
        "        b.assign_sub(learning_rate*db)"
      ],
      "execution_count": 4,
      "outputs": [
        {
          "output_type": "stream",
          "text": [
            "WARNING:tensorflow:Calling GradientTape.gradient on a persistent tape inside its context is significantly less efficient than calling it outside the context (it causes the gradient ops to be recorded on the tape, leading to increased CPU and memory usage). Only call GradientTape.gradient inside the context if you actually want to trace the gradient in order to compute higher order derivatives.\n"
          ],
          "name": "stdout"
        }
      ]
    },
    {
      "cell_type": "code",
      "metadata": {
        "colab": {
          "base_uri": "https://localhost:8080/",
          "height": 265
        },
        "id": "evwjKfa78VdJ",
        "outputId": "a6c454de-c39e-4cca-f2ad-c2b0fd166e95"
      },
      "source": [
        "import matplotlib.pyplot as plt\n",
        "plt.plot(losses)\n",
        "plt.show()"
      ],
      "execution_count": 5,
      "outputs": [
        {
          "output_type": "display_data",
          "data": {
            "image/png": "[encoded data removed]",
            "text/plain": [
              "<Figure size 432x288 with 1 Axes>"
            ]
          },
          "metadata": {
            "tags": [],
            "needs_background": "light"
          }
        }
      ]
    },
    {
      "cell_type": "code",
      "metadata": {
        "colab": {
          "base_uri": "https://localhost:8080/"
        },
        "id": "6z1LrBnV8VdK",
        "outputId": "1592d62c-fdda-4cb4-8fa4-fe726afa8735"
      },
      "source": [
        "pred_test = predict(normalize_data(X_test),W,b)\n",
        "pred_test_class = np.argmax(pred_test.numpy(), axis=1)\n",
        "np.mean(pred_test_class == y_test)"
      ],
      "execution_count": 7,
      "outputs": [
        {
          "output_type": "execute_result",
          "data": {
            "text/plain": [
              "0.7957"
            ]
          },
          "metadata": {
            "tags": []
          },
          "execution_count": 7
        }
      ]
    },
    {
      "cell_type": "markdown",
      "metadata": {
        "id": "SQNd9mkQ8VdK"
      },
      "source": [
        "0.77 -> 0.8"
      ]
    },
    {
      "cell_type": "markdown",
      "metadata": {
        "id": "Jnyhj5ow8VdL"
      },
      "source": [
        "### MLP"
      ]
    },
    {
      "cell_type": "code",
      "metadata": {
        "colab": {
          "base_uri": "https://localhost:8080/"
        },
        "id": "gu72ZdIy8VdL",
        "outputId": "caafb109-a09c-4ef8-b6bc-9022b351f04f"
      },
      "source": [
        "import numpy as np\n",
        "import tensorflow as tf\n",
        "import tensorflow.keras as keras\n",
        "tf.keras.backend.set_floatx('float64')\n",
        "\n",
        "# load data\n",
        "X_train = np.load('Fashion_MNIST/X_train.npy', allow_pickle=True)\n",
        "y_train = np.load('Fashion_MNIST/y_train.npy', allow_pickle=True)\n",
        "X_test = np.load('Fashion_MNIST/X_test.npy', allow_pickle=True)\n",
        "y_test = np.load('Fashion_MNIST/y_test.npy', allow_pickle=True)\n",
        "\n",
        "# Normalize data\n",
        "# X_train = X_train * 1./255\n",
        "# X_test = X_test * 1./255\n",
        "def normalize_data(X):\n",
        "    # X = X * 1./255\n",
        "    return (X - np.mean(X)) / np.std(X)\n",
        "X_train = normalize_data(X_train)\n",
        "X_test = normalize_data(X_test)\n",
        "\n",
        "# Initial weight\n",
        "features = X_train.shape[1]\n",
        "units_hid1 = 128\n",
        "num_class = len(np.unique(y_train))\n",
        "\n",
        "W1 = tf.Variable(tf.random.normal( (features, units_hid1), mean=0, stddev=0.1, dtype=tf.float64))\n",
        "b1 = tf.Variable(tf.zeros((units_hid1,), dtype=tf.float64))\n",
        "\n",
        "W_out = tf.Variable(tf.random.normal( (units_hid1, num_class), mean=0, stddev=0.1, dtype=tf.float64))\n",
        "b_out = tf.Variable(tf.zeros((num_class,), dtype=tf.float64))\n",
        "\n",
        "# training\n",
        "epochs = 300\n",
        "learning_rate = 0.1\n",
        "\n",
        "# loss fnc\n",
        "loss_fcn = keras.losses.SparseCategoricalCrossentropy()\n",
        "\n",
        "def out_hid(X,W,b):\n",
        "    return tf.nn.relu(tf.matmul(X,W) +b)\n",
        "def predict(X,W,b):\n",
        "    return tf.math.softmax(tf.matmul(X,W) +b)\n",
        "\n",
        "losses = []\n",
        "for epoch in range(epochs):\n",
        "    with tf.GradientTape(persistent=True) as tape:\n",
        "        #forward\n",
        "        out_hid1 = out_hid(X_train,W1,b1)\n",
        "        pred = predict(out_hid1,W_out,b_out)\n",
        "        \n",
        "        #loss\n",
        "        loss = loss_fcn(y_train, pred)\n",
        "        losses.append(loss.numpy())\n",
        "        \n",
        "        #gradient\n",
        "        dW1, db1 = tape.gradient(loss, [W1, b1])\n",
        "        dW_out, db_out = tape.gradient(loss, [W_out, b_out])\n",
        "        \n",
        "        #update\n",
        "        W1.assign_sub(learning_rate*dW1)\n",
        "        b1.assign_sub(learning_rate*db1)\n",
        "        W_out.assign_sub(learning_rate*dW_out)\n",
        "        b_out.assign_sub(learning_rate*db_out)"
      ],
      "execution_count": 8,
      "outputs": [
        {
          "output_type": "stream",
          "text": [
            "WARNING:tensorflow:Calling GradientTape.gradient on a persistent tape inside its context is significantly less efficient than calling it outside the context (it causes the gradient ops to be recorded on the tape, leading to increased CPU and memory usage). Only call GradientTape.gradient inside the context if you actually want to trace the gradient in order to compute higher order derivatives.\n",
            "WARNING:tensorflow:Calling GradientTape.gradient on a persistent tape inside its context is significantly less efficient than calling it outside the context (it causes the gradient ops to be recorded on the tape, leading to increased CPU and memory usage). Only call GradientTape.gradient inside the context if you actually want to trace the gradient in order to compute higher order derivatives.\n"
          ],
          "name": "stdout"
        }
      ]
    },
    {
      "cell_type": "code",
      "metadata": {
        "colab": {
          "base_uri": "https://localhost:8080/",
          "height": 265
        },
        "id": "lGLikOG58VdM",
        "outputId": "506db5f0-3cce-487d-93cf-11ee1edaf14a"
      },
      "source": [
        "import matplotlib.pyplot as plt\n",
        "plt.plot(losses)\n",
        "plt.show()"
      ],
      "execution_count": 9,
      "outputs": [
        {
          "output_type": "display_data",
          "data": {
            "image/png": "[encoded data removed]",
            "text/plain": [
              "<Figure size 432x288 with 1 Axes>"
            ]
          },
          "metadata": {
            "tags": [],
            "needs_background": "light"
          }
        }
      ]
    },
    {
      "cell_type": "code",
      "metadata": {
        "colab": {
          "base_uri": "https://localhost:8080/"
        },
        "id": "JWTC_uXO8VdM",
        "outputId": "51f9d53e-cbe2-4783-a336-d7544fa4991c"
      },
      "source": [
        "out_hid1 = out_hid(normalize_data(X_test),W1,b1)\n",
        "pred_test = predict(out_hid1,W_out,b_out)\n",
        "pred_test_class = np.argmax(pred_test.numpy(), axis=1)\n",
        "np.mean(pred_test_class == y_test)"
      ],
      "execution_count": 10,
      "outputs": [
        {
          "output_type": "execute_result",
          "data": {
            "text/plain": [
              "0.8343"
            ]
          },
          "metadata": {
            "tags": []
          },
          "execution_count": 10
        }
      ]
    },
    {
      "cell_type": "markdown",
      "metadata": {
        "id": "3tbqZt-U8VdN"
      },
      "source": [
        "## References\n",
        "\n",
        "1/\n",
        "\n",
        "https://towardsdatascience.com/weight-decay-l2-regularization-90a9e17713cd\n",
        "\n",
        "https://towardsdatascience.com/this-thing-called-weight-decay-a7cd4bcfccab\n",
        "\n",
        "https://cs231n.github.io/neural-networks-2/#init\n",
        "\n",
        "https://machinelearningcoban.com/2017/03/04/overfitting/#-%5C%5Cl%5C%5C-regularization\n",
        "\n",
        "2/\n",
        "\n",
        "https://mattpetersen.github.io/load-mnist-with-numpy"
      ]
    },
    {
      "cell_type": "markdown",
      "metadata": {
        "id": "_fQQoBAB8VdN"
      },
      "source": [
        "batch?, fnc arbitrary # layers?"
      ]
    },
    {
      "cell_type": "code",
      "metadata": {
        "id": "GNNYgxx58VdO"
      },
      "source": [
        ""
      ],
      "execution_count": null,
      "outputs": []
    }
  ]
}