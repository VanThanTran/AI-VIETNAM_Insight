{
  "nbformat": 4,
  "nbformat_minor": 0,
  "metadata": {
    "colab": {
      "name": "AI_INSIGHT_HW12_Khoa_Nguyen_KT.ipynb.ipynb",
      "provenance": [],
      "collapsed_sections": []
    },
    "kernelspec": {
      "name": "python3",
      "display_name": "Python 3"
    },
    "accelerator": "GPU"
  },
  "cells": [
    {
      "cell_type": "markdown",
      "metadata": {
        "id": "smGhtab8f75-"
      },
      "source": [
        "Class: AI INSIGHT \n",
        "\n",
        "Name: Nguyen Tho Anh Khoa\n",
        "\n",
        "Facebook: Khoa Nguyen KT"
      ]
    },
    {
      "cell_type": "markdown",
      "metadata": {
        "id": "OJDfnLiuf_yI"
      },
      "source": [
        "# CNN – Exercise 3"
      ]
    },
    {
      "cell_type": "markdown",
      "metadata": {
        "id": "7I4ccYr7f_4T"
      },
      "source": [
        "## 1) Đọc hiểu code các file sau.\n",
        "\n",
        "## -  11.1.CNN-FlexibleInputSize.ipynb về cách thiết kế một model với dymanic input size\n",
        "\n",
        "## - 11.2.Backprogation.ipynb minh họa cách tính đạo hàm qua các layer phổ biến trong CNN\n",
        "\n",
        "## - 11.3.LeNet.ipynb cài đặt code cho LeNet model\n",
        "\n",
        "## - 11.4.VGG16.ipynb cài đặt code cho VGG model với 16 layer"
      ]
    },
    {
      "cell_type": "markdown",
      "metadata": {
        "id": "nOj6Om45f_7A"
      },
      "source": [
        "### **11.1.CNN-FlexibleInputSize.ipynb về cách thiết kế một model với dymanic input size**"
      ]
    },
    {
      "cell_type": "markdown",
      "metadata": {
        "id": "nw0YBeNVf_9g"
      },
      "source": [
        "**Model with fixed input size (28x28x1)**"
      ]
    },
    {
      "cell_type": "code",
      "metadata": {
        "colab": {
          "base_uri": "https://localhost:8080/"
        },
        "id": "oOd5n9KTgAAH",
        "outputId": "c97c699c-17f9-48b5-8b94-fbd1119d0485"
      },
      "source": [
        "# fixed input size\n",
        "\n",
        "import tensorflow as tf\n",
        "from tensorflow import keras\n",
        "\n",
        "# model\n",
        "model = keras.models.Sequential()\n",
        "model.add(tf.keras.Input(shape=(28, 28, 1)))\n",
        "\n",
        "model.add(keras.layers.Conv2D(32, (3, 3), strides=1, padding='same', activation='relu'))\n",
        "model.add(keras.layers.Conv2D(64, (3, 3), strides=2, padding='same', activation='relu'))\n",
        "\n",
        "model.add(keras.layers.Conv2D(128, (3, 3), strides=1, padding='same', activation='relu'))\n",
        "model.add(keras.layers.Conv2D(256, (3, 3), strides=2, padding='same', activation='relu'))\n",
        "\n",
        "model.add(keras.layers.Conv2D(512, (7, 7), strides=1, activation='relu'))\n",
        "model.add(keras.layers.Conv2D(10, (1, 1), strides=1, activation='softmax'))\n",
        "\n",
        "model.summary()"
      ],
      "execution_count": null,
      "outputs": [
        {
          "output_type": "stream",
          "text": [
            "Model: \"sequential\"\n",
            "_________________________________________________________________\n",
            "Layer (type)                 Output Shape              Param #   \n",
            "=================================================================\n",
            "conv2d (Conv2D)              (None, 28, 28, 32)        320       \n",
            "_________________________________________________________________\n",
            "conv2d_1 (Conv2D)            (None, 14, 14, 64)        18496     \n",
            "_________________________________________________________________\n",
            "conv2d_2 (Conv2D)            (None, 14, 14, 128)       73856     \n",
            "_________________________________________________________________\n",
            "conv2d_3 (Conv2D)            (None, 7, 7, 256)         295168    \n",
            "_________________________________________________________________\n",
            "conv2d_4 (Conv2D)            (None, 1, 1, 512)         6423040   \n",
            "_________________________________________________________________\n",
            "conv2d_5 (Conv2D)            (None, 1, 1, 10)          5130      \n",
            "=================================================================\n",
            "Total params: 6,816,010\n",
            "Trainable params: 6,816,010\n",
            "Non-trainable params: 0\n",
            "_________________________________________________________________\n"
          ],
          "name": "stdout"
        }
      ]
    },
    {
      "cell_type": "markdown",
      "metadata": {
        "id": "UGUQwXUUhMee"
      },
      "source": [
        "**Nếu cho input khác với szie ban đầu khai báo 28x28x1 thì hệ thống sẽ báo lỗi hoặc warning**"
      ]
    },
    {
      "cell_type": "code",
      "metadata": {
        "colab": {
          "base_uri": "https://localhost:8080/"
        },
        "id": "uwKYSRrogACs",
        "outputId": "f2e85d7c-a101-480f-8e1a-231fba7884fe"
      },
      "source": [
        "# testing with the size (28,28,1)\n",
        "\n",
        "data = tf.random.normal( (128, 28, 28, 1) )\n",
        "wrong_input = tf.random.normal( (128, 32, 32, 1) )\n",
        "print(data.shape)\n",
        "print(wrong_input.shape)\n",
        "\n",
        "output = model.predict(data)\n",
        "print(output.shape)\n",
        "\n",
        "wrong_output = model.predict(wrong_input)\n",
        "print(wrong_output.shape)"
      ],
      "execution_count": null,
      "outputs": [
        {
          "output_type": "stream",
          "text": [
            "(128, 28, 28, 1)\n",
            "(128, 32, 32, 1)\n",
            "(128, 1, 1, 10)\n",
            "WARNING:tensorflow:Model was constructed with shape (None, 28, 28, 1) for input KerasTensor(type_spec=TensorSpec(shape=(None, 28, 28, 1), dtype=tf.float32, name='input_1'), name='input_1', description=\"created by layer 'input_1'\"), but it was called on an input with incompatible shape (32, 32, 32, 1).\n",
            "(128, 2, 2, 10)\n"
          ],
          "name": "stdout"
        }
      ]
    },
    {
      "cell_type": "markdown",
      "metadata": {
        "id": "D7T8U9lIgAFB"
      },
      "source": [
        "**Model with dynamic size**\n"
      ]
    },
    {
      "cell_type": "code",
      "metadata": {
        "colab": {
          "base_uri": "https://localhost:8080/"
        },
        "id": "x3cnnQdZiLCn",
        "outputId": "f9e86cd6-599b-44a9-e6af-2d54b0906411"
      },
      "source": [
        "# model\n",
        "model = keras.models.Sequential()\n",
        "model.add(tf.keras.Input(shape=(None, None, 1)))\n",
        "\n",
        "model.add(keras.layers.Conv2D(32, (3, 3), strides=1, padding='same', activation='relu'))\n",
        "model.add(keras.layers.Conv2D(64, (3, 3), strides=2, padding='same', activation='relu'))\n",
        "\n",
        "model.add(keras.layers.Conv2D(128, (3, 3), strides=1, padding='same', activation='relu'))\n",
        "model.add(keras.layers.Conv2D(256, (3, 3), strides=2, padding='same', activation='relu'))\n",
        "\n",
        "model.add(keras.layers.Conv2D(512, (7, 7), strides=1, activation='relu'))\n",
        "model.add(keras.layers.Conv2D(10, (1, 1), strides=1, activation='softmax'))\n",
        "\n",
        "model.summary()"
      ],
      "execution_count": null,
      "outputs": [
        {
          "output_type": "stream",
          "text": [
            "Model: \"sequential_1\"\n",
            "_________________________________________________________________\n",
            "Layer (type)                 Output Shape              Param #   \n",
            "=================================================================\n",
            "conv2d_6 (Conv2D)            (None, None, None, 32)    320       \n",
            "_________________________________________________________________\n",
            "conv2d_7 (Conv2D)            (None, None, None, 64)    18496     \n",
            "_________________________________________________________________\n",
            "conv2d_8 (Conv2D)            (None, None, None, 128)   73856     \n",
            "_________________________________________________________________\n",
            "conv2d_9 (Conv2D)            (None, None, None, 256)   295168    \n",
            "_________________________________________________________________\n",
            "conv2d_10 (Conv2D)           (None, None, None, 512)   6423040   \n",
            "_________________________________________________________________\n",
            "conv2d_11 (Conv2D)           (None, None, None, 10)    5130      \n",
            "=================================================================\n",
            "Total params: 6,816,010\n",
            "Trainable params: 6,816,010\n",
            "Non-trainable params: 0\n",
            "_________________________________________________________________\n"
          ],
          "name": "stdout"
        }
      ]
    },
    {
      "cell_type": "code",
      "metadata": {
        "colab": {
          "base_uri": "https://localhost:8080/"
        },
        "id": "-jXIAXudiPhk",
        "outputId": "a0df3df2-02ae-48f0-e116-4c34fc957dbb"
      },
      "source": [
        "\n",
        "shape = (32,28,28,1)\n",
        "data = tf.random.normal(shape)\n",
        "print(data.shape)\n",
        "\n",
        "output = model.predict(data)\n",
        "print(output.shape)"
      ],
      "execution_count": null,
      "outputs": [
        {
          "output_type": "stream",
          "text": [
            "(32, 28, 28, 1)\n",
            "(32, 1, 1, 10)\n"
          ],
          "name": "stdout"
        }
      ]
    },
    {
      "cell_type": "markdown",
      "metadata": {
        "id": "FX1F5jGZiJQ3"
      },
      "source": [
        "**Dynamic input size with FCL**"
      ]
    },
    {
      "cell_type": "markdown",
      "metadata": {
        "id": "W3ZXkM5WifL7"
      },
      "source": [
        "**Khi sử dụng Dense layer thì Input shape không được để None**"
      ]
    },
    {
      "cell_type": "code",
      "metadata": {
        "colab": {
          "base_uri": "https://localhost:8080/",
          "height": 358
        },
        "id": "XiXGNmCkia4G",
        "outputId": "9d5c7e87-3535-42db-ccda-8c81c6a05b7b"
      },
      "source": [
        "# model\n",
        "model = keras.models.Sequential()\n",
        "model.add(tf.keras.Input(shape=(None, None, 1)))\n",
        "\n",
        "model.add(keras.layers.Conv2D(32, (3, 3), activation='relu'))\n",
        "model.add(keras.layers.Conv2D(64, (3, 3), activation='relu'))\n",
        "model.add(keras.layers.MaxPooling2D(2))\n",
        "\n",
        "model.add(keras.layers.Conv2D(128, (3, 3), activation='relu'))\n",
        "model.add(keras.layers.Conv2D(256, (3, 3), activation='relu'))\n",
        "model.add(keras.layers.MaxPooling2D(2))\n",
        "\n",
        "model.add(keras.layers.Conv2D(512, (3, 3), activation='relu'))\n",
        "\n",
        "# flatten\n",
        "model.add(keras.layers.Flatten())\n",
        "model.add(keras.layers.Dense(10, activation='softmax'))"
      ],
      "execution_count": null,
      "outputs": [
        {
          "output_type": "error",
          "ename": "ValueError",
          "evalue": "ignored",
          "traceback": [
            "\u001b[0;31m---------------------------------------------------------------------------\u001b[0m",
            "\u001b[0;31mValueError\u001b[0m                                Traceback (most recent call last)",
            "\u001b[0;32m<ipython-input-6-afa9f3b318b4>\u001b[0m in \u001b[0;36m<module>\u001b[0;34m()\u001b[0m\n\u001b[1;32m     15\u001b[0m \u001b[0;31m# flatten\u001b[0m\u001b[0;34m\u001b[0m\u001b[0;34m\u001b[0m\u001b[0;34m\u001b[0m\u001b[0m\n\u001b[1;32m     16\u001b[0m \u001b[0mmodel\u001b[0m\u001b[0;34m.\u001b[0m\u001b[0madd\u001b[0m\u001b[0;34m(\u001b[0m\u001b[0mkeras\u001b[0m\u001b[0;34m.\u001b[0m\u001b[0mlayers\u001b[0m\u001b[0;34m.\u001b[0m\u001b[0mFlatten\u001b[0m\u001b[0;34m(\u001b[0m\u001b[0;34m)\u001b[0m\u001b[0;34m)\u001b[0m\u001b[0;34m\u001b[0m\u001b[0;34m\u001b[0m\u001b[0m\n\u001b[0;32m---> 17\u001b[0;31m \u001b[0mmodel\u001b[0m\u001b[0;34m.\u001b[0m\u001b[0madd\u001b[0m\u001b[0;34m(\u001b[0m\u001b[0mkeras\u001b[0m\u001b[0;34m.\u001b[0m\u001b[0mlayers\u001b[0m\u001b[0;34m.\u001b[0m\u001b[0mDense\u001b[0m\u001b[0;34m(\u001b[0m\u001b[0;36m10\u001b[0m\u001b[0;34m,\u001b[0m \u001b[0mactivation\u001b[0m\u001b[0;34m=\u001b[0m\u001b[0;34m'softmax'\u001b[0m\u001b[0;34m)\u001b[0m\u001b[0;34m)\u001b[0m\u001b[0;34m\u001b[0m\u001b[0;34m\u001b[0m\u001b[0m\n\u001b[0m",
            "\u001b[0;32m/usr/local/lib/python3.6/dist-packages/tensorflow/python/training/tracking/base.py\u001b[0m in \u001b[0;36m_method_wrapper\u001b[0;34m(self, *args, **kwargs)\u001b[0m\n\u001b[1;32m    515\u001b[0m     \u001b[0mself\u001b[0m\u001b[0;34m.\u001b[0m\u001b[0m_self_setattr_tracking\u001b[0m \u001b[0;34m=\u001b[0m \u001b[0;32mFalse\u001b[0m  \u001b[0;31m# pylint: disable=protected-access\u001b[0m\u001b[0;34m\u001b[0m\u001b[0;34m\u001b[0m\u001b[0m\n\u001b[1;32m    516\u001b[0m     \u001b[0;32mtry\u001b[0m\u001b[0;34m:\u001b[0m\u001b[0;34m\u001b[0m\u001b[0;34m\u001b[0m\u001b[0m\n\u001b[0;32m--> 517\u001b[0;31m       \u001b[0mresult\u001b[0m \u001b[0;34m=\u001b[0m \u001b[0mmethod\u001b[0m\u001b[0;34m(\u001b[0m\u001b[0mself\u001b[0m\u001b[0;34m,\u001b[0m \u001b[0;34m*\u001b[0m\u001b[0margs\u001b[0m\u001b[0;34m,\u001b[0m \u001b[0;34m**\u001b[0m\u001b[0mkwargs\u001b[0m\u001b[0;34m)\u001b[0m\u001b[0;34m\u001b[0m\u001b[0;34m\u001b[0m\u001b[0m\n\u001b[0m\u001b[1;32m    518\u001b[0m     \u001b[0;32mfinally\u001b[0m\u001b[0;34m:\u001b[0m\u001b[0;34m\u001b[0m\u001b[0;34m\u001b[0m\u001b[0m\n\u001b[1;32m    519\u001b[0m       \u001b[0mself\u001b[0m\u001b[0;34m.\u001b[0m\u001b[0m_self_setattr_tracking\u001b[0m \u001b[0;34m=\u001b[0m \u001b[0mprevious_value\u001b[0m  \u001b[0;31m# pylint: disable=protected-access\u001b[0m\u001b[0;34m\u001b[0m\u001b[0;34m\u001b[0m\u001b[0m\n",
            "\u001b[0;32m/usr/local/lib/python3.6/dist-packages/tensorflow/python/keras/engine/sequential.py\u001b[0m in \u001b[0;36madd\u001b[0;34m(self, layer)\u001b[0m\n\u001b[1;32m    221\u001b[0m       \u001b[0;31m# If the model is being built continuously on top of an input layer:\u001b[0m\u001b[0;34m\u001b[0m\u001b[0;34m\u001b[0m\u001b[0;34m\u001b[0m\u001b[0m\n\u001b[1;32m    222\u001b[0m       \u001b[0;31m# refresh its output.\u001b[0m\u001b[0;34m\u001b[0m\u001b[0;34m\u001b[0m\u001b[0;34m\u001b[0m\u001b[0m\n\u001b[0;32m--> 223\u001b[0;31m       \u001b[0moutput_tensor\u001b[0m \u001b[0;34m=\u001b[0m \u001b[0mlayer\u001b[0m\u001b[0;34m(\u001b[0m\u001b[0mself\u001b[0m\u001b[0;34m.\u001b[0m\u001b[0moutputs\u001b[0m\u001b[0;34m[\u001b[0m\u001b[0;36m0\u001b[0m\u001b[0;34m]\u001b[0m\u001b[0;34m)\u001b[0m\u001b[0;34m\u001b[0m\u001b[0;34m\u001b[0m\u001b[0m\n\u001b[0m\u001b[1;32m    224\u001b[0m       \u001b[0;32mif\u001b[0m \u001b[0mlen\u001b[0m\u001b[0;34m(\u001b[0m\u001b[0mnest\u001b[0m\u001b[0;34m.\u001b[0m\u001b[0mflatten\u001b[0m\u001b[0;34m(\u001b[0m\u001b[0moutput_tensor\u001b[0m\u001b[0;34m)\u001b[0m\u001b[0;34m)\u001b[0m \u001b[0;34m!=\u001b[0m \u001b[0;36m1\u001b[0m\u001b[0;34m:\u001b[0m\u001b[0;34m\u001b[0m\u001b[0;34m\u001b[0m\u001b[0m\n\u001b[1;32m    225\u001b[0m         \u001b[0;32mraise\u001b[0m \u001b[0mValueError\u001b[0m\u001b[0;34m(\u001b[0m\u001b[0mSINGLE_LAYER_OUTPUT_ERROR_MSG\u001b[0m\u001b[0;34m)\u001b[0m\u001b[0;34m\u001b[0m\u001b[0;34m\u001b[0m\u001b[0m\n",
            "\u001b[0;32m/usr/local/lib/python3.6/dist-packages/tensorflow/python/keras/engine/base_layer.py\u001b[0m in \u001b[0;36m__call__\u001b[0;34m(self, *args, **kwargs)\u001b[0m\n\u001b[1;32m    950\u001b[0m     \u001b[0;32mif\u001b[0m \u001b[0m_in_functional_construction_mode\u001b[0m\u001b[0;34m(\u001b[0m\u001b[0mself\u001b[0m\u001b[0;34m,\u001b[0m \u001b[0minputs\u001b[0m\u001b[0;34m,\u001b[0m \u001b[0margs\u001b[0m\u001b[0;34m,\u001b[0m \u001b[0mkwargs\u001b[0m\u001b[0;34m,\u001b[0m \u001b[0minput_list\u001b[0m\u001b[0;34m)\u001b[0m\u001b[0;34m:\u001b[0m\u001b[0;34m\u001b[0m\u001b[0;34m\u001b[0m\u001b[0m\n\u001b[1;32m    951\u001b[0m       return self._functional_construction_call(inputs, args, kwargs,\n\u001b[0;32m--> 952\u001b[0;31m                                                 input_list)\n\u001b[0m\u001b[1;32m    953\u001b[0m \u001b[0;34m\u001b[0m\u001b[0m\n\u001b[1;32m    954\u001b[0m     \u001b[0;31m# Maintains info about the `Layer.call` stack.\u001b[0m\u001b[0;34m\u001b[0m\u001b[0;34m\u001b[0m\u001b[0;34m\u001b[0m\u001b[0m\n",
            "\u001b[0;32m/usr/local/lib/python3.6/dist-packages/tensorflow/python/keras/engine/base_layer.py\u001b[0m in \u001b[0;36m_functional_construction_call\u001b[0;34m(self, inputs, args, kwargs, input_list)\u001b[0m\n\u001b[1;32m   1089\u001b[0m         \u001b[0;31m# Check input assumptions set after layer building, e.g. input shape.\u001b[0m\u001b[0;34m\u001b[0m\u001b[0;34m\u001b[0m\u001b[0;34m\u001b[0m\u001b[0m\n\u001b[1;32m   1090\u001b[0m         outputs = self._keras_tensor_symbolic_call(\n\u001b[0;32m-> 1091\u001b[0;31m             inputs, input_masks, args, kwargs)\n\u001b[0m\u001b[1;32m   1092\u001b[0m \u001b[0;34m\u001b[0m\u001b[0m\n\u001b[1;32m   1093\u001b[0m         \u001b[0;32mif\u001b[0m \u001b[0moutputs\u001b[0m \u001b[0;32mis\u001b[0m \u001b[0;32mNone\u001b[0m\u001b[0;34m:\u001b[0m\u001b[0;34m\u001b[0m\u001b[0;34m\u001b[0m\u001b[0m\n",
            "\u001b[0;32m/usr/local/lib/python3.6/dist-packages/tensorflow/python/keras/engine/base_layer.py\u001b[0m in \u001b[0;36m_keras_tensor_symbolic_call\u001b[0;34m(self, inputs, input_masks, args, kwargs)\u001b[0m\n\u001b[1;32m    820\u001b[0m       \u001b[0;32mreturn\u001b[0m \u001b[0mnest\u001b[0m\u001b[0;34m.\u001b[0m\u001b[0mmap_structure\u001b[0m\u001b[0;34m(\u001b[0m\u001b[0mkeras_tensor\u001b[0m\u001b[0;34m.\u001b[0m\u001b[0mKerasTensor\u001b[0m\u001b[0;34m,\u001b[0m \u001b[0moutput_signature\u001b[0m\u001b[0;34m)\u001b[0m\u001b[0;34m\u001b[0m\u001b[0;34m\u001b[0m\u001b[0m\n\u001b[1;32m    821\u001b[0m     \u001b[0;32melse\u001b[0m\u001b[0;34m:\u001b[0m\u001b[0;34m\u001b[0m\u001b[0;34m\u001b[0m\u001b[0m\n\u001b[0;32m--> 822\u001b[0;31m       \u001b[0;32mreturn\u001b[0m \u001b[0mself\u001b[0m\u001b[0;34m.\u001b[0m\u001b[0m_infer_output_signature\u001b[0m\u001b[0;34m(\u001b[0m\u001b[0minputs\u001b[0m\u001b[0;34m,\u001b[0m \u001b[0margs\u001b[0m\u001b[0;34m,\u001b[0m \u001b[0mkwargs\u001b[0m\u001b[0;34m,\u001b[0m \u001b[0minput_masks\u001b[0m\u001b[0;34m)\u001b[0m\u001b[0;34m\u001b[0m\u001b[0;34m\u001b[0m\u001b[0m\n\u001b[0m\u001b[1;32m    823\u001b[0m \u001b[0;34m\u001b[0m\u001b[0m\n\u001b[1;32m    824\u001b[0m   \u001b[0;32mdef\u001b[0m \u001b[0m_infer_output_signature\u001b[0m\u001b[0;34m(\u001b[0m\u001b[0mself\u001b[0m\u001b[0;34m,\u001b[0m \u001b[0minputs\u001b[0m\u001b[0;34m,\u001b[0m \u001b[0margs\u001b[0m\u001b[0;34m,\u001b[0m \u001b[0mkwargs\u001b[0m\u001b[0;34m,\u001b[0m \u001b[0minput_masks\u001b[0m\u001b[0;34m)\u001b[0m\u001b[0;34m:\u001b[0m\u001b[0;34m\u001b[0m\u001b[0;34m\u001b[0m\u001b[0m\n",
            "\u001b[0;32m/usr/local/lib/python3.6/dist-packages/tensorflow/python/keras/engine/base_layer.py\u001b[0m in \u001b[0;36m_infer_output_signature\u001b[0;34m(self, inputs, args, kwargs, input_masks)\u001b[0m\n\u001b[1;32m    860\u001b[0m           \u001b[0;31m# overridden).\u001b[0m\u001b[0;34m\u001b[0m\u001b[0;34m\u001b[0m\u001b[0;34m\u001b[0m\u001b[0m\n\u001b[1;32m    861\u001b[0m           \u001b[0;31m# TODO(kaftan): do we maybe_build here, or have we already done it?\u001b[0m\u001b[0;34m\u001b[0m\u001b[0;34m\u001b[0m\u001b[0;34m\u001b[0m\u001b[0m\n\u001b[0;32m--> 862\u001b[0;31m           \u001b[0mself\u001b[0m\u001b[0;34m.\u001b[0m\u001b[0m_maybe_build\u001b[0m\u001b[0;34m(\u001b[0m\u001b[0minputs\u001b[0m\u001b[0;34m)\u001b[0m\u001b[0;34m\u001b[0m\u001b[0;34m\u001b[0m\u001b[0m\n\u001b[0m\u001b[1;32m    863\u001b[0m           \u001b[0moutputs\u001b[0m \u001b[0;34m=\u001b[0m \u001b[0mcall_fn\u001b[0m\u001b[0;34m(\u001b[0m\u001b[0minputs\u001b[0m\u001b[0;34m,\u001b[0m \u001b[0;34m*\u001b[0m\u001b[0margs\u001b[0m\u001b[0;34m,\u001b[0m \u001b[0;34m**\u001b[0m\u001b[0mkwargs\u001b[0m\u001b[0;34m)\u001b[0m\u001b[0;34m\u001b[0m\u001b[0;34m\u001b[0m\u001b[0m\n\u001b[1;32m    864\u001b[0m \u001b[0;34m\u001b[0m\u001b[0m\n",
            "\u001b[0;32m/usr/local/lib/python3.6/dist-packages/tensorflow/python/keras/engine/base_layer.py\u001b[0m in \u001b[0;36m_maybe_build\u001b[0;34m(self, inputs)\u001b[0m\n\u001b[1;32m   2708\u001b[0m         \u001b[0;31m# operations.\u001b[0m\u001b[0;34m\u001b[0m\u001b[0;34m\u001b[0m\u001b[0;34m\u001b[0m\u001b[0m\n\u001b[1;32m   2709\u001b[0m         \u001b[0;32mwith\u001b[0m \u001b[0mtf_utils\u001b[0m\u001b[0;34m.\u001b[0m\u001b[0mmaybe_init_scope\u001b[0m\u001b[0;34m(\u001b[0m\u001b[0mself\u001b[0m\u001b[0;34m)\u001b[0m\u001b[0;34m:\u001b[0m\u001b[0;34m\u001b[0m\u001b[0;34m\u001b[0m\u001b[0m\n\u001b[0;32m-> 2710\u001b[0;31m           \u001b[0mself\u001b[0m\u001b[0;34m.\u001b[0m\u001b[0mbuild\u001b[0m\u001b[0;34m(\u001b[0m\u001b[0minput_shapes\u001b[0m\u001b[0;34m)\u001b[0m  \u001b[0;31m# pylint:disable=not-callable\u001b[0m\u001b[0;34m\u001b[0m\u001b[0;34m\u001b[0m\u001b[0m\n\u001b[0m\u001b[1;32m   2711\u001b[0m       \u001b[0;31m# We must set also ensure that the layer is marked as built, and the build\u001b[0m\u001b[0;34m\u001b[0m\u001b[0;34m\u001b[0m\u001b[0;34m\u001b[0m\u001b[0m\n\u001b[1;32m   2712\u001b[0m       \u001b[0;31m# shape is stored since user defined build functions may not be calling\u001b[0m\u001b[0;34m\u001b[0m\u001b[0;34m\u001b[0m\u001b[0;34m\u001b[0m\u001b[0m\n",
            "\u001b[0;32m/usr/local/lib/python3.6/dist-packages/tensorflow/python/keras/layers/core.py\u001b[0m in \u001b[0;36mbuild\u001b[0;34m(self, input_shape)\u001b[0m\n\u001b[1;32m   1180\u001b[0m     \u001b[0mlast_dim\u001b[0m \u001b[0;34m=\u001b[0m \u001b[0mtensor_shape\u001b[0m\u001b[0;34m.\u001b[0m\u001b[0mdimension_value\u001b[0m\u001b[0;34m(\u001b[0m\u001b[0minput_shape\u001b[0m\u001b[0;34m[\u001b[0m\u001b[0;34m-\u001b[0m\u001b[0;36m1\u001b[0m\u001b[0;34m]\u001b[0m\u001b[0;34m)\u001b[0m\u001b[0;34m\u001b[0m\u001b[0;34m\u001b[0m\u001b[0m\n\u001b[1;32m   1181\u001b[0m     \u001b[0;32mif\u001b[0m \u001b[0mlast_dim\u001b[0m \u001b[0;32mis\u001b[0m \u001b[0;32mNone\u001b[0m\u001b[0;34m:\u001b[0m\u001b[0;34m\u001b[0m\u001b[0;34m\u001b[0m\u001b[0m\n\u001b[0;32m-> 1182\u001b[0;31m       raise ValueError('The last dimension of the inputs to `Dense` '\n\u001b[0m\u001b[1;32m   1183\u001b[0m                        'should be defined. Found `None`.')\n\u001b[1;32m   1184\u001b[0m     \u001b[0mself\u001b[0m\u001b[0;34m.\u001b[0m\u001b[0minput_spec\u001b[0m \u001b[0;34m=\u001b[0m \u001b[0mInputSpec\u001b[0m\u001b[0;34m(\u001b[0m\u001b[0mmin_ndim\u001b[0m\u001b[0;34m=\u001b[0m\u001b[0;36m2\u001b[0m\u001b[0;34m,\u001b[0m \u001b[0maxes\u001b[0m\u001b[0;34m=\u001b[0m\u001b[0;34m{\u001b[0m\u001b[0;34m-\u001b[0m\u001b[0;36m1\u001b[0m\u001b[0;34m:\u001b[0m \u001b[0mlast_dim\u001b[0m\u001b[0;34m}\u001b[0m\u001b[0;34m)\u001b[0m\u001b[0;34m\u001b[0m\u001b[0;34m\u001b[0m\u001b[0m\n",
            "\u001b[0;31mValueError\u001b[0m: The last dimension of the inputs to `Dense` should be defined. Found `None`."
          ]
        }
      ]
    },
    {
      "cell_type": "markdown",
      "metadata": {
        "id": "Ixb8eZIGiIpn"
      },
      "source": [
        "### **11.2.Backprogation.ipynb minh họa cách tính đạo hàm qua các layer phổ biến trong CNN**"
      ]
    },
    {
      "cell_type": "markdown",
      "metadata": {
        "id": "l_uMN0Dc1uQN"
      },
      "source": [
        "#### **Max pooling**"
      ]
    },
    {
      "cell_type": "markdown",
      "metadata": {
        "id": "nR6yV8ZRlZrX"
      },
      "source": [
        "Cách tính đạo hàm **max pooling (mp)**: hoạt động theo chain rule:\n",
        "\n",
        "- forward:  $ x --^{mp}--> \\hat{y} --^{loss\\_fnc}--> loss (L) $\n",
        "\n",
        "- backward: $loss --\\frac{\\partial L}{\\partial\\hat{y}}--> dloss --\\frac{\\partial dloss}{\\partial x}--> dx $\n",
        "\n",
        "Ví dụ: trong đoạn code bên dưới khi đã có data_x, data_y và kết quả sau khi forward qua maxpooling data_after, loss function được chọn là MSE $(\\hat{y} - y)^2$\n",
        "\n",
        "  + Step1: Đạo hàm loss để lấy được $dloss = \\frac{1}{n}*2* (\\pmb{\\hat{y} - y}) $, trong đó n là số lượng element trong 1 window = 4, ví dụ element đầu tiên (row=0, col=0) = $\\frac{1}{4} * 2 * (7 -1) = 3. Tương tự sẽ thu được dloss.\n",
        "\n",
        "  + Step2: Trong max pooling không có paramters nên **những vị trí nào được ghi nhận là max thì sẽ được lấy kết quả của dloss còn các vị trí khác = 0**. Gọi f(k) là max pooling thì $\n",
        "\\begin{equation}\n",
        "  f^{'}(k) = \\begin{cases}\n",
        "    k, & \\text{if it is position of max value}.\\\\\n",
        "    0, & \\text{otherwise}.\n",
        "  \\end{cases}\n",
        "\\end{equation} $\n",
        "\n",
        "\n"
      ]
    },
    {
      "cell_type": "code",
      "metadata": {
        "id": "NknVkSw-i0Zz",
        "colab": {
          "base_uri": "https://localhost:8080/"
        },
        "outputId": "c17f9f70-58c6-4daf-d831-2551dbb0f5d5"
      },
      "source": [
        "# max_pooling\n",
        "\n",
        "import tensorflow as tf\n",
        "import tensorflow.keras as keras\n",
        "import numpy as np\n",
        "\n",
        "max_pooling = keras.layers.MaxPooling2D(pool_size=2, strides=2)\n",
        "\n",
        "data_X = np.array([[1, 5, 3, 7],\n",
        "                   [7, 3, 9, 2],\n",
        "                   [3, 5, 8, 4],\n",
        "                   [8, 7, 3, 5]])\n",
        "data_X = data_X.reshape(1, 4, 4, 1)\n",
        "data_X = tf.Variable(data_X, dtype=tf.float32)\n",
        "\n",
        "data_y = np.ones((1, 2, 2, 1))\n",
        "data_y = tf.Variable(data_y, dtype=tf.float32)\n",
        "\n",
        "print('\\n\\n data_X: \\n', data_X[0,:,:,0])\n",
        "print('\\n\\n data_y: \\n', data_y[0,:,:,0])\n",
        "\n",
        "with tf.GradientTape(persistent=True) as tape:\n",
        "    data_after = max_pooling(data_X)\n",
        "    print('\\n\\n data_after: \\n', data_after[0,:,:,0])\n",
        "    \n",
        "    loss = tf.reduce_mean((data_after-data_y)**2)\n",
        "    print('\\n\\n loss: \\n', loss)\n",
        "    \n",
        "dloss = tape.gradient(loss, data_after)\n",
        "print('\\n\\n dloss: \\n', dloss[0,:,:,0])\n",
        "\n",
        "ddata_X = tape.gradient(loss, data_X)\n",
        "print('\\n\\n ddata_X: \\n', ddata_X[0,:,:,0])"
      ],
      "execution_count": null,
      "outputs": [
        {
          "output_type": "stream",
          "text": [
            "\n",
            "\n",
            " data_X: \n",
            " tf.Tensor(\n",
            "[[1. 5. 3. 7.]\n",
            " [7. 3. 9. 2.]\n",
            " [3. 5. 8. 4.]\n",
            " [8. 7. 3. 5.]], shape=(4, 4), dtype=float32)\n",
            "\n",
            "\n",
            " data_y: \n",
            " tf.Tensor(\n",
            "[[1. 1.]\n",
            " [1. 1.]], shape=(2, 2), dtype=float32)\n",
            "\n",
            "\n",
            " data_after: \n",
            " tf.Tensor(\n",
            "[[7. 9.]\n",
            " [8. 8.]], shape=(2, 2), dtype=float32)\n",
            "\n",
            "\n",
            " loss: \n",
            " tf.Tensor(49.5, shape=(), dtype=float32)\n",
            "\n",
            "\n",
            " dloss: \n",
            " tf.Tensor(\n",
            "[[3.  4. ]\n",
            " [3.5 3.5]], shape=(2, 2), dtype=float32)\n",
            "\n",
            "\n",
            " ddata_X: \n",
            " tf.Tensor(\n",
            "[[0.  0.  0.  0. ]\n",
            " [3.  0.  4.  0. ]\n",
            " [0.  0.  3.5 0. ]\n",
            " [3.5 0.  0.  0. ]], shape=(4, 4), dtype=float32)\n"
          ],
          "name": "stdout"
        }
      ]
    },
    {
      "cell_type": "markdown",
      "metadata": {
        "id": "qeP-w7mD16Pk"
      },
      "source": [
        "#### **Average pooling**"
      ]
    },
    {
      "cell_type": "markdown",
      "metadata": {
        "id": "c483YfeQ2QTX"
      },
      "source": [
        "Cách tính đạo hàm **average pooling (avp)**: hoạt động theo chain rule:\n",
        "\n",
        "- forward:  $ x --^{avp}--> \\hat{y} --^{loss\\_fnc}--> loss (L) $\n",
        "\n",
        "- backward: $loss --\\frac{\\partial L}{\\partial\\hat{y}}--> dloss --\\frac{\\partial dloss}{\\partial x}--> dx $\n",
        "\n",
        "Ví dụ: trong đoạn code bên dưới khi đã có data_x, data_y và kết quả sau khi forward qua avp được data_after, loss function được chọn là MSE $(\\hat{y} - y)^2$\n",
        "\n",
        "  + Step1: (tương tự max pooling) Đạo hàm loss để lấy được $dloss = \\frac{1}{n}*2* (\\pmb{\\hat{y} - y}) $, trong đó n là số lượng element trong 1 window sau khi qua avp = 4.\n",
        "\n",
        "  + Step2: Trong avp không có paramters nên **các vị trí sẽ là mean của dloss với size của n**. Gọi f(k) là avp thì $f^{'}(k) = fract{1}{n}*sum(\\text{all elemnt in window})$\n",
        "\n",
        "\n"
      ]
    },
    {
      "cell_type": "code",
      "metadata": {
        "colab": {
          "base_uri": "https://localhost:8080/"
        },
        "id": "5FFFr1LKlPtO",
        "outputId": "a0d0e4cb-011d-4828-b0e8-b736b8b0520b"
      },
      "source": [
        "# AveragePooling2D\n",
        "\n",
        "import tensorflow as tf\n",
        "import tensorflow.keras as keras\n",
        "import numpy as np\n",
        "\n",
        "avg_pooling = keras.layers.AveragePooling2D(pool_size=2, strides=2)\n",
        "\n",
        "data_X = np.array([[1, 5, 3, 7],\n",
        "                   [7, 3, 9, 2],\n",
        "                   [3, 5, 8, 4],\n",
        "                   [8, 7, 3, 5]])\n",
        "data_X = data_X.reshape(1, 4, 4, 1)\n",
        "data_X = tf.Variable(data_X, dtype=tf.float32)\n",
        "\n",
        "data_y = np.ones((1, 2, 2, 1))\n",
        "data_y = tf.Variable(data_y, dtype=tf.float32)\n",
        "\n",
        "print('\\n\\n data_X: \\n', data_X[0,:,:,0])\n",
        "print('\\n\\n data_y: \\n', data_y[0,:,:,0])\n",
        "\n",
        "with tf.GradientTape(persistent=True) as tape:\n",
        "    data_after = avg_pooling(data_X)\n",
        "    print('\\n\\n data_after_ap: \\n', data_after[0,:,:,0])\n",
        "    \n",
        "    loss = tf.reduce_mean((data_after-data_y)**2)\n",
        "    print('\\n\\n loss: \\n', loss)\n",
        "    \n",
        "dloss = tape.gradient(loss, data_after)\n",
        "print('\\n\\n dloss: \\n', dloss[0,:,:,0])\n",
        "\n",
        "ddata_X = tape.gradient(loss, data_X)\n",
        "print('\\n\\n ddata_X: \\n', ddata_X[0,:,:,0])"
      ],
      "execution_count": null,
      "outputs": [
        {
          "output_type": "stream",
          "text": [
            "\n",
            "\n",
            " data_X: \n",
            " tf.Tensor(\n",
            "[[1. 5. 3. 7.]\n",
            " [7. 3. 9. 2.]\n",
            " [3. 5. 8. 4.]\n",
            " [8. 7. 3. 5.]], shape=(4, 4), dtype=float32)\n",
            "\n",
            "\n",
            " data_y: \n",
            " tf.Tensor(\n",
            "[[1. 1.]\n",
            " [1. 1.]], shape=(2, 2), dtype=float32)\n",
            "\n",
            "\n",
            " data_after_ap: \n",
            " tf.Tensor(\n",
            "[[4.   5.25]\n",
            " [5.75 5.  ]], shape=(2, 2), dtype=float32)\n",
            "\n",
            "\n",
            " loss: \n",
            " tf.Tensor(16.40625, shape=(), dtype=float32)\n",
            "\n",
            "\n",
            " dloss: \n",
            " tf.Tensor(\n",
            "[[1.5   2.125]\n",
            " [2.375 2.   ]], shape=(2, 2), dtype=float32)\n",
            "\n",
            "\n",
            " ddata_X: \n",
            " tf.Tensor(\n",
            "[[0.375   0.375   0.53125 0.53125]\n",
            " [0.375   0.375   0.53125 0.53125]\n",
            " [0.59375 0.59375 0.5     0.5    ]\n",
            " [0.59375 0.59375 0.5     0.5    ]], shape=(4, 4), dtype=float32)\n"
          ],
          "name": "stdout"
        }
      ]
    },
    {
      "cell_type": "markdown",
      "metadata": {
        "id": "oDLLE3rtl14v"
      },
      "source": [
        "#### **Convolution**"
      ]
    },
    {
      "cell_type": "markdown",
      "metadata": {
        "id": "tj0H_pmKGrKV"
      },
      "source": [
        "Tương tự các step như max pooling và average pooling. Hơn thế nữa, có điểm lưu ý là, **vì mỗi 1 element trong window đều có parameter nên khi forward và backward đều phải lấy sum của toàn bộ các elements tham gia**. "
      ]
    },
    {
      "cell_type": "code",
      "metadata": {
        "colab": {
          "base_uri": "https://localhost:8080/"
        },
        "id": "BSYqtv9g2KbI",
        "outputId": "dfdff4e1-e478-4c1d-dd4d-69d933d2e463"
      },
      "source": [
        "import tensorflow as tf\n",
        "import tensorflow.keras as keras\n",
        "import numpy as np\n",
        "\n",
        "conv2D = keras.layers.Conv2D(1, (2, 2), activation='relu')\n",
        "\n",
        "data_X = np.array([[1, 1, 2],\n",
        "                   [1, 2, 1],\n",
        "                   [2, 1, 1]])\n",
        "data_X = data_X.reshape(1, 3, 3, 1)\n",
        "data_X = tf.Variable(data_X, dtype=tf.float32)\n",
        "\n",
        "data_y = np.ones((1, 2, 2, 1))\n",
        "data_y = tf.Variable(data_y, dtype=tf.float32)\n",
        "\n",
        "print('\\n\\n data_X: \\n', data_X[0,:,:,0])\n",
        "print('\\n\\n data_y: \\n', data_y[0,:,:,0])\n",
        "\n",
        "with tf.GradientTape(persistent=True) as tape: \n",
        "    data_after_conv = conv2D(data_X)\n",
        "    print('\\n\\n data_after_conv: \\n', data_after_conv[0,:,:,0])\n",
        "    \n",
        "    # Check the values of the current conv weight\n",
        "    print('\\n\\n conv_weight: \\n', conv2D.trainable_weights[0][:,:,0,0])\n",
        "    print('\\n conv_bias: \\n', conv2D.trainable_weights[1][0])\n",
        "        \n",
        "    loss = tf.reduce_mean((data_after_conv-data_y)**2)\n",
        "    print('\\n\\n loss: \\n', loss)\n",
        "    \n",
        "dloss = tape.gradient(loss, data_after_conv)\n",
        "print('\\n\\n dloss: \\n', dloss[0,:,:,0])\n",
        "\n",
        "dconv_weight = tape.gradient(loss, conv2D.trainable_weights)\n",
        "print('\\n\\n dconv_weight: \\n', dconv_weight[0][:,:,0,0])\n",
        "print('\\n dconv_bias: \\n', dconv_weight[1][0])"
      ],
      "execution_count": null,
      "outputs": [
        {
          "output_type": "stream",
          "text": [
            "\n",
            "\n",
            " data_X: \n",
            " tf.Tensor(\n",
            "[[1. 1. 2.]\n",
            " [1. 2. 1.]\n",
            " [2. 1. 1.]], shape=(3, 3), dtype=float32)\n",
            "\n",
            "\n",
            " data_y: \n",
            " tf.Tensor(\n",
            "[[1. 1.]\n",
            " [1. 1.]], shape=(2, 2), dtype=float32)\n",
            "\n",
            "\n",
            " data_after_conv: \n",
            " tf.Tensor(\n",
            "[[1.2144129  0.2172432 ]\n",
            " [0.2172432  0.40390164]], shape=(2, 2), dtype=float32)\n",
            "\n",
            "\n",
            " conv_weight: \n",
            " tf.Tensor(\n",
            "[[-0.05498779  0.24154454]\n",
            " [-0.48319083  0.7555235 ]], shape=(2, 2), dtype=float32)\n",
            "\n",
            " conv_bias: \n",
            " tf.Tensor(0.0, shape=(), dtype=float32)\n",
            "\n",
            "\n",
            " loss: \n",
            " tf.Tensor(0.40668064, shape=(), dtype=float32)\n",
            "\n",
            "\n",
            " dloss: \n",
            " tf.Tensor(\n",
            "[[ 0.10720646 -0.3913784 ]\n",
            " [-0.3913784  -0.29804918]], shape=(2, 2), dtype=float32)\n",
            "\n",
            "\n",
            " dconv_weight: \n",
            " tf.Tensor(\n",
            "[[-1.2716486 -1.7563564]\n",
            " [-1.7563564 -0.8663931]], shape=(2, 2), dtype=float32)\n",
            "\n",
            " dconv_bias: \n",
            " tf.Tensor(-0.97359955, shape=(), dtype=float32)\n"
          ],
          "name": "stdout"
        }
      ]
    },
    {
      "cell_type": "markdown",
      "metadata": {
        "id": "Yv8pnTG53mY3"
      },
      "source": [
        "2) (Optional) Các bạn dựa vào file “11.4.VGG16.ipynb”, thiết kế model tương\n",
        "tự VGG và\n",
        " Áp dụng cho dataset Fashion-MNIST.\n",
        " Áp dụng cho dataset Cifar10"
      ]
    },
    {
      "cell_type": "markdown",
      "metadata": {
        "id": "WNTekuPGOlMX"
      },
      "source": [
        "#### **Áp dụng cho dataset Fashion-MNIST**\n",
        "\n",
        "> Indented block\n",
        "\n"
      ]
    },
    {
      "cell_type": "code",
      "metadata": {
        "id": "6btXZ5L8genO"
      },
      "source": [
        "import tensorflow as tf\n",
        "import numpy as np\n",
        "import tensorflow.keras as keras\n",
        "from tensorflow.keras.layers import Flatten, Dense, Convolution2D, MaxPooling2D\n",
        "\n",
        "(x_train, y_train), (x_test, y_test) = tf.keras.datasets.fashion_mnist.load_data()"
      ],
      "execution_count": 47,
      "outputs": []
    },
    {
      "cell_type": "code",
      "metadata": {
        "colab": {
          "base_uri": "https://localhost:8080/"
        },
        "id": "HALehapqgfJk",
        "outputId": "f20ca261-0a5f-460d-8f49-302771f7eebc"
      },
      "source": [
        "print(x_train.shape)\n",
        "print(x_test.shape)"
      ],
      "execution_count": 48,
      "outputs": [
        {
          "output_type": "stream",
          "text": [
            "(60000, 28, 28)\n",
            "(10000, 28, 28)\n"
          ],
          "name": "stdout"
        }
      ]
    },
    {
      "cell_type": "code",
      "metadata": {
        "id": "fFTzl7qRgfOI"
      },
      "source": [
        "def normalize_features_data(data):\n",
        "  if len(data.shape) == 3:\n",
        "    b, h, w = data.shape\n",
        "    c = 1\n",
        "  else:\n",
        "    b, h, w, c = data.shape\n",
        "  features_mean = np.mean(data, axis=(1,2)).reshape(b,1,c)\n",
        "  features_stdd = np.mean(data, axis=(1,2)).reshape(b,1,c)\n",
        "  new_data = data.reshape(b, w*h, c)\n",
        "  normalized_data = (new_data-features_mean)/features_stdd\n",
        "  return normalized_data.reshape(b,h,w, c)\n",
        "\n",
        "x_train = normalize_features_data(x_train)\n",
        "x_test = normalize_features_data(x_test)"
      ],
      "execution_count": 49,
      "outputs": []
    },
    {
      "cell_type": "code",
      "metadata": {
        "colab": {
          "base_uri": "https://localhost:8080/"
        },
        "id": "NSmtCBfK3GW6",
        "outputId": "a027a835-a0d3-49f1-e494-60ade14937eb"
      },
      "source": [
        "print(x_train.shape)\n",
        "print(x_test.shape)"
      ],
      "execution_count": 50,
      "outputs": [
        {
          "output_type": "stream",
          "text": [
            "(60000, 28, 28, 1)\n",
            "(10000, 28, 28, 1)\n"
          ],
          "name": "stdout"
        }
      ]
    },
    {
      "cell_type": "markdown",
      "metadata": {
        "id": "kUew-AL-2r6E"
      },
      "source": [
        "**Bởi vì kích thước của ảnh là 28x28 và trong khi model VGG16 configuration D nguyên mẫu sẽ trải qua 5 lần max pooling thì kích thước ảnh sẽ giả đi $2^5=32$ lần. Do đó ảnh sẽ được resize về kích thước 64x64**\n",
        "\n",
        "![image_vgg](https://neurohive.io/wp-content/uploads/2018/11/Capture-564x570.jpg)"
      ]
    },
    {
      "cell_type": "code",
      "metadata": {
        "id": "BrjpLUhVgfQ5"
      },
      "source": [
        "def VGG16_Model(input_shape):\n",
        "  def two_conv(filters, kernel_size, model):\n",
        "    model.add(Convolution2D(filters=filters, kernel_size=kernel_size, padding='same', activation='relu'))\n",
        "    model.add(Convolution2D(filters=filters, kernel_size=kernel_size, padding='same', activation='relu'))\n",
        "    model.add(MaxPooling2D(pool_size=(2,2), strides=(2,2)))\n",
        "    return model\n",
        "\n",
        "  def three_conv(filters, kernel_size, model):\n",
        "    model.add(Convolution2D(filters=filters, kernel_size=kernel_size, padding='same', activation='relu'))\n",
        "    model.add(Convolution2D(filters=filters, kernel_size=kernel_size, padding='same', activation='relu'))\n",
        "    model.add(Convolution2D(filters=filters, kernel_size=kernel_size, padding='same', activation='relu'))\n",
        "    model.add(MaxPooling2D(pool_size=(2,2), strides=(2,2)))\n",
        "    return model \n",
        "\n",
        "  height = width = 64 \n",
        "  model = keras.models.Sequential()\n",
        "  model.add(keras.layers.Input(shape=input_shape))\n",
        "  model.add(tf.keras.layers.experimental.preprocessing.Resizing(height=height, width=width, interpolation=\"bicubic\"))\n",
        "\n",
        "  model = two_conv(filters=64, kernel_size=3, model=model)\n",
        "  model = two_conv(filters=128, kernel_size=3, model=model)\n",
        "  model = three_conv(filters=256, kernel_size=3, model=model)\n",
        "  model = three_conv(filters=512, kernel_size=3, model=model)\n",
        "  model = three_conv(filters=512, kernel_size=3, model=model)\n",
        "\n",
        "  model.add(Flatten())\n",
        "  model.add(Dense(units=4096, activation='relu'))\n",
        "  model.add(Dense(units=4096, activation='relu'))\n",
        "  model.add(Dense(units=10, activation='softmax'))\n",
        "\n",
        "  return model\n",
        "\n",
        "\n"
      ],
      "execution_count": 19,
      "outputs": []
    },
    {
      "cell_type": "code",
      "metadata": {
        "colab": {
          "base_uri": "https://localhost:8080/"
        },
        "id": "a14_prD3gfTr",
        "outputId": "52aba58e-156e-48e1-b964-b5d385b365d2"
      },
      "source": [
        "VGG16_fashion_mnist = VGG16_Model((28,28,1))\n",
        "VGG16_fashion_mnist.summary()"
      ],
      "execution_count": 51,
      "outputs": [
        {
          "output_type": "stream",
          "text": [
            "Model: \"sequential_5\"\n",
            "_________________________________________________________________\n",
            "Layer (type)                 Output Shape              Param #   \n",
            "=================================================================\n",
            "resizing_5 (Resizing)        (None, 64, 64, 1)         0         \n",
            "_________________________________________________________________\n",
            "conv2d_65 (Conv2D)           (None, 64, 64, 64)        640       \n",
            "_________________________________________________________________\n",
            "conv2d_66 (Conv2D)           (None, 64, 64, 64)        36928     \n",
            "_________________________________________________________________\n",
            "max_pooling2d_25 (MaxPooling (None, 32, 32, 64)        0         \n",
            "_________________________________________________________________\n",
            "conv2d_67 (Conv2D)           (None, 32, 32, 128)       73856     \n",
            "_________________________________________________________________\n",
            "conv2d_68 (Conv2D)           (None, 32, 32, 128)       147584    \n",
            "_________________________________________________________________\n",
            "max_pooling2d_26 (MaxPooling (None, 16, 16, 128)       0         \n",
            "_________________________________________________________________\n",
            "conv2d_69 (Conv2D)           (None, 16, 16, 256)       295168    \n",
            "_________________________________________________________________\n",
            "conv2d_70 (Conv2D)           (None, 16, 16, 256)       590080    \n",
            "_________________________________________________________________\n",
            "conv2d_71 (Conv2D)           (None, 16, 16, 256)       590080    \n",
            "_________________________________________________________________\n",
            "max_pooling2d_27 (MaxPooling (None, 8, 8, 256)         0         \n",
            "_________________________________________________________________\n",
            "conv2d_72 (Conv2D)           (None, 8, 8, 512)         1180160   \n",
            "_________________________________________________________________\n",
            "conv2d_73 (Conv2D)           (None, 8, 8, 512)         2359808   \n",
            "_________________________________________________________________\n",
            "conv2d_74 (Conv2D)           (None, 8, 8, 512)         2359808   \n",
            "_________________________________________________________________\n",
            "max_pooling2d_28 (MaxPooling (None, 4, 4, 512)         0         \n",
            "_________________________________________________________________\n",
            "conv2d_75 (Conv2D)           (None, 4, 4, 512)         2359808   \n",
            "_________________________________________________________________\n",
            "conv2d_76 (Conv2D)           (None, 4, 4, 512)         2359808   \n",
            "_________________________________________________________________\n",
            "conv2d_77 (Conv2D)           (None, 4, 4, 512)         2359808   \n",
            "_________________________________________________________________\n",
            "max_pooling2d_29 (MaxPooling (None, 2, 2, 512)         0         \n",
            "_________________________________________________________________\n",
            "flatten_5 (Flatten)          (None, 2048)              0         \n",
            "_________________________________________________________________\n",
            "dense_15 (Dense)             (None, 4096)              8392704   \n",
            "_________________________________________________________________\n",
            "dense_16 (Dense)             (None, 4096)              16781312  \n",
            "_________________________________________________________________\n",
            "dense_17 (Dense)             (None, 10)                40970     \n",
            "=================================================================\n",
            "Total params: 39,928,522\n",
            "Trainable params: 39,928,522\n",
            "Non-trainable params: 0\n",
            "_________________________________________________________________\n"
          ],
          "name": "stdout"
        }
      ]
    },
    {
      "cell_type": "markdown",
      "metadata": {
        "id": "ya21opLG6DVr"
      },
      "source": [
        "**optimizer dùng SGD với learning rate 0.01, momentum 0.9, khi train dùng batchsize 256 như lời đề nghị trong paper**"
      ]
    },
    {
      "cell_type": "code",
      "metadata": {
        "colab": {
          "base_uri": "https://localhost:8080/"
        },
        "id": "BdCemE0cgfWG",
        "outputId": "38382fbe-c069-473a-aa04-2833b3f13ff8"
      },
      "source": [
        "opt = tf.keras.optimizers.SGD(\n",
        "    learning_rate=0.01, momentum=0.9)\n",
        "VGG16_fashion_mnist.compile(optimizer=opt,\n",
        "              loss=tf.keras.losses.SparseCategoricalCrossentropy(),\n",
        "              metrics=['accuracy'])\n",
        "history = VGG16_fashion_mnist.fit(x_train, y_train, validation_data=(x_test, y_test),\n",
        "                    batch_size=256, epochs=15)"
      ],
      "execution_count": 52,
      "outputs": [
        {
          "output_type": "stream",
          "text": [
            "Epoch 1/15\n",
            "235/235 [==============================] - 130s 551ms/step - loss: 2.2827 - accuracy: 0.1418 - val_loss: 2.3000 - val_accuracy: 0.1362\n",
            "Epoch 2/15\n",
            "235/235 [==============================] - 130s 553ms/step - loss: 2.0397 - accuracy: 0.2153 - val_loss: 0.9567 - val_accuracy: 0.6201\n",
            "Epoch 3/15\n",
            "235/235 [==============================] - 130s 554ms/step - loss: 0.7084 - accuracy: 0.7372 - val_loss: 0.5371 - val_accuracy: 0.8093\n",
            "Epoch 4/15\n",
            "235/235 [==============================] - 130s 555ms/step - loss: 0.4418 - accuracy: 0.8359 - val_loss: 0.4131 - val_accuracy: 0.8481\n",
            "Epoch 5/15\n",
            "235/235 [==============================] - 130s 555ms/step - loss: 0.3676 - accuracy: 0.8628 - val_loss: 0.3846 - val_accuracy: 0.8593\n",
            "Epoch 6/15\n",
            "235/235 [==============================] - 131s 557ms/step - loss: 0.3343 - accuracy: 0.8769 - val_loss: 0.3441 - val_accuracy: 0.8698\n",
            "Epoch 7/15\n",
            "235/235 [==============================] - 131s 556ms/step - loss: 0.2982 - accuracy: 0.8875 - val_loss: 0.3467 - val_accuracy: 0.8736\n",
            "Epoch 8/15\n",
            "235/235 [==============================] - 131s 557ms/step - loss: 0.2772 - accuracy: 0.8972 - val_loss: 0.2944 - val_accuracy: 0.8923\n",
            "Epoch 9/15\n",
            "235/235 [==============================] - 130s 555ms/step - loss: 0.2550 - accuracy: 0.9038 - val_loss: 0.2815 - val_accuracy: 0.8988\n",
            "Epoch 10/15\n",
            "235/235 [==============================] - 131s 556ms/step - loss: 0.2371 - accuracy: 0.9111 - val_loss: 0.2734 - val_accuracy: 0.8989\n",
            "Epoch 11/15\n",
            "235/235 [==============================] - 131s 558ms/step - loss: 0.2214 - accuracy: 0.9158 - val_loss: 0.2788 - val_accuracy: 0.9005\n",
            "Epoch 12/15\n",
            "235/235 [==============================] - 131s 558ms/step - loss: 0.2044 - accuracy: 0.9227 - val_loss: 0.2632 - val_accuracy: 0.9061\n",
            "Epoch 13/15\n",
            "235/235 [==============================] - 131s 558ms/step - loss: 0.1835 - accuracy: 0.9311 - val_loss: 0.2360 - val_accuracy: 0.9124\n",
            "Epoch 14/15\n",
            "235/235 [==============================] - 131s 557ms/step - loss: 0.1654 - accuracy: 0.9379 - val_loss: 0.2372 - val_accuracy: 0.9153\n",
            "Epoch 15/15\n",
            "235/235 [==============================] - 131s 556ms/step - loss: 0.1548 - accuracy: 0.9429 - val_loss: 0.2589 - val_accuracy: 0.9090\n"
          ],
          "name": "stdout"
        }
      ]
    },
    {
      "cell_type": "code",
      "metadata": {
        "colab": {
          "base_uri": "https://localhost:8080/",
          "height": 283
        },
        "id": "5r0kGxSIz2Jl",
        "outputId": "8e3aa010-26b7-468d-9061-31f8e1c12ab4"
      },
      "source": [
        "import matplotlib.pyplot as plt\n",
        "plt.plot(history.history['accuracy'], label='train_accuracy')\n",
        "plt.plot(history.history['val_accuracy'], label='val_accuracy')\n",
        "# plt.xlabel('epoch')\n",
        "# plt.ylabel('accuracy')\n",
        "plt.legend()"
      ],
      "execution_count": 63,
      "outputs": [
        {
          "output_type": "execute_result",
          "data": {
            "text/plain": [
              "<matplotlib.legend.Legend at 0x7f153767b0b8>"
            ]
          },
          "metadata": {
            "tags": []
          },
          "execution_count": 63
        },
        {
          "output_type": "display_data",
          "data": {
            "image/png": "[encoded data removed]",
            "text/plain": [
              "<Figure size 432x288 with 1 Axes>"
            ]
          },
          "metadata": {
            "tags": [],
            "needs_background": "light"
          }
        }
      ]
    },
    {
      "cell_type": "code",
      "metadata": {
        "colab": {
          "base_uri": "https://localhost:8080/",
          "height": 283
        },
        "id": "7Q_pXI3M0Y76",
        "outputId": "43ce8194-0a22-4326-fa7f-9bffcc370cda"
      },
      "source": [
        "plt.plot(history.history['loss'], label='train_loss')\n",
        "plt.plot(history.history['val_loss'], label='val_loss')\n",
        "# plt.xlabel('epoch')\n",
        "# plt.ylabel('loss')\n",
        "plt.legend()"
      ],
      "execution_count": 62,
      "outputs": [
        {
          "output_type": "execute_result",
          "data": {
            "text/plain": [
              "<matplotlib.legend.Legend at 0x7f15376d2898>"
            ]
          },
          "metadata": {
            "tags": []
          },
          "execution_count": 62
        },
        {
          "output_type": "display_data",
          "data": {
            "image/png": "[encoded data removed]",
            "text/plain": [
              "<Figure size 432x288 with 1 Axes>"
            ]
          },
          "metadata": {
            "tags": [],
            "needs_background": "light"
          }
        }
      ]
    },
    {
      "cell_type": "markdown",
      "metadata": {
        "id": "lOTbJMUIgfY_"
      },
      "source": [
        "#### **Áp dụng cho dataset CIFAR10**\n"
      ]
    },
    {
      "cell_type": "markdown",
      "metadata": {
        "id": "3P6qpaHW5GmP"
      },
      "source": [
        "**Tương tự như data fashion mnist 1 bức ảnh CIFAR10 có kích thước là 32x32x3 do đó khi đưa vào VGG16 (giảm đi 32 lần ơp layer cuối cùng trong extractor do đó sẽ được resize lại với kích thước là 64x64x3 và cấu hình training tương tự**"
      ]
    },
    {
      "cell_type": "code",
      "metadata": {
        "id": "ruQQQkh5v_1X"
      },
      "source": [
        "import tensorflow as tf\n",
        "import numpy as np\n",
        "import tensorflow.keras as keras\n",
        "from tensorflow.keras.layers import Flatten, Dense, Convolution2D, MaxPooling2D\n",
        "\n",
        "(x_train, y_train), (x_test, y_test) = tf.keras.datasets.cifar10.load_data()"
      ],
      "execution_count": 35,
      "outputs": []
    },
    {
      "cell_type": "code",
      "metadata": {
        "colab": {
          "base_uri": "https://localhost:8080/"
        },
        "id": "ULrKwBWWwlLs",
        "outputId": "3421360e-ae8d-4359-a0b2-d851a65056aa"
      },
      "source": [
        "print(x_train.shape)\n",
        "print(x_test.shape)"
      ],
      "execution_count": 36,
      "outputs": [
        {
          "output_type": "stream",
          "text": [
            "(50000, 32, 32, 3)\n",
            "(10000, 32, 32, 3)\n"
          ],
          "name": "stdout"
        }
      ]
    },
    {
      "cell_type": "code",
      "metadata": {
        "id": "GsaAH2cCws5R"
      },
      "source": [
        "\n",
        "x_train = normalize_features_data(x_train)\n",
        "x_test = normalize_features_data(x_test)"
      ],
      "execution_count": 37,
      "outputs": []
    },
    {
      "cell_type": "code",
      "metadata": {
        "colab": {
          "base_uri": "https://localhost:8080/"
        },
        "id": "yy_76Xla3bF-",
        "outputId": "88c2aa13-2fc8-4662-83e6-7eebac6d403a"
      },
      "source": [
        "print(x_train.shape)\n",
        "print(x_test.shape)"
      ],
      "execution_count": 40,
      "outputs": [
        {
          "output_type": "stream",
          "text": [
            "(50000, 32, 32, 3)\n",
            "(10000, 32, 32, 3)\n"
          ],
          "name": "stdout"
        }
      ]
    },
    {
      "cell_type": "code",
      "metadata": {
        "colab": {
          "base_uri": "https://localhost:8080/"
        },
        "id": "kHvWLifVwsTm",
        "outputId": "7d36c428-77db-4bf7-a4b7-5797b9f80e6c"
      },
      "source": [
        "VGG16_cifar10 = VGG16_Model((32,32,3))\n",
        "VGG16_cifar10.summary()"
      ],
      "execution_count": 41,
      "outputs": [
        {
          "output_type": "stream",
          "text": [
            "Model: \"sequential_4\"\n",
            "_________________________________________________________________\n",
            "Layer (type)                 Output Shape              Param #   \n",
            "=================================================================\n",
            "resizing_4 (Resizing)        (None, 64, 64, 3)         0         \n",
            "_________________________________________________________________\n",
            "conv2d_52 (Conv2D)           (None, 64, 64, 64)        1792      \n",
            "_________________________________________________________________\n",
            "conv2d_53 (Conv2D)           (None, 64, 64, 64)        36928     \n",
            "_________________________________________________________________\n",
            "max_pooling2d_20 (MaxPooling (None, 32, 32, 64)        0         \n",
            "_________________________________________________________________\n",
            "conv2d_54 (Conv2D)           (None, 32, 32, 128)       73856     \n",
            "_________________________________________________________________\n",
            "conv2d_55 (Conv2D)           (None, 32, 32, 128)       147584    \n",
            "_________________________________________________________________\n",
            "max_pooling2d_21 (MaxPooling (None, 16, 16, 128)       0         \n",
            "_________________________________________________________________\n",
            "conv2d_56 (Conv2D)           (None, 16, 16, 256)       295168    \n",
            "_________________________________________________________________\n",
            "conv2d_57 (Conv2D)           (None, 16, 16, 256)       590080    \n",
            "_________________________________________________________________\n",
            "conv2d_58 (Conv2D)           (None, 16, 16, 256)       590080    \n",
            "_________________________________________________________________\n",
            "max_pooling2d_22 (MaxPooling (None, 8, 8, 256)         0         \n",
            "_________________________________________________________________\n",
            "conv2d_59 (Conv2D)           (None, 8, 8, 512)         1180160   \n",
            "_________________________________________________________________\n",
            "conv2d_60 (Conv2D)           (None, 8, 8, 512)         2359808   \n",
            "_________________________________________________________________\n",
            "conv2d_61 (Conv2D)           (None, 8, 8, 512)         2359808   \n",
            "_________________________________________________________________\n",
            "max_pooling2d_23 (MaxPooling (None, 4, 4, 512)         0         \n",
            "_________________________________________________________________\n",
            "conv2d_62 (Conv2D)           (None, 4, 4, 512)         2359808   \n",
            "_________________________________________________________________\n",
            "conv2d_63 (Conv2D)           (None, 4, 4, 512)         2359808   \n",
            "_________________________________________________________________\n",
            "conv2d_64 (Conv2D)           (None, 4, 4, 512)         2359808   \n",
            "_________________________________________________________________\n",
            "max_pooling2d_24 (MaxPooling (None, 2, 2, 512)         0         \n",
            "_________________________________________________________________\n",
            "flatten_4 (Flatten)          (None, 2048)              0         \n",
            "_________________________________________________________________\n",
            "dense_12 (Dense)             (None, 4096)              8392704   \n",
            "_________________________________________________________________\n",
            "dense_13 (Dense)             (None, 4096)              16781312  \n",
            "_________________________________________________________________\n",
            "dense_14 (Dense)             (None, 10)                40970     \n",
            "=================================================================\n",
            "Total params: 39,929,674\n",
            "Trainable params: 39,929,674\n",
            "Non-trainable params: 0\n",
            "_________________________________________________________________\n"
          ],
          "name": "stdout"
        }
      ]
    },
    {
      "cell_type": "code",
      "metadata": {
        "colab": {
          "base_uri": "https://localhost:8080/"
        },
        "id": "pviQ52WRw00L",
        "outputId": "ba40f000-dc1a-406c-c231-c802111655e9"
      },
      "source": [
        "opt = tf.keras.optimizers.SGD(\n",
        "    learning_rate=0.01, momentum=0.9)\n",
        "VGG16_cifar10.compile(optimizer=opt,\n",
        "              loss=tf.keras.losses.SparseCategoricalCrossentropy(),\n",
        "              metrics=['accuracy'])\n",
        "history = VGG16_cifar10.fit(x_train, y_train, validation_data=(x_test, y_test),\n",
        "                    batch_size=256, epochs=15)"
      ],
      "execution_count": 42,
      "outputs": [
        {
          "output_type": "stream",
          "text": [
            "Epoch 1/15\n",
            "196/196 [==============================] - 113s 569ms/step - loss: 2.3015 - accuracy: 0.1094 - val_loss: 2.2750 - val_accuracy: 0.1594\n",
            "Epoch 2/15\n",
            "196/196 [==============================] - 109s 558ms/step - loss: 2.1692 - accuracy: 0.2203 - val_loss: 1.7514 - val_accuracy: 0.3705\n",
            "Epoch 3/15\n",
            "196/196 [==============================] - 109s 558ms/step - loss: 1.7628 - accuracy: 0.3665 - val_loss: 1.8188 - val_accuracy: 0.3576\n",
            "Epoch 4/15\n",
            "196/196 [==============================] - 109s 558ms/step - loss: 1.5549 - accuracy: 0.4397 - val_loss: 1.4506 - val_accuracy: 0.4754\n",
            "Epoch 5/15\n",
            "196/196 [==============================] - 110s 559ms/step - loss: 1.3084 - accuracy: 0.5293 - val_loss: 1.3292 - val_accuracy: 0.5348\n",
            "Epoch 6/15\n",
            "196/196 [==============================] - 110s 559ms/step - loss: 1.1089 - accuracy: 0.6062 - val_loss: 1.0286 - val_accuracy: 0.6405\n",
            "Epoch 7/15\n",
            "196/196 [==============================] - 110s 560ms/step - loss: 0.8737 - accuracy: 0.6956 - val_loss: 0.8675 - val_accuracy: 0.7029\n",
            "Epoch 8/15\n",
            "196/196 [==============================] - 110s 559ms/step - loss: 0.7275 - accuracy: 0.7472 - val_loss: 0.8102 - val_accuracy: 0.7247\n",
            "Epoch 9/15\n",
            "196/196 [==============================] - 110s 559ms/step - loss: 0.5875 - accuracy: 0.7940 - val_loss: 0.7548 - val_accuracy: 0.7449\n",
            "Epoch 10/15\n",
            "196/196 [==============================] - 110s 559ms/step - loss: 0.4630 - accuracy: 0.8386 - val_loss: 0.7491 - val_accuracy: 0.7521\n",
            "Epoch 11/15\n",
            "196/196 [==============================] - 110s 560ms/step - loss: 0.3545 - accuracy: 0.8763 - val_loss: 0.7981 - val_accuracy: 0.7434\n",
            "Epoch 12/15\n",
            "196/196 [==============================] - 110s 559ms/step - loss: 0.2798 - accuracy: 0.9015 - val_loss: 0.8708 - val_accuracy: 0.7407\n",
            "Epoch 13/15\n",
            "196/196 [==============================] - 110s 560ms/step - loss: 0.2111 - accuracy: 0.9256 - val_loss: 1.0052 - val_accuracy: 0.7443\n",
            "Epoch 14/15\n",
            "196/196 [==============================] - 110s 559ms/step - loss: 0.1576 - accuracy: 0.9447 - val_loss: 0.9670 - val_accuracy: 0.7622\n",
            "Epoch 15/15\n",
            "196/196 [==============================] - 110s 559ms/step - loss: 0.1188 - accuracy: 0.9584 - val_loss: 0.9807 - val_accuracy: 0.7679\n"
          ],
          "name": "stdout"
        }
      ]
    },
    {
      "cell_type": "code",
      "metadata": {
        "colab": {
          "base_uri": "https://localhost:8080/",
          "height": 297
        },
        "id": "xSawuBdv4Lxm",
        "outputId": "3307ef23-399a-4c0a-83e0-153539d78937"
      },
      "source": [
        "import matplotlib.pyplot as plt\n",
        "plt.plot(history.history['accuracy'], label='train_accuracy')\n",
        "plt.plot(history.history['val_accuracy'], label='val_accuracy')\n",
        "plt.xlabel('step')\n",
        "plt.ylabel('accuracy')\n",
        "plt.legend()"
      ],
      "execution_count": 45,
      "outputs": [
        {
          "output_type": "execute_result",
          "data": {
            "text/plain": [
              "<matplotlib.legend.Legend at 0x7f153acefc18>"
            ]
          },
          "metadata": {
            "tags": []
          },
          "execution_count": 45
        },
        {
          "output_type": "display_data",
          "data": {
            "image/png": "[encoded data removed]",
            "text/plain": [
              "<Figure size 432x288 with 1 Axes>"
            ]
          },
          "metadata": {
            "tags": [],
            "needs_background": "light"
          }
        }
      ]
    },
    {
      "cell_type": "code",
      "metadata": {
        "colab": {
          "base_uri": "https://localhost:8080/",
          "height": 297
        },
        "id": "Xhmh5vnj4veV",
        "outputId": "d089abbe-34fc-4e09-8648-da14e8c8efd1"
      },
      "source": [
        "plt.plot(history.history['loss'], label='train_loss')\n",
        "plt.plot(history.history['val_loss'], label='val_loss')\n",
        "plt.xlabel('step')\n",
        "plt.ylabel('loss')\n",
        "plt.legend()"
      ],
      "execution_count": 46,
      "outputs": [
        {
          "output_type": "execute_result",
          "data": {
            "text/plain": [
              "<matplotlib.legend.Legend at 0x7f1533775e48>"
            ]
          },
          "metadata": {
            "tags": []
          },
          "execution_count": 46
        },
        {
          "output_type": "display_data",
          "data": {
            "image/png": "[encoded data removed]",
            "text/plain": [
              "<Figure size 432x288 with 1 Axes>"
            ]
          },
          "metadata": {
            "tags": [],
            "needs_background": "light"
          }
        }
      ]
    },
    {
      "cell_type": "code",
      "metadata": {
        "id": "48cqT_Kh3W0i"
      },
      "source": [
        ""
      ],
      "execution_count": null,
      "outputs": []
    }
  ]
}